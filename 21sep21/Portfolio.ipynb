{
 "cells": [
  {
   "cell_type": "code",
   "execution_count": 1,
   "id": "9f259488",
   "metadata": {},
   "outputs": [],
   "source": [
    "import numpy as np\n",
    "import pandas as pd \n",
    "import plotly.express as px\n",
    "\n",
    "import shap\n",
    "from more_itertools import windowed\n",
    "from tqdm.notebook import tqdm\n",
    "import ipywidgets as widgets\n",
    "widgets.IntSlider()\n",
    "\n",
    "from sklearn.model_selection import train_test_split\n",
    "from sklearn.metrics import accuracy_score, recall_score, precision_score, f1_score, log_loss\n",
    "from sklearn.metrics import confusion_matrix, classification_report\n",
    "import seaborn as sns\n",
    "import lightgbm as lgb\n",
    "\n",
    "from pyomo.environ import *\n",
    "from pyomo import *\n",
    "\n",
    "import optuna\n",
    "from optuna.integration import LightGBMPruningCallback\n",
    "\n",
    "pd.set_option('display.max_rows', 50)\n",
    "%matplotlib inline\n",
    "%load_ext autoreload\n",
    "%autoreload 2"
   ]
  },
  {
   "cell_type": "code",
   "execution_count": 2,
   "id": "8cb92cfa",
   "metadata": {},
   "outputs": [],
   "source": [
    "def convert_to_multiindex(df):\n",
    "    df = df.groupby(level=0).apply(lambda x: x.set_index('date').resample('1M').last())\n",
    "    df = df.reset_index()\n",
    "    df = df.set_index(['date','ticker']).sort_index()\n",
    "    return df\n",
    "\n",
    "def rolling_returns(df, roll_list, col_list):\n",
    "    temp = pd.DataFrame(index=df.index)\n",
    "    with tqdm(total=len(col_list)*len(roll_list)) as pbar:\n",
    "        for col in col_list:\n",
    "            for roll in roll_list:\n",
    "                roll_col_name = f'rolling_{col}_{roll}M'\n",
    "                rolled_col = df[col].unstack().pct_change(roll).stack()\n",
    "                temp[roll_col_name] = rolled_col\n",
    "                pbar.update(1)\n",
    "\n",
    "    longest_roll = max(roll_list)           \n",
    "    mask = df.index.get_level_values(0).unique()[longest_roll]        \n",
    "    temp = temp.loc[mask:]  \n",
    "    df = df.join(temp, how = 'right')\n",
    "    return df"
   ]
  },
  {
   "cell_type": "markdown",
   "id": "2d741d8f",
   "metadata": {},
   "source": [
    "# Sharadar Data"
   ]
  },
  {
   "cell_type": "code",
   "execution_count": 3,
   "id": "b47b7233",
   "metadata": {},
   "outputs": [
    {
     "name": "stdout",
     "output_type": "stream",
     "text": [
      "Wall time: 9.76 s\n"
     ]
    }
   ],
   "source": [
    "%%time\n",
    "financials_raw = pd.read_csv('data/financials.csv', parse_dates=['date'])\n",
    "sec_master_raw = pd.read_csv('data/sec_master.csv')\n",
    "sep_raw = pd.read_csv('data/sep.csv', parse_dates=['date'])\n",
    "sf1_raw = pd.read_csv('data/sf1.csv', parse_dates=['calendardate'])\n",
    "sp500_constituents_raw = pd.read_csv('data/sp500_constituents.csv', parse_dates=['date'])\n",
    "\n",
    "sec_master_raw = sec_master_raw.set_index('ticker') # Align ticker index\n",
    "sf1_raw.rename(columns={'calendardate':'date'}, inplace=True)"
   ]
  },
  {
   "cell_type": "markdown",
   "id": "c2e2cb8a",
   "metadata": {},
   "source": [
    "# Macro Data"
   ]
  },
  {
   "cell_type": "code",
   "execution_count": 69,
   "id": "a79d08e8",
   "metadata": {},
   "outputs": [
    {
     "name": "stdout",
     "output_type": "stream",
     "text": [
      "Wall time: 1.43 s\n"
     ]
    }
   ],
   "source": [
    "%%time\n",
    "rates_raw = pd.read_csv('data/rates.csv', parse_dates=['date'])\n",
    "rates = rates_raw.set_index('date')\n",
    "rates = rates.resample('1M').last()\n",
    "\n",
    "vix_raw = pd.read_csv('data/vix.csv', parse_dates=['date'])\n",
    "vix = vix_raw.set_index('date')\n",
    "vix = vix.resample('1M').last()\n",
    "vix = vix.rename(columns={'Price': 'vix'})\n",
    "vix[\"vix\"] = pd.to_numeric(vix[\"vix\"])\n",
    "\n",
    "gold_raw = pd.read_csv('data/gold.csv', parse_dates=['date'])\n",
    "gold = gold_raw.set_index('date')\n",
    "gold = gold.resample('1M').last()\n",
    "gold = gold.rename(columns={'Price': 'gold'})\n",
    "gold['gold'] = gold['gold'].apply(lambda x: float(x.replace(\",\", \"\"))) # Removes stinrg \",\""
   ]
  },
  {
   "cell_type": "markdown",
   "id": "e1b2f99a",
   "metadata": {},
   "source": [
    "# SPX Data"
   ]
  },
  {
   "cell_type": "code",
   "execution_count": 10,
   "id": "89b6934a",
   "metadata": {},
   "outputs": [
    {
     "data": {
      "text/html": [
       "<div>\n",
       "<style scoped>\n",
       "    .dataframe tbody tr th:only-of-type {\n",
       "        vertical-align: middle;\n",
       "    }\n",
       "\n",
       "    .dataframe tbody tr th {\n",
       "        vertical-align: top;\n",
       "    }\n",
       "\n",
       "    .dataframe thead th {\n",
       "        text-align: right;\n",
       "    }\n",
       "</style>\n",
       "<table border=\"1\" class=\"dataframe\">\n",
       "  <thead>\n",
       "    <tr style=\"text-align: right;\">\n",
       "      <th></th>\n",
       "      <th>Open</th>\n",
       "      <th>High</th>\n",
       "      <th>Low</th>\n",
       "      <th>Close</th>\n",
       "    </tr>\n",
       "    <tr>\n",
       "      <th>date</th>\n",
       "      <th></th>\n",
       "      <th></th>\n",
       "      <th></th>\n",
       "      <th></th>\n",
       "    </tr>\n",
       "  </thead>\n",
       "  <tbody>\n",
       "    <tr>\n",
       "      <th>1978-01-31</th>\n",
       "      <td>89.25</td>\n",
       "      <td>89.92</td>\n",
       "      <td>88.61</td>\n",
       "      <td>89.25</td>\n",
       "    </tr>\n",
       "    <tr>\n",
       "      <th>1978-02-28</th>\n",
       "      <td>87.04</td>\n",
       "      <td>87.76</td>\n",
       "      <td>86.58</td>\n",
       "      <td>87.04</td>\n",
       "    </tr>\n",
       "    <tr>\n",
       "      <th>1978-03-31</th>\n",
       "      <td>89.21</td>\n",
       "      <td>89.64</td>\n",
       "      <td>89.21</td>\n",
       "      <td>89.21</td>\n",
       "    </tr>\n",
       "    <tr>\n",
       "      <th>1978-04-30</th>\n",
       "      <td>96.83</td>\n",
       "      <td>97.10</td>\n",
       "      <td>95.24</td>\n",
       "      <td>96.83</td>\n",
       "    </tr>\n",
       "    <tr>\n",
       "      <th>1978-05-31</th>\n",
       "      <td>97.24</td>\n",
       "      <td>97.97</td>\n",
       "      <td>96.50</td>\n",
       "      <td>97.24</td>\n",
       "    </tr>\n",
       "    <tr>\n",
       "      <th>...</th>\n",
       "      <td>...</td>\n",
       "      <td>...</td>\n",
       "      <td>...</td>\n",
       "      <td>...</td>\n",
       "    </tr>\n",
       "    <tr>\n",
       "      <th>2021-05-31</th>\n",
       "      <td>4210.77</td>\n",
       "      <td>4218.36</td>\n",
       "      <td>4203.57</td>\n",
       "      <td>4204.11</td>\n",
       "    </tr>\n",
       "    <tr>\n",
       "      <th>2021-06-30</th>\n",
       "      <td>4290.65</td>\n",
       "      <td>4302.43</td>\n",
       "      <td>4287.96</td>\n",
       "      <td>4297.50</td>\n",
       "    </tr>\n",
       "    <tr>\n",
       "      <th>2021-07-31</th>\n",
       "      <td>4395.12</td>\n",
       "      <td>4412.25</td>\n",
       "      <td>4389.65</td>\n",
       "      <td>4395.26</td>\n",
       "    </tr>\n",
       "    <tr>\n",
       "      <th>2021-08-31</th>\n",
       "      <td>4529.75</td>\n",
       "      <td>4531.39</td>\n",
       "      <td>4515.80</td>\n",
       "      <td>4522.68</td>\n",
       "    </tr>\n",
       "    <tr>\n",
       "      <th>2021-09-30</th>\n",
       "      <td>4469.74</td>\n",
       "      <td>4471.52</td>\n",
       "      <td>4427.76</td>\n",
       "      <td>4432.99</td>\n",
       "    </tr>\n",
       "  </tbody>\n",
       "</table>\n",
       "<p>525 rows × 4 columns</p>\n",
       "</div>"
      ],
      "text/plain": [
       "               Open     High      Low    Close\n",
       "date                                          \n",
       "1978-01-31    89.25    89.92    88.61    89.25\n",
       "1978-02-28    87.04    87.76    86.58    87.04\n",
       "1978-03-31    89.21    89.64    89.21    89.21\n",
       "1978-04-30    96.83    97.10    95.24    96.83\n",
       "1978-05-31    97.24    97.97    96.50    97.24\n",
       "...             ...      ...      ...      ...\n",
       "2021-05-31  4210.77  4218.36  4203.57  4204.11\n",
       "2021-06-30  4290.65  4302.43  4287.96  4297.50\n",
       "2021-07-31  4395.12  4412.25  4389.65  4395.26\n",
       "2021-08-31  4529.75  4531.39  4515.80  4522.68\n",
       "2021-09-30  4469.74  4471.52  4427.76  4432.99\n",
       "\n",
       "[525 rows x 4 columns]"
      ]
     },
     "execution_count": 10,
     "metadata": {},
     "output_type": "execute_result"
    }
   ],
   "source": [
    "spx_raw = pd.read_csv('data/spx_prices.csv', parse_dates=['date'])\n",
    "spx = spx_raw.set_index('date')\n",
    "spx = spx.resample('1M').last()\n",
    "spx"
   ]
  },
  {
   "cell_type": "code",
   "execution_count": 11,
   "id": "b30546bf",
   "metadata": {},
   "outputs": [
    {
     "name": "stdout",
     "output_type": "stream",
     "text": [
      "Wall time: 28.8 s\n"
     ]
    }
   ],
   "source": [
    "%%time\n",
    "financials = convert_to_multiindex(financials_raw.set_index(['ticker']).sort_index())\n",
    "sep = convert_to_multiindex(sep_raw.set_index(['ticker']).sort_index())\n",
    "sf1 = convert_to_multiindex(sf1_raw.set_index(['ticker']).sort_index())\n",
    "sp500_constituents = convert_to_multiindex(sp500_constituents_raw.set_index(['ticker']).sort_index())"
   ]
  },
  {
   "cell_type": "markdown",
   "id": "d109f68b",
   "metadata": {},
   "source": [
    "# Forming df_combined"
   ]
  },
  {
   "cell_type": "code",
   "execution_count": 71,
   "id": "d4568bbd",
   "metadata": {},
   "outputs": [
    {
     "name": "stdout",
     "output_type": "stream",
     "text": [
      "Wall time: 7.86 s\n"
     ]
    }
   ],
   "source": [
    "%%time\n",
    "first_index =financials.index.get_level_values(0)[0]\n",
    "combined_index = sp500_constituents.loc[first_index:].index\n",
    "df_combined_pre = pd.DataFrame(index=combined_index)\n",
    "\n",
    "concat_list = [sf1, sep['close']] # concat other tables if needed in future\n",
    "df_combined_pre = df_combined_pre.join(concat_list, how='left')\n",
    "\n",
    "#########################################################################################\n",
    "# Adding macro data\n",
    "#########################################################################################\n",
    "rates_prepped = pd.DataFrame(index=combined_index)\n",
    "rates_prepped = rates_prepped.join(rates, how='inner')\n",
    "\n",
    "vix_prepped = pd.DataFrame(index=combined_index)\n",
    "vix_prepped = vix_prepped.join(vix['vix'], how='inner')\n",
    "\n",
    "gold_prepped = pd.DataFrame(index=combined_index)\n",
    "gold_prepped = gold_prepped.join(gold['gold'], how='inner')\n",
    "df_combined_pre = df_combined_pre.join([rates_prepped, vix_prepped, gold_prepped], how='left')\n",
    "\n",
    "#########################################################################################\n",
    "# Adding sector data\n",
    "#########################################################################################\n",
    "df_combined_pre = df_combined_pre.join(sec_master_raw[['sector', 'industry', 'scalemarketcap', 'scalerevenue']], how='inner')\n",
    "\n",
    "#########################################################################################\n",
    "# Data to drop\n",
    "#########################################################################################\n",
    "# drop_list = ['price', 'assets', 'assetsavg', 'assetsc', 'assetsnc', 'assetturnover','debt', 'debtc', 'debtnc', 'debtusd',\n",
    "#              'deferredrev', 'depamor', 'deposits', 'investments', 'investmentsc', 'investmentsnc', 'liabilities', \n",
    "#              'liabilitiesc', 'liabilitiesnc']\n",
    "drop_list = ['price']\n",
    "df_combined_pre = df_combined_pre.drop(drop_list, axis=1)\n",
    "df_combined_pre['ticker'] = df_combined_pre.index.get_level_values(1)"
   ]
  },
  {
   "cell_type": "markdown",
   "id": "ae4e3ffb",
   "metadata": {},
   "source": [
    "# Categorical Features"
   ]
  },
  {
   "cell_type": "code",
   "execution_count": 72,
   "id": "1e3bd996",
   "metadata": {},
   "outputs": [],
   "source": [
    "cat_list = ['sector', 'industry', 'scalemarketcap', 'scalerevenue', 'ticker']\n",
    "\n",
    "for c in cat_list:\n",
    "    df_combined_pre[c] = df_combined_pre[c].astype('category')"
   ]
  },
  {
   "cell_type": "code",
   "execution_count": 73,
   "id": "398e27b8",
   "metadata": {},
   "outputs": [
    {
     "name": "stdout",
     "output_type": "stream",
     "text": [
      "['accoci', 'assets', 'assetsavg', 'assetsc', 'assetsnc', 'assetturnover', 'bvps', 'capex', 'cashneq', 'cashnequsd', 'cor', 'consolinc', 'currentratio', 'de', 'debt', 'debtc', 'debtnc', 'debtusd', 'deferredrev', 'depamor', 'deposits', 'divyield', 'dps', 'ebit', 'ebitda', 'ebitdamargin', 'ebitdausd', 'ebitusd', 'ebt', 'eps', 'epsdil', 'epsusd', 'equity', 'equityavg', 'equityusd', 'ev', 'evebit', 'evebitda', 'fcf', 'fcfps', 'fxusd', 'gp', 'grossmargin', 'intangibles', 'intexp', 'invcap', 'invcapavg', 'inventory', 'investments', 'investmentsc', 'investmentsnc', 'liabilities', 'liabilitiesc', 'liabilitiesnc', 'marketcap', 'ncf', 'ncfbus', 'ncfcommon', 'ncfdebt', 'ncfdiv', 'ncff', 'ncfi', 'ncfinv', 'ncfo', 'ncfx', 'netinc', 'netinccmn', 'netinccmnusd', 'netincdis', 'netincnci', 'netmargin', 'opex', 'opinc', 'payables', 'payoutratio', 'pb', 'pe', 'pe1', 'ppnenet', 'prefdivis', 'ps', 'ps1', 'receivables', 'retearn', 'revenue', 'revenueusd', 'rnd', 'roa', 'roe', 'roic', 'ros', 'sbcomp', 'sgna', 'sharefactor', 'sharesbas', 'shareswa', 'shareswadil', 'sps', 'tangibles', 'taxassets', 'taxexp', 'taxliabilities', 'tbvps', 'workingcapital', 'close', 'YC/USA3M - Rate', 'YC/USA2Y - Rate', 'YC/USA5Y - Rate', 'YC/USA10Y - Rate', 'YC/JPN2Y - Yield', 'YC/JPN5Y - Yield', 'YC/JPN10Y - Yield', 'YC/CHE3M - Rate', 'YC/CHE2Y - Rate', 'YC/CHE5Y - Rate', 'YC/CHE10Y - Rate', 'YC/AUS2Y - Rate', 'YC/AUS5Y - Rate', 'YC/AUS10Y - Rate', 'vix', 'gold', 'sector', 'industry', 'scalemarketcap', 'scalerevenue', 'ticker']\n"
     ]
    }
   ],
   "source": [
    "# List of SF1 Columns - https://docs-1-8--quantrocket.netlify.app/docs/data/fundamental/sharadar/#key-features\n",
    "print(df_combined_pre.columns.tolist())"
   ]
  },
  {
   "cell_type": "code",
   "execution_count": 74,
   "id": "ee144e1f",
   "metadata": {},
   "outputs": [
    {
     "data": {
      "application/vnd.jupyter.widget-view+json": {
       "model_id": "9d516c3e7a7e4830a9762a70371cd50b",
       "version_major": 2,
       "version_minor": 0
      },
      "text/plain": [
       "  0%|          | 0/288 [00:00<?, ?it/s]"
      ]
     },
     "metadata": {},
     "output_type": "display_data"
    },
    {
     "name": "stdout",
     "output_type": "stream",
     "text": [
      "Wall time: 1min 36s\n"
     ]
    },
    {
     "data": {
      "text/html": [
       "<div>\n",
       "<style scoped>\n",
       "    .dataframe tbody tr th:only-of-type {\n",
       "        vertical-align: middle;\n",
       "    }\n",
       "\n",
       "    .dataframe tbody tr th {\n",
       "        vertical-align: top;\n",
       "    }\n",
       "\n",
       "    .dataframe thead th {\n",
       "        text-align: right;\n",
       "    }\n",
       "</style>\n",
       "<table border=\"1\" class=\"dataframe\">\n",
       "  <thead>\n",
       "    <tr style=\"text-align: right;\">\n",
       "      <th></th>\n",
       "      <th></th>\n",
       "      <th>accoci</th>\n",
       "      <th>assets</th>\n",
       "      <th>assetsavg</th>\n",
       "      <th>assetsc</th>\n",
       "      <th>assetsnc</th>\n",
       "      <th>assetturnover</th>\n",
       "      <th>bvps</th>\n",
       "      <th>capex</th>\n",
       "      <th>cashneq</th>\n",
       "      <th>cashnequsd</th>\n",
       "      <th>...</th>\n",
       "      <th>rolling_ros_3M</th>\n",
       "      <th>rolling_ros_6M</th>\n",
       "      <th>rolling_ros_9M</th>\n",
       "      <th>rolling_ros_12M</th>\n",
       "      <th>rolling_sbcomp_1M</th>\n",
       "      <th>rolling_sbcomp_2M</th>\n",
       "      <th>rolling_sbcomp_3M</th>\n",
       "      <th>rolling_sbcomp_6M</th>\n",
       "      <th>rolling_sbcomp_9M</th>\n",
       "      <th>rolling_sbcomp_12M</th>\n",
       "    </tr>\n",
       "    <tr>\n",
       "      <th>date</th>\n",
       "      <th>ticker</th>\n",
       "      <th></th>\n",
       "      <th></th>\n",
       "      <th></th>\n",
       "      <th></th>\n",
       "      <th></th>\n",
       "      <th></th>\n",
       "      <th></th>\n",
       "      <th></th>\n",
       "      <th></th>\n",
       "      <th></th>\n",
       "      <th></th>\n",
       "      <th></th>\n",
       "      <th></th>\n",
       "      <th></th>\n",
       "      <th></th>\n",
       "      <th></th>\n",
       "      <th></th>\n",
       "      <th></th>\n",
       "      <th></th>\n",
       "      <th></th>\n",
       "      <th></th>\n",
       "    </tr>\n",
       "  </thead>\n",
       "  <tbody>\n",
       "    <tr>\n",
       "      <th rowspan=\"5\" valign=\"top\">1999-12-31</th>\n",
       "      <th>AAMRQ</th>\n",
       "      <td>-2000000.0</td>\n",
       "      <td>2.437400e+10</td>\n",
       "      <td>2.361825e+10</td>\n",
       "      <td>4.424000e+09</td>\n",
       "      <td>1.995000e+10</td>\n",
       "      <td>0.751</td>\n",
       "      <td>46.156</td>\n",
       "      <td>-6.510000e+08</td>\n",
       "      <td>8.500000e+07</td>\n",
       "      <td>8.500000e+07</td>\n",
       "      <td>...</td>\n",
       "      <td>0.010417</td>\n",
       "      <td>-0.133929</td>\n",
       "      <td>-0.191667</td>\n",
       "      <td>-0.265152</td>\n",
       "      <td>NaN</td>\n",
       "      <td>NaN</td>\n",
       "      <td>NaN</td>\n",
       "      <td>NaN</td>\n",
       "      <td>NaN</td>\n",
       "      <td>NaN</td>\n",
       "    </tr>\n",
       "    <tr>\n",
       "      <th>AAPL</th>\n",
       "      <td>106000000.0</td>\n",
       "      <td>5.161000e+09</td>\n",
       "      <td>4.926750e+09</td>\n",
       "      <td>4.285000e+09</td>\n",
       "      <td>8.760000e+08</td>\n",
       "      <td>1.245</td>\n",
       "      <td>0.194</td>\n",
       "      <td>-2.400000e+07</td>\n",
       "      <td>1.326000e+09</td>\n",
       "      <td>1.326000e+09</td>\n",
       "      <td>...</td>\n",
       "      <td>0.000000</td>\n",
       "      <td>0.047619</td>\n",
       "      <td>0.250000</td>\n",
       "      <td>0.486486</td>\n",
       "      <td>NaN</td>\n",
       "      <td>NaN</td>\n",
       "      <td>NaN</td>\n",
       "      <td>NaN</td>\n",
       "      <td>NaN</td>\n",
       "      <td>NaN</td>\n",
       "    </tr>\n",
       "    <tr>\n",
       "      <th>ABI1</th>\n",
       "      <td>34663000.0</td>\n",
       "      <td>1.681244e+09</td>\n",
       "      <td>1.521042e+09</td>\n",
       "      <td>1.086015e+09</td>\n",
       "      <td>5.952290e+08</td>\n",
       "      <td>0.848</td>\n",
       "      <td>4.370</td>\n",
       "      <td>-1.675310e+08</td>\n",
       "      <td>3.494810e+08</td>\n",
       "      <td>3.494810e+08</td>\n",
       "      <td>...</td>\n",
       "      <td>0.036496</td>\n",
       "      <td>-0.059603</td>\n",
       "      <td>0.479167</td>\n",
       "      <td>0.560440</td>\n",
       "      <td>NaN</td>\n",
       "      <td>NaN</td>\n",
       "      <td>NaN</td>\n",
       "      <td>NaN</td>\n",
       "      <td>NaN</td>\n",
       "      <td>NaN</td>\n",
       "    </tr>\n",
       "    <tr>\n",
       "      <th>ABS</th>\n",
       "      <td>0.0</td>\n",
       "      <td>1.571900e+10</td>\n",
       "      <td>1.316827e+10</td>\n",
       "      <td>4.591000e+09</td>\n",
       "      <td>1.112800e+10</td>\n",
       "      <td>2.846</td>\n",
       "      <td>13.512</td>\n",
       "      <td>-1.754000e+09</td>\n",
       "      <td>2.450000e+08</td>\n",
       "      <td>2.450000e+08</td>\n",
       "      <td>...</td>\n",
       "      <td>0.100000</td>\n",
       "      <td>-0.029412</td>\n",
       "      <td>-0.484375</td>\n",
       "      <td>-0.297872</td>\n",
       "      <td>NaN</td>\n",
       "      <td>NaN</td>\n",
       "      <td>NaN</td>\n",
       "      <td>NaN</td>\n",
       "      <td>NaN</td>\n",
       "      <td>NaN</td>\n",
       "    </tr>\n",
       "    <tr>\n",
       "      <th>ABT</th>\n",
       "      <td>-405301000.0</td>\n",
       "      <td>1.447104e+10</td>\n",
       "      <td>1.362683e+10</td>\n",
       "      <td>6.419754e+09</td>\n",
       "      <td>8.051290e+09</td>\n",
       "      <td>0.967</td>\n",
       "      <td>4.833</td>\n",
       "      <td>-9.870980e+08</td>\n",
       "      <td>6.080970e+08</td>\n",
       "      <td>6.080970e+08</td>\n",
       "      <td>...</td>\n",
       "      <td>0.003802</td>\n",
       "      <td>-0.025830</td>\n",
       "      <td>-0.022222</td>\n",
       "      <td>-0.014925</td>\n",
       "      <td>NaN</td>\n",
       "      <td>NaN</td>\n",
       "      <td>NaN</td>\n",
       "      <td>NaN</td>\n",
       "      <td>NaN</td>\n",
       "      <td>NaN</td>\n",
       "    </tr>\n",
       "    <tr>\n",
       "      <th>...</th>\n",
       "      <th>...</th>\n",
       "      <td>...</td>\n",
       "      <td>...</td>\n",
       "      <td>...</td>\n",
       "      <td>...</td>\n",
       "      <td>...</td>\n",
       "      <td>...</td>\n",
       "      <td>...</td>\n",
       "      <td>...</td>\n",
       "      <td>...</td>\n",
       "      <td>...</td>\n",
       "      <td>...</td>\n",
       "      <td>...</td>\n",
       "      <td>...</td>\n",
       "      <td>...</td>\n",
       "      <td>...</td>\n",
       "      <td>...</td>\n",
       "      <td>...</td>\n",
       "      <td>...</td>\n",
       "      <td>...</td>\n",
       "      <td>...</td>\n",
       "      <td>...</td>\n",
       "    </tr>\n",
       "    <tr>\n",
       "      <th rowspan=\"5\" valign=\"top\">2021-09-30</th>\n",
       "      <th>YUM</th>\n",
       "      <td>NaN</td>\n",
       "      <td>NaN</td>\n",
       "      <td>NaN</td>\n",
       "      <td>NaN</td>\n",
       "      <td>NaN</td>\n",
       "      <td>NaN</td>\n",
       "      <td>NaN</td>\n",
       "      <td>NaN</td>\n",
       "      <td>NaN</td>\n",
       "      <td>NaN</td>\n",
       "      <td>...</td>\n",
       "      <td>0.000000</td>\n",
       "      <td>0.021739</td>\n",
       "      <td>0.187726</td>\n",
       "      <td>0.146341</td>\n",
       "      <td>0.0</td>\n",
       "      <td>0.0</td>\n",
       "      <td>0.0</td>\n",
       "      <td>4.047619</td>\n",
       "      <td>0.092784</td>\n",
       "      <td>0.827586</td>\n",
       "    </tr>\n",
       "    <tr>\n",
       "      <th>ZBH</th>\n",
       "      <td>NaN</td>\n",
       "      <td>NaN</td>\n",
       "      <td>NaN</td>\n",
       "      <td>NaN</td>\n",
       "      <td>NaN</td>\n",
       "      <td>NaN</td>\n",
       "      <td>NaN</td>\n",
       "      <td>NaN</td>\n",
       "      <td>NaN</td>\n",
       "      <td>NaN</td>\n",
       "      <td>...</td>\n",
       "      <td>0.000000</td>\n",
       "      <td>0.440860</td>\n",
       "      <td>-15.888889</td>\n",
       "      <td>32.500000</td>\n",
       "      <td>0.0</td>\n",
       "      <td>0.0</td>\n",
       "      <td>0.0</td>\n",
       "      <td>0.148148</td>\n",
       "      <td>-0.688833</td>\n",
       "      <td>0.046414</td>\n",
       "    </tr>\n",
       "    <tr>\n",
       "      <th>ZBRA</th>\n",
       "      <td>NaN</td>\n",
       "      <td>NaN</td>\n",
       "      <td>NaN</td>\n",
       "      <td>NaN</td>\n",
       "      <td>NaN</td>\n",
       "      <td>NaN</td>\n",
       "      <td>NaN</td>\n",
       "      <td>NaN</td>\n",
       "      <td>NaN</td>\n",
       "      <td>NaN</td>\n",
       "      <td>...</td>\n",
       "      <td>0.000000</td>\n",
       "      <td>0.068323</td>\n",
       "      <td>0.202797</td>\n",
       "      <td>0.246377</td>\n",
       "      <td>0.0</td>\n",
       "      <td>0.0</td>\n",
       "      <td>0.0</td>\n",
       "      <td>-0.633333</td>\n",
       "      <td>-0.568627</td>\n",
       "      <td>0.692308</td>\n",
       "    </tr>\n",
       "    <tr>\n",
       "      <th>ZION</th>\n",
       "      <td>NaN</td>\n",
       "      <td>NaN</td>\n",
       "      <td>NaN</td>\n",
       "      <td>NaN</td>\n",
       "      <td>NaN</td>\n",
       "      <td>NaN</td>\n",
       "      <td>NaN</td>\n",
       "      <td>NaN</td>\n",
       "      <td>NaN</td>\n",
       "      <td>NaN</td>\n",
       "      <td>...</td>\n",
       "      <td>0.000000</td>\n",
       "      <td>0.191601</td>\n",
       "      <td>0.604240</td>\n",
       "      <td>0.907563</td>\n",
       "      <td>0.0</td>\n",
       "      <td>0.0</td>\n",
       "      <td>0.0</td>\n",
       "      <td>-0.814815</td>\n",
       "      <td>-0.807692</td>\n",
       "      <td>-0.807692</td>\n",
       "    </tr>\n",
       "    <tr>\n",
       "      <th>ZTS</th>\n",
       "      <td>NaN</td>\n",
       "      <td>NaN</td>\n",
       "      <td>NaN</td>\n",
       "      <td>NaN</td>\n",
       "      <td>NaN</td>\n",
       "      <td>NaN</td>\n",
       "      <td>NaN</td>\n",
       "      <td>NaN</td>\n",
       "      <td>NaN</td>\n",
       "      <td>NaN</td>\n",
       "      <td>...</td>\n",
       "      <td>0.000000</td>\n",
       "      <td>0.005780</td>\n",
       "      <td>0.041916</td>\n",
       "      <td>0.014577</td>\n",
       "      <td>0.0</td>\n",
       "      <td>0.0</td>\n",
       "      <td>0.0</td>\n",
       "      <td>3.307692</td>\n",
       "      <td>3.307692</td>\n",
       "      <td>3.000000</td>\n",
       "    </tr>\n",
       "  </tbody>\n",
       "</table>\n",
       "<p>132690 rows × 402 columns</p>\n",
       "</div>"
      ],
      "text/plain": [
       "                        accoci        assets     assetsavg       assetsc  \\\n",
       "date       ticker                                                          \n",
       "1999-12-31 AAMRQ    -2000000.0  2.437400e+10  2.361825e+10  4.424000e+09   \n",
       "           AAPL    106000000.0  5.161000e+09  4.926750e+09  4.285000e+09   \n",
       "           ABI1     34663000.0  1.681244e+09  1.521042e+09  1.086015e+09   \n",
       "           ABS             0.0  1.571900e+10  1.316827e+10  4.591000e+09   \n",
       "           ABT    -405301000.0  1.447104e+10  1.362683e+10  6.419754e+09   \n",
       "...                        ...           ...           ...           ...   \n",
       "2021-09-30 YUM             NaN           NaN           NaN           NaN   \n",
       "           ZBH             NaN           NaN           NaN           NaN   \n",
       "           ZBRA            NaN           NaN           NaN           NaN   \n",
       "           ZION            NaN           NaN           NaN           NaN   \n",
       "           ZTS             NaN           NaN           NaN           NaN   \n",
       "\n",
       "                       assetsnc  assetturnover    bvps         capex  \\\n",
       "date       ticker                                                      \n",
       "1999-12-31 AAMRQ   1.995000e+10          0.751  46.156 -6.510000e+08   \n",
       "           AAPL    8.760000e+08          1.245   0.194 -2.400000e+07   \n",
       "           ABI1    5.952290e+08          0.848   4.370 -1.675310e+08   \n",
       "           ABS     1.112800e+10          2.846  13.512 -1.754000e+09   \n",
       "           ABT     8.051290e+09          0.967   4.833 -9.870980e+08   \n",
       "...                         ...            ...     ...           ...   \n",
       "2021-09-30 YUM              NaN            NaN     NaN           NaN   \n",
       "           ZBH              NaN            NaN     NaN           NaN   \n",
       "           ZBRA             NaN            NaN     NaN           NaN   \n",
       "           ZION             NaN            NaN     NaN           NaN   \n",
       "           ZTS              NaN            NaN     NaN           NaN   \n",
       "\n",
       "                        cashneq    cashnequsd  ...  rolling_ros_3M  \\\n",
       "date       ticker                              ...                   \n",
       "1999-12-31 AAMRQ   8.500000e+07  8.500000e+07  ...        0.010417   \n",
       "           AAPL    1.326000e+09  1.326000e+09  ...        0.000000   \n",
       "           ABI1    3.494810e+08  3.494810e+08  ...        0.036496   \n",
       "           ABS     2.450000e+08  2.450000e+08  ...        0.100000   \n",
       "           ABT     6.080970e+08  6.080970e+08  ...        0.003802   \n",
       "...                         ...           ...  ...             ...   \n",
       "2021-09-30 YUM              NaN           NaN  ...        0.000000   \n",
       "           ZBH              NaN           NaN  ...        0.000000   \n",
       "           ZBRA             NaN           NaN  ...        0.000000   \n",
       "           ZION             NaN           NaN  ...        0.000000   \n",
       "           ZTS              NaN           NaN  ...        0.000000   \n",
       "\n",
       "                   rolling_ros_6M  rolling_ros_9M  rolling_ros_12M  \\\n",
       "date       ticker                                                    \n",
       "1999-12-31 AAMRQ        -0.133929       -0.191667        -0.265152   \n",
       "           AAPL          0.047619        0.250000         0.486486   \n",
       "           ABI1         -0.059603        0.479167         0.560440   \n",
       "           ABS          -0.029412       -0.484375        -0.297872   \n",
       "           ABT          -0.025830       -0.022222        -0.014925   \n",
       "...                           ...             ...              ...   \n",
       "2021-09-30 YUM           0.021739        0.187726         0.146341   \n",
       "           ZBH           0.440860      -15.888889        32.500000   \n",
       "           ZBRA          0.068323        0.202797         0.246377   \n",
       "           ZION          0.191601        0.604240         0.907563   \n",
       "           ZTS           0.005780        0.041916         0.014577   \n",
       "\n",
       "                   rolling_sbcomp_1M  rolling_sbcomp_2M  rolling_sbcomp_3M  \\\n",
       "date       ticker                                                            \n",
       "1999-12-31 AAMRQ                 NaN                NaN                NaN   \n",
       "           AAPL                  NaN                NaN                NaN   \n",
       "           ABI1                  NaN                NaN                NaN   \n",
       "           ABS                   NaN                NaN                NaN   \n",
       "           ABT                   NaN                NaN                NaN   \n",
       "...                              ...                ...                ...   \n",
       "2021-09-30 YUM                   0.0                0.0                0.0   \n",
       "           ZBH                   0.0                0.0                0.0   \n",
       "           ZBRA                  0.0                0.0                0.0   \n",
       "           ZION                  0.0                0.0                0.0   \n",
       "           ZTS                   0.0                0.0                0.0   \n",
       "\n",
       "                   rolling_sbcomp_6M  rolling_sbcomp_9M  rolling_sbcomp_12M  \n",
       "date       ticker                                                            \n",
       "1999-12-31 AAMRQ                 NaN                NaN                 NaN  \n",
       "           AAPL                  NaN                NaN                 NaN  \n",
       "           ABI1                  NaN                NaN                 NaN  \n",
       "           ABS                   NaN                NaN                 NaN  \n",
       "           ABT                   NaN                NaN                 NaN  \n",
       "...                              ...                ...                 ...  \n",
       "2021-09-30 YUM              4.047619           0.092784            0.827586  \n",
       "           ZBH              0.148148          -0.688833            0.046414  \n",
       "           ZBRA            -0.633333          -0.568627            0.692308  \n",
       "           ZION            -0.814815          -0.807692           -0.807692  \n",
       "           ZTS              3.307692           3.307692            3.000000  \n",
       "\n",
       "[132690 rows x 402 columns]"
      ]
     },
     "execution_count": 74,
     "metadata": {},
     "output_type": "execute_result"
    }
   ],
   "source": [
    "%%time\n",
    "roll_list = [1,2,3,6,9,12] #in months\n",
    "macro_list = ['YC/USA3M - Rate', 'YC/USA2Y - Rate', 'YC/USA5Y - Rate', 'YC/USA10Y - Rate', 'vix', 'gold']\n",
    "micro_list = ['close', 'capex', 'ncfo', 'ncfi','divyield', 'dps', 'ebit', 'ebitda', 'ebitdamargin', 'ebitdausd', 'ebitusd',\n",
    "              'ebt', 'eps','ncfbus', 'ncfcommon', 'ncfdebt', 'ncfdiv', 'ncff', 'ncfi', 'ncfinv', 'ncfo', 'ncfx', 'netinc', \n",
    "              'netinccmn', 'netinccmnusd', 'netincdis', 'netincnci', 'netmargin', 'opex', 'opinc', 'payables', 'payoutratio', \n",
    "              'pb', 'pe', 'revenue', 'revenueusd', 'rnd', 'roa', 'roe', 'roic', 'ros', 'sbcomp']\n",
    "              \n",
    "combined_list = macro_list + micro_list\n",
    "\n",
    "df_combined = rolling_returns(df_combined_pre, roll_list, col_list=combined_list)\n",
    "df_combined"
   ]
  },
  {
   "cell_type": "code",
   "execution_count": 75,
   "id": "4dd35ea7",
   "metadata": {},
   "outputs": [],
   "source": [
    "def label_encoder(x):\n",
    "    if x < 0.75:\n",
    "        return 0\n",
    "    return 1\n",
    "\n",
    "def encode_labels(rets, encoder):\n",
    "    rets_ranked = rets.rank(axis=1)\n",
    "    rets_count = rets.count(axis=1)\n",
    "    \n",
    "    df_y_full = (rets_ranked.div(rets_count, axis=0)).stack()\n",
    "    y = df_y_full.apply(encoder)\n",
    "    y = y.dropna(axis=0)\n",
    "    return y"
   ]
  },
  {
   "cell_type": "code",
   "execution_count": 76,
   "id": "365e1a3a",
   "metadata": {},
   "outputs": [
    {
     "name": "stdout",
     "output_type": "stream",
     "text": [
      "Wall time: 2.43 s\n"
     ]
    }
   ],
   "source": [
    "%%time\n",
    "enable_val = False\n",
    "forward_window = 12\n",
    "y_raw = df_combined['close'].unstack().pct_change(forward_window).shift(-forward_window)\n",
    "y_df = encode_labels(y_raw, label_encoder).to_frame('y')\n",
    "y_df = y_df.dropna(axis=0)\n",
    "y_date_index_list = list(y_df.index.get_level_values(0).unique())\n",
    "y = pd.DataFrame(index=df_combined.index)\n",
    "y = y.join(y_df, how='left')\n",
    "y = y.dropna(axis=0)\n",
    "X = pd.DataFrame(index=y.index)\n",
    "X = X.join(df_combined.drop('close', axis=1), how='left')\n",
    "X = X.loc[y_date_index_list]\n",
    "y = y.loc[y_date_index_list]\n",
    "\n",
    "# Train-test-val split\n",
    "train_size = 0.75 # in pctl\n",
    "test_val_size = (1-train_size)/2\n",
    "n = len(y_date_index_list)\n",
    "\n",
    "train_split = floor(n*0.6)\n",
    "val_split = floor(n*(0.6+test_val_size))\n",
    "\n",
    "if enable_val:\n",
    "    X_train = X.loc[:y_date_index_list[train_split]]\n",
    "    X_val = X.loc[y_date_index_list[train_split]:y_date_index_list[val_split]]\n",
    "    X_test = X.loc[y_date_index_list[val_split]:]\n",
    "\n",
    "    y_train = y.loc[:y_date_index_list[train_split]]\n",
    "    y_val = y.loc[y_date_index_list[train_split]:y_date_index_list[val_split]]\n",
    "    y_test = y.loc[y_date_index_list[val_split]:]\n",
    "\n",
    "else:\n",
    "    X_train = X.loc[:y_date_index_list[train_split]]\n",
    "    X_test = X.loc[y_date_index_list[train_split]:]\n",
    "\n",
    "    y_train = y.loc[:y_date_index_list[train_split]]\n",
    "    y_test = y.loc[y_date_index_list[train_split]:]"
   ]
  },
  {
   "cell_type": "markdown",
   "id": "52367704",
   "metadata": {},
   "source": [
    "# Hyperparameter tuning"
   ]
  },
  {
   "cell_type": "code",
   "execution_count": 90,
   "id": "b42a534f",
   "metadata": {},
   "outputs": [],
   "source": [
    "def objective(trial):\n",
    "    \n",
    "    param_grid = {\n",
    "        # \"device_type\": trial.suggest_categorical(\"device_type\", ['gpu']),\n",
    "        \"n_estimators\": trial.suggest_categorical(\"n_estimators\", [1000]),\n",
    "        \"learning_rate\": trial.suggest_float(\"learning_rate\", 0.01, 0.3),\n",
    "        \"num_leaves\": trial.suggest_int(\"num_leaves\", 50, 1000, step=50),\n",
    "        \"max_depth\": trial.suggest_int(\"max_depth\", 3, 6),\n",
    "        \"min_data_in_leaf\": trial.suggest_int(\"min_data_in_leaf\", 100, 10000, step=100),\n",
    "        \"lambda_l1\": trial.suggest_int(\"lambda_l1\", 0, 100, step=5),\n",
    "        \"lambda_l2\": trial.suggest_int(\"lambda_l2\", 0, 100, step=5),\n",
    "        \"min_gain_to_split\": trial.suggest_float(\"min_gain_to_split\", 0, 15),\n",
    "        \"bagging_fraction\": trial.suggest_float(\n",
    "            \"bagging_fraction\", 0.2, 0.9, step=0.1\n",
    "        ),\n",
    "        \"bagging_freq\": trial.suggest_categorical(\"bagging_freq\", [1]),\n",
    "        \"feature_fraction\": trial.suggest_float(\n",
    "            \"feature_fraction\", 0.2, 0.9, step=0.1\n",
    "        ),\n",
    "    }\n",
    "\n",
    "#     model = lgb.LGBMClassifier(objective=\"binary\", **param_grid)\n",
    "#     model.fit(\n",
    "#         X_train,\n",
    "#         y_train,\n",
    "#         eval_set=[(X_test, y_test)],\n",
    "#         eval_metric=\"binary_logloss\",\n",
    "#         early_stopping_rounds=100,\n",
    "#         callbacks=[\n",
    "#             LightGBMPruningCallback(trial, \"binary_logloss\")\n",
    "#         ],  # Add a pruning callback\n",
    "#     )\n",
    "#     preds = model.predict_proba(X_train)\n",
    "#     metric = log_loss(y_train, preds)\n",
    "    model = lgb.LGBMClassifier( **param_grid)\n",
    "    model.fit(X_train, y_train.values.ravel())\n",
    "    \n",
    "    if enable_val:\n",
    "        preds = model.predict(X_val)   \n",
    "        metric = f1_score(preds, y_val, average='macro')\n",
    "    else:\n",
    "        preds = model.predict(X_test)   \n",
    "        metric = f1_score(preds, y_test, average='macro')\n",
    "\n",
    "    return metric\n"
   ]
  },
  {
   "cell_type": "code",
   "execution_count": 91,
   "id": "f791c52b",
   "metadata": {
    "scrolled": true
   },
   "outputs": [
    {
     "name": "stderr",
     "output_type": "stream",
     "text": [
      "\u001b[32m[I 2021-09-21 18:23:46,015]\u001b[0m A new study created in memory with name: LGBM Classifier\u001b[0m\n",
      "\u001b[32m[I 2021-09-21 18:23:51,750]\u001b[0m Trial 0 finished with value: 0.42797553215300155 and parameters: {'n_estimators': 1000, 'learning_rate': 0.27858161871342724, 'num_leaves': 550, 'max_depth': 5, 'min_data_in_leaf': 5300, 'lambda_l1': 55, 'lambda_l2': 35, 'min_gain_to_split': 6.819333276123554, 'bagging_fraction': 0.7, 'bagging_freq': 1, 'feature_fraction': 0.30000000000000004}. Best is trial 0 with value: 0.42797553215300155.\u001b[0m\n"
     ]
    },
    {
     "name": "stdout",
     "output_type": "stream",
     "text": [
      "[LightGBM] [Warning] feature_fraction is set=0.7, colsample_bytree=1.0 will be ignored. Current value: feature_fraction=0.7\n",
      "[LightGBM] [Warning] min_data_in_leaf is set=1100, min_child_samples=20 will be ignored. Current value: min_data_in_leaf=1100\n",
      "[LightGBM] [Warning] min_gain_to_split is set=12.155777456342689, min_split_gain=0.0 will be ignored. Current value: min_gain_to_split=12.155777456342689\n",
      "[LightGBM] [Warning] lambda_l1 is set=35, reg_alpha=0.0 will be ignored. Current value: lambda_l1=35\n",
      "[LightGBM] [Warning] bagging_fraction is set=0.5, subsample=1.0 will be ignored. Current value: bagging_fraction=0.5\n",
      "[LightGBM] [Warning] lambda_l2 is set=55, reg_lambda=0.0 will be ignored. Current value: lambda_l2=55\n",
      "[LightGBM] [Warning] bagging_freq is set=1, subsample_freq=0 will be ignored. Current value: bagging_freq=1\n"
     ]
    },
    {
     "name": "stderr",
     "output_type": "stream",
     "text": [
      "\u001b[32m[I 2021-09-21 18:23:58,994]\u001b[0m Trial 1 finished with value: 0.48521885371672857 and parameters: {'n_estimators': 1000, 'learning_rate': 0.12950277270864177, 'num_leaves': 200, 'max_depth': 3, 'min_data_in_leaf': 1100, 'lambda_l1': 35, 'lambda_l2': 55, 'min_gain_to_split': 12.155777456342689, 'bagging_fraction': 0.5, 'bagging_freq': 1, 'feature_fraction': 0.7}. Best is trial 1 with value: 0.48521885371672857.\u001b[0m\n"
     ]
    },
    {
     "name": "stdout",
     "output_type": "stream",
     "text": [
      "[LightGBM] [Warning] feature_fraction is set=0.2, colsample_bytree=1.0 will be ignored. Current value: feature_fraction=0.2\n",
      "[LightGBM] [Warning] min_data_in_leaf is set=2700, min_child_samples=20 will be ignored. Current value: min_data_in_leaf=2700\n",
      "[LightGBM] [Warning] min_gain_to_split is set=0.3283740135047325, min_split_gain=0.0 will be ignored. Current value: min_gain_to_split=0.3283740135047325\n",
      "[LightGBM] [Warning] lambda_l1 is set=30, reg_alpha=0.0 will be ignored. Current value: lambda_l1=30\n",
      "[LightGBM] [Warning] bagging_fraction is set=0.7, subsample=1.0 will be ignored. Current value: bagging_fraction=0.7\n",
      "[LightGBM] [Warning] lambda_l2 is set=15, reg_lambda=0.0 will be ignored. Current value: lambda_l2=15\n",
      "[LightGBM] [Warning] bagging_freq is set=1, subsample_freq=0 will be ignored. Current value: bagging_freq=1\n"
     ]
    },
    {
     "name": "stderr",
     "output_type": "stream",
     "text": [
      "\u001b[32m[I 2021-09-21 18:24:06,113]\u001b[0m Trial 2 finished with value: 0.4555180205873883 and parameters: {'n_estimators': 1000, 'learning_rate': 0.13022921697592837, 'num_leaves': 750, 'max_depth': 4, 'min_data_in_leaf': 2700, 'lambda_l1': 30, 'lambda_l2': 15, 'min_gain_to_split': 0.3283740135047325, 'bagging_fraction': 0.7, 'bagging_freq': 1, 'feature_fraction': 0.2}. Best is trial 1 with value: 0.48521885371672857.\u001b[0m\n"
     ]
    },
    {
     "name": "stdout",
     "output_type": "stream",
     "text": [
      "[LightGBM] [Warning] feature_fraction is set=0.5, colsample_bytree=1.0 will be ignored. Current value: feature_fraction=0.5\n",
      "[LightGBM] [Warning] min_data_in_leaf is set=200, min_child_samples=20 will be ignored. Current value: min_data_in_leaf=200\n",
      "[LightGBM] [Warning] min_gain_to_split is set=11.989619216875687, min_split_gain=0.0 will be ignored. Current value: min_gain_to_split=11.989619216875687\n",
      "[LightGBM] [Warning] lambda_l1 is set=55, reg_alpha=0.0 will be ignored. Current value: lambda_l1=55\n",
      "[LightGBM] [Warning] bagging_fraction is set=0.5, subsample=1.0 will be ignored. Current value: bagging_fraction=0.5\n",
      "[LightGBM] [Warning] lambda_l2 is set=45, reg_lambda=0.0 will be ignored. Current value: lambda_l2=45\n",
      "[LightGBM] [Warning] bagging_freq is set=1, subsample_freq=0 will be ignored. Current value: bagging_freq=1\n"
     ]
    },
    {
     "name": "stderr",
     "output_type": "stream",
     "text": [
      "\u001b[32m[I 2021-09-21 18:24:12,751]\u001b[0m Trial 3 finished with value: 0.47782788924707453 and parameters: {'n_estimators': 1000, 'learning_rate': 0.030878938298486258, 'num_leaves': 750, 'max_depth': 3, 'min_data_in_leaf': 200, 'lambda_l1': 55, 'lambda_l2': 45, 'min_gain_to_split': 11.989619216875687, 'bagging_fraction': 0.5, 'bagging_freq': 1, 'feature_fraction': 0.5}. Best is trial 1 with value: 0.48521885371672857.\u001b[0m\n"
     ]
    },
    {
     "name": "stdout",
     "output_type": "stream",
     "text": [
      "[LightGBM] [Warning] feature_fraction is set=0.7, colsample_bytree=1.0 will be ignored. Current value: feature_fraction=0.7\n",
      "[LightGBM] [Warning] min_data_in_leaf is set=5400, min_child_samples=20 will be ignored. Current value: min_data_in_leaf=5400\n",
      "[LightGBM] [Warning] min_gain_to_split is set=4.468856628342518, min_split_gain=0.0 will be ignored. Current value: min_gain_to_split=4.468856628342518\n",
      "[LightGBM] [Warning] lambda_l1 is set=40, reg_alpha=0.0 will be ignored. Current value: lambda_l1=40\n",
      "[LightGBM] [Warning] bagging_fraction is set=0.5, subsample=1.0 will be ignored. Current value: bagging_fraction=0.5\n",
      "[LightGBM] [Warning] lambda_l2 is set=25, reg_lambda=0.0 will be ignored. Current value: lambda_l2=25\n",
      "[LightGBM] [Warning] bagging_freq is set=1, subsample_freq=0 will be ignored. Current value: bagging_freq=1\n"
     ]
    },
    {
     "name": "stderr",
     "output_type": "stream",
     "text": [
      "\u001b[32m[I 2021-09-21 18:24:19,765]\u001b[0m Trial 4 finished with value: 0.4645436814837968 and parameters: {'n_estimators': 1000, 'learning_rate': 0.2373771921474026, 'num_leaves': 150, 'max_depth': 6, 'min_data_in_leaf': 5400, 'lambda_l1': 40, 'lambda_l2': 25, 'min_gain_to_split': 4.468856628342518, 'bagging_fraction': 0.5, 'bagging_freq': 1, 'feature_fraction': 0.7}. Best is trial 1 with value: 0.48521885371672857.\u001b[0m\n"
     ]
    },
    {
     "name": "stdout",
     "output_type": "stream",
     "text": [
      "[LightGBM] [Warning] feature_fraction is set=0.5, colsample_bytree=1.0 will be ignored. Current value: feature_fraction=0.5\n",
      "[LightGBM] [Warning] min_data_in_leaf is set=1800, min_child_samples=20 will be ignored. Current value: min_data_in_leaf=1800\n",
      "[LightGBM] [Warning] min_gain_to_split is set=8.248559949284907, min_split_gain=0.0 will be ignored. Current value: min_gain_to_split=8.248559949284907\n",
      "[LightGBM] [Warning] lambda_l1 is set=75, reg_alpha=0.0 will be ignored. Current value: lambda_l1=75\n",
      "[LightGBM] [Warning] bagging_fraction is set=0.8, subsample=1.0 will be ignored. Current value: bagging_fraction=0.8\n",
      "[LightGBM] [Warning] lambda_l2 is set=70, reg_lambda=0.0 will be ignored. Current value: lambda_l2=70\n",
      "[LightGBM] [Warning] bagging_freq is set=1, subsample_freq=0 will be ignored. Current value: bagging_freq=1\n"
     ]
    },
    {
     "name": "stderr",
     "output_type": "stream",
     "text": [
      "\u001b[32m[I 2021-09-21 18:24:27,372]\u001b[0m Trial 5 finished with value: 0.47922778883877704 and parameters: {'n_estimators': 1000, 'learning_rate': 0.04806702509650904, 'num_leaves': 800, 'max_depth': 3, 'min_data_in_leaf': 1800, 'lambda_l1': 75, 'lambda_l2': 70, 'min_gain_to_split': 8.248559949284907, 'bagging_fraction': 0.8, 'bagging_freq': 1, 'feature_fraction': 0.5}. Best is trial 1 with value: 0.48521885371672857.\u001b[0m\n"
     ]
    },
    {
     "name": "stdout",
     "output_type": "stream",
     "text": [
      "[LightGBM] [Warning] feature_fraction is set=0.2, colsample_bytree=1.0 will be ignored. Current value: feature_fraction=0.2\n",
      "[LightGBM] [Warning] min_data_in_leaf is set=6600, min_child_samples=20 will be ignored. Current value: min_data_in_leaf=6600\n",
      "[LightGBM] [Warning] min_gain_to_split is set=13.08240439661882, min_split_gain=0.0 will be ignored. Current value: min_gain_to_split=13.08240439661882\n",
      "[LightGBM] [Warning] lambda_l1 is set=65, reg_alpha=0.0 will be ignored. Current value: lambda_l1=65\n",
      "[LightGBM] [Warning] bagging_fraction is set=0.8, subsample=1.0 will be ignored. Current value: bagging_fraction=0.8\n",
      "[LightGBM] [Warning] lambda_l2 is set=10, reg_lambda=0.0 will be ignored. Current value: lambda_l2=10\n",
      "[LightGBM] [Warning] bagging_freq is set=1, subsample_freq=0 will be ignored. Current value: bagging_freq=1\n"
     ]
    },
    {
     "name": "stderr",
     "output_type": "stream",
     "text": [
      "\u001b[32m[I 2021-09-21 18:24:32,469]\u001b[0m Trial 6 finished with value: 0.3845996200168925 and parameters: {'n_estimators': 1000, 'learning_rate': 0.07328280409583733, 'num_leaves': 450, 'max_depth': 6, 'min_data_in_leaf': 6600, 'lambda_l1': 65, 'lambda_l2': 10, 'min_gain_to_split': 13.08240439661882, 'bagging_fraction': 0.8, 'bagging_freq': 1, 'feature_fraction': 0.2}. Best is trial 1 with value: 0.48521885371672857.\u001b[0m\n"
     ]
    },
    {
     "name": "stdout",
     "output_type": "stream",
     "text": [
      "[LightGBM] [Warning] feature_fraction is set=0.6000000000000001, colsample_bytree=1.0 will be ignored. Current value: feature_fraction=0.6000000000000001\n",
      "[LightGBM] [Warning] min_data_in_leaf is set=7700, min_child_samples=20 will be ignored. Current value: min_data_in_leaf=7700\n",
      "[LightGBM] [Warning] min_gain_to_split is set=8.209974749135814, min_split_gain=0.0 will be ignored. Current value: min_gain_to_split=8.209974749135814\n",
      "[LightGBM] [Warning] lambda_l1 is set=10, reg_alpha=0.0 will be ignored. Current value: lambda_l1=10\n",
      "[LightGBM] [Warning] bagging_fraction is set=0.30000000000000004, subsample=1.0 will be ignored. Current value: bagging_fraction=0.30000000000000004\n",
      "[LightGBM] [Warning] lambda_l2 is set=50, reg_lambda=0.0 will be ignored. Current value: lambda_l2=50\n",
      "[LightGBM] [Warning] bagging_freq is set=1, subsample_freq=0 will be ignored. Current value: bagging_freq=1\n"
     ]
    },
    {
     "name": "stderr",
     "output_type": "stream",
     "text": [
      "\u001b[32m[I 2021-09-21 18:24:37,714]\u001b[0m Trial 7 finished with value: 0.40662231906368906 and parameters: {'n_estimators': 1000, 'learning_rate': 0.11889842470338932, 'num_leaves': 200, 'max_depth': 4, 'min_data_in_leaf': 7700, 'lambda_l1': 10, 'lambda_l2': 50, 'min_gain_to_split': 8.209974749135814, 'bagging_fraction': 0.30000000000000004, 'bagging_freq': 1, 'feature_fraction': 0.6000000000000001}. Best is trial 1 with value: 0.48521885371672857.\u001b[0m\n"
     ]
    },
    {
     "name": "stdout",
     "output_type": "stream",
     "text": [
      "[LightGBM] [Warning] feature_fraction is set=0.2, colsample_bytree=1.0 will be ignored. Current value: feature_fraction=0.2\n",
      "[LightGBM] [Warning] min_data_in_leaf is set=8800, min_child_samples=20 will be ignored. Current value: min_data_in_leaf=8800\n",
      "[LightGBM] [Warning] min_gain_to_split is set=10.90878891707915, min_split_gain=0.0 will be ignored. Current value: min_gain_to_split=10.90878891707915\n",
      "[LightGBM] [Warning] lambda_l1 is set=25, reg_alpha=0.0 will be ignored. Current value: lambda_l1=25\n",
      "[LightGBM] [Warning] bagging_fraction is set=0.30000000000000004, subsample=1.0 will be ignored. Current value: bagging_fraction=0.30000000000000004\n",
      "[LightGBM] [Warning] lambda_l2 is set=40, reg_lambda=0.0 will be ignored. Current value: lambda_l2=40\n",
      "[LightGBM] [Warning] bagging_freq is set=1, subsample_freq=0 will be ignored. Current value: bagging_freq=1\n"
     ]
    },
    {
     "name": "stderr",
     "output_type": "stream",
     "text": [
      "\u001b[32m[I 2021-09-21 18:24:41,758]\u001b[0m Trial 8 finished with value: 0.3854308721275067 and parameters: {'n_estimators': 1000, 'learning_rate': 0.2455297909119566, 'num_leaves': 1000, 'max_depth': 5, 'min_data_in_leaf': 8800, 'lambda_l1': 25, 'lambda_l2': 40, 'min_gain_to_split': 10.90878891707915, 'bagging_fraction': 0.30000000000000004, 'bagging_freq': 1, 'feature_fraction': 0.2}. Best is trial 1 with value: 0.48521885371672857.\u001b[0m\n"
     ]
    },
    {
     "name": "stdout",
     "output_type": "stream",
     "text": [
      "[LightGBM] [Warning] feature_fraction is set=0.2, colsample_bytree=1.0 will be ignored. Current value: feature_fraction=0.2\n",
      "[LightGBM] [Warning] min_data_in_leaf is set=6100, min_child_samples=20 will be ignored. Current value: min_data_in_leaf=6100\n",
      "[LightGBM] [Warning] min_gain_to_split is set=0.9472238278889988, min_split_gain=0.0 will be ignored. Current value: min_gain_to_split=0.9472238278889988\n",
      "[LightGBM] [Warning] lambda_l1 is set=0, reg_alpha=0.0 will be ignored. Current value: lambda_l1=0\n",
      "[LightGBM] [Warning] bagging_fraction is set=0.9, subsample=1.0 will be ignored. Current value: bagging_fraction=0.9\n",
      "[LightGBM] [Warning] lambda_l2 is set=5, reg_lambda=0.0 will be ignored. Current value: lambda_l2=5\n",
      "[LightGBM] [Warning] bagging_freq is set=1, subsample_freq=0 will be ignored. Current value: bagging_freq=1\n"
     ]
    },
    {
     "name": "stderr",
     "output_type": "stream",
     "text": [
      "\u001b[32m[I 2021-09-21 18:24:48,270]\u001b[0m Trial 9 finished with value: 0.4382797549476855 and parameters: {'n_estimators': 1000, 'learning_rate': 0.06788978684401405, 'num_leaves': 500, 'max_depth': 3, 'min_data_in_leaf': 6100, 'lambda_l1': 0, 'lambda_l2': 5, 'min_gain_to_split': 0.9472238278889988, 'bagging_fraction': 0.9, 'bagging_freq': 1, 'feature_fraction': 0.2}. Best is trial 1 with value: 0.48521885371672857.\u001b[0m\n"
     ]
    },
    {
     "name": "stdout",
     "output_type": "stream",
     "text": [
      "[LightGBM] [Warning] feature_fraction is set=0.9, colsample_bytree=1.0 will be ignored. Current value: feature_fraction=0.9\n",
      "[LightGBM] [Warning] min_data_in_leaf is set=3200, min_child_samples=20 will be ignored. Current value: min_data_in_leaf=3200\n",
      "[LightGBM] [Warning] min_gain_to_split is set=14.275489542400763, min_split_gain=0.0 will be ignored. Current value: min_gain_to_split=14.275489542400763\n",
      "[LightGBM] [Warning] lambda_l1 is set=100, reg_alpha=0.0 will be ignored. Current value: lambda_l1=100\n",
      "[LightGBM] [Warning] bagging_fraction is set=0.2, subsample=1.0 will be ignored. Current value: bagging_fraction=0.2\n",
      "[LightGBM] [Warning] lambda_l2 is set=100, reg_lambda=0.0 will be ignored. Current value: lambda_l2=100\n",
      "[LightGBM] [Warning] bagging_freq is set=1, subsample_freq=0 will be ignored. Current value: bagging_freq=1\n"
     ]
    },
    {
     "name": "stderr",
     "output_type": "stream",
     "text": [
      "\u001b[32m[I 2021-09-21 18:24:52,965]\u001b[0m Trial 10 finished with value: 0.36574779872406454 and parameters: {'n_estimators': 1000, 'learning_rate': 0.18368226418418743, 'num_leaves': 50, 'max_depth': 4, 'min_data_in_leaf': 3200, 'lambda_l1': 100, 'lambda_l2': 100, 'min_gain_to_split': 14.275489542400763, 'bagging_fraction': 0.2, 'bagging_freq': 1, 'feature_fraction': 0.9}. Best is trial 1 with value: 0.48521885371672857.\u001b[0m\n"
     ]
    },
    {
     "name": "stdout",
     "output_type": "stream",
     "text": [
      "[LightGBM] [Warning] feature_fraction is set=0.8, colsample_bytree=1.0 will be ignored. Current value: feature_fraction=0.8\n",
      "[LightGBM] [Warning] min_data_in_leaf is set=100, min_child_samples=20 will be ignored. Current value: min_data_in_leaf=100\n",
      "[LightGBM] [Warning] min_gain_to_split is set=9.519557796724289, min_split_gain=0.0 will be ignored. Current value: min_gain_to_split=9.519557796724289\n",
      "[LightGBM] [Warning] lambda_l1 is set=80, reg_alpha=0.0 will be ignored. Current value: lambda_l1=80\n",
      "[LightGBM] [Warning] bagging_fraction is set=0.6000000000000001, subsample=1.0 will be ignored. Current value: bagging_fraction=0.6000000000000001\n",
      "[LightGBM] [Warning] lambda_l2 is set=75, reg_lambda=0.0 will be ignored. Current value: lambda_l2=75\n",
      "[LightGBM] [Warning] bagging_freq is set=1, subsample_freq=0 will be ignored. Current value: bagging_freq=1\n"
     ]
    },
    {
     "name": "stderr",
     "output_type": "stream",
     "text": [
      "\u001b[32m[I 2021-09-21 18:25:01,537]\u001b[0m Trial 11 finished with value: 0.4510223900959175 and parameters: {'n_estimators': 1000, 'learning_rate': 0.012794492512950659, 'num_leaves': 1000, 'max_depth': 3, 'min_data_in_leaf': 100, 'lambda_l1': 80, 'lambda_l2': 75, 'min_gain_to_split': 9.519557796724289, 'bagging_fraction': 0.6000000000000001, 'bagging_freq': 1, 'feature_fraction': 0.8}. Best is trial 1 with value: 0.48521885371672857.\u001b[0m\n"
     ]
    },
    {
     "name": "stdout",
     "output_type": "stream",
     "text": [
      "[LightGBM] [Warning] feature_fraction is set=0.5, colsample_bytree=1.0 will be ignored. Current value: feature_fraction=0.5\n",
      "[LightGBM] [Warning] min_data_in_leaf is set=2600, min_child_samples=20 will be ignored. Current value: min_data_in_leaf=2600\n",
      "[LightGBM] [Warning] min_gain_to_split is set=5.315793813321826, min_split_gain=0.0 will be ignored. Current value: min_gain_to_split=5.315793813321826\n",
      "[LightGBM] [Warning] lambda_l1 is set=80, reg_alpha=0.0 will be ignored. Current value: lambda_l1=80\n",
      "[LightGBM] [Warning] bagging_fraction is set=0.9, subsample=1.0 will be ignored. Current value: bagging_fraction=0.9\n",
      "[LightGBM] [Warning] lambda_l2 is set=70, reg_lambda=0.0 will be ignored. Current value: lambda_l2=70\n",
      "[LightGBM] [Warning] bagging_freq is set=1, subsample_freq=0 will be ignored. Current value: bagging_freq=1\n"
     ]
    },
    {
     "name": "stderr",
     "output_type": "stream",
     "text": [
      "\u001b[32m[I 2021-09-21 18:25:09,127]\u001b[0m Trial 12 finished with value: 0.4757307614706951 and parameters: {'n_estimators': 1000, 'learning_rate': 0.17022166160505012, 'num_leaves': 350, 'max_depth': 3, 'min_data_in_leaf': 2600, 'lambda_l1': 80, 'lambda_l2': 70, 'min_gain_to_split': 5.315793813321826, 'bagging_fraction': 0.9, 'bagging_freq': 1, 'feature_fraction': 0.5}. Best is trial 1 with value: 0.48521885371672857.\u001b[0m\n"
     ]
    },
    {
     "name": "stdout",
     "output_type": "stream",
     "text": [
      "[LightGBM] [Warning] feature_fraction is set=0.4, colsample_bytree=1.0 will be ignored. Current value: feature_fraction=0.4\n",
      "[LightGBM] [Warning] min_data_in_leaf is set=1600, min_child_samples=20 will be ignored. Current value: min_data_in_leaf=1600\n",
      "[LightGBM] [Warning] min_gain_to_split is set=10.1600831382863, min_split_gain=0.0 will be ignored. Current value: min_gain_to_split=10.1600831382863\n",
      "[LightGBM] [Warning] lambda_l1 is set=75, reg_alpha=0.0 will be ignored. Current value: lambda_l1=75\n",
      "[LightGBM] [Warning] bagging_fraction is set=0.4, subsample=1.0 will be ignored. Current value: bagging_fraction=0.4\n",
      "[LightGBM] [Warning] lambda_l2 is set=70, reg_lambda=0.0 will be ignored. Current value: lambda_l2=70\n",
      "[LightGBM] [Warning] bagging_freq is set=1, subsample_freq=0 will be ignored. Current value: bagging_freq=1\n"
     ]
    },
    {
     "name": "stderr",
     "output_type": "stream",
     "text": [
      "\u001b[32m[I 2021-09-21 18:25:14,438]\u001b[0m Trial 13 finished with value: 0.4055659530034856 and parameters: {'n_estimators': 1000, 'learning_rate': 0.08872893385469663, 'num_leaves': 650, 'max_depth': 3, 'min_data_in_leaf': 1600, 'lambda_l1': 75, 'lambda_l2': 70, 'min_gain_to_split': 10.1600831382863, 'bagging_fraction': 0.4, 'bagging_freq': 1, 'feature_fraction': 0.4}. Best is trial 1 with value: 0.48521885371672857.\u001b[0m\n"
     ]
    },
    {
     "name": "stdout",
     "output_type": "stream",
     "text": [
      "[LightGBM] [Warning] feature_fraction is set=0.7, colsample_bytree=1.0 will be ignored. Current value: feature_fraction=0.7\n",
      "[LightGBM] [Warning] min_data_in_leaf is set=3800, min_child_samples=20 will be ignored. Current value: min_data_in_leaf=3800\n",
      "[LightGBM] [Warning] min_gain_to_split is set=8.224574253131127, min_split_gain=0.0 will be ignored. Current value: min_gain_to_split=8.224574253131127\n",
      "[LightGBM] [Warning] lambda_l1 is set=100, reg_alpha=0.0 will be ignored. Current value: lambda_l1=100\n",
      "[LightGBM] [Warning] bagging_fraction is set=0.6000000000000001, subsample=1.0 will be ignored. Current value: bagging_fraction=0.6000000000000001\n",
      "[LightGBM] [Warning] lambda_l2 is set=85, reg_lambda=0.0 will be ignored. Current value: lambda_l2=85\n",
      "[LightGBM] [Warning] bagging_freq is set=1, subsample_freq=0 will be ignored. Current value: bagging_freq=1\n"
     ]
    },
    {
     "name": "stderr",
     "output_type": "stream",
     "text": [
      "\u001b[32m[I 2021-09-21 18:25:21,135]\u001b[0m Trial 14 finished with value: 0.4098484198669543 and parameters: {'n_estimators': 1000, 'learning_rate': 0.19416097766625853, 'num_leaves': 300, 'max_depth': 4, 'min_data_in_leaf': 3800, 'lambda_l1': 100, 'lambda_l2': 85, 'min_gain_to_split': 8.224574253131127, 'bagging_fraction': 0.6000000000000001, 'bagging_freq': 1, 'feature_fraction': 0.7}. Best is trial 1 with value: 0.48521885371672857.\u001b[0m\n"
     ]
    },
    {
     "name": "stdout",
     "output_type": "stream",
     "text": [
      "[LightGBM] [Warning] feature_fraction is set=0.6000000000000001, colsample_bytree=1.0 will be ignored. Current value: feature_fraction=0.6000000000000001\n",
      "[LightGBM] [Warning] min_data_in_leaf is set=1000, min_child_samples=20 will be ignored. Current value: min_data_in_leaf=1000\n",
      "[LightGBM] [Warning] min_gain_to_split is set=3.322675851457535, min_split_gain=0.0 will be ignored. Current value: min_gain_to_split=3.322675851457535\n",
      "[LightGBM] [Warning] lambda_l1 is set=40, reg_alpha=0.0 will be ignored. Current value: lambda_l1=40\n",
      "[LightGBM] [Warning] bagging_fraction is set=0.7, subsample=1.0 will be ignored. Current value: bagging_fraction=0.7\n",
      "[LightGBM] [Warning] lambda_l2 is set=60, reg_lambda=0.0 will be ignored. Current value: lambda_l2=60\n",
      "[LightGBM] [Warning] bagging_freq is set=1, subsample_freq=0 will be ignored. Current value: bagging_freq=1\n"
     ]
    },
    {
     "name": "stderr",
     "output_type": "stream",
     "text": [
      "\u001b[32m[I 2021-09-21 18:25:29,856]\u001b[0m Trial 15 finished with value: 0.48680096603916645 and parameters: {'n_estimators': 1000, 'learning_rate': 0.04333174988773306, 'num_leaves': 850, 'max_depth': 3, 'min_data_in_leaf': 1000, 'lambda_l1': 40, 'lambda_l2': 60, 'min_gain_to_split': 3.322675851457535, 'bagging_fraction': 0.7, 'bagging_freq': 1, 'feature_fraction': 0.6000000000000001}. Best is trial 15 with value: 0.48680096603916645.\u001b[0m\n"
     ]
    },
    {
     "name": "stdout",
     "output_type": "stream",
     "text": [
      "[LightGBM] [Warning] feature_fraction is set=0.7, colsample_bytree=1.0 will be ignored. Current value: feature_fraction=0.7\n",
      "[LightGBM] [Warning] min_data_in_leaf is set=4100, min_child_samples=20 will be ignored. Current value: min_data_in_leaf=4100\n",
      "[LightGBM] [Warning] min_gain_to_split is set=3.367246052660607, min_split_gain=0.0 will be ignored. Current value: min_gain_to_split=3.367246052660607\n",
      "[LightGBM] [Warning] lambda_l1 is set=35, reg_alpha=0.0 will be ignored. Current value: lambda_l1=35\n",
      "[LightGBM] [Warning] bagging_fraction is set=0.4, subsample=1.0 will be ignored. Current value: bagging_fraction=0.4\n",
      "[LightGBM] [Warning] lambda_l2 is set=60, reg_lambda=0.0 will be ignored. Current value: lambda_l2=60\n",
      "[LightGBM] [Warning] bagging_freq is set=1, subsample_freq=0 will be ignored. Current value: bagging_freq=1\n"
     ]
    },
    {
     "name": "stderr",
     "output_type": "stream",
     "text": [
      "\u001b[32m[I 2021-09-21 18:25:36,925]\u001b[0m Trial 16 finished with value: 0.4454296952362529 and parameters: {'n_estimators': 1000, 'learning_rate': 0.11267670192086275, 'num_leaves': 900, 'max_depth': 5, 'min_data_in_leaf': 4100, 'lambda_l1': 35, 'lambda_l2': 60, 'min_gain_to_split': 3.367246052660607, 'bagging_fraction': 0.4, 'bagging_freq': 1, 'feature_fraction': 0.7}. Best is trial 15 with value: 0.48680096603916645.\u001b[0m\n"
     ]
    },
    {
     "name": "stdout",
     "output_type": "stream",
     "text": [
      "[LightGBM] [Warning] feature_fraction is set=0.9, colsample_bytree=1.0 will be ignored. Current value: feature_fraction=0.9\n",
      "[LightGBM] [Warning] min_data_in_leaf is set=1300, min_child_samples=20 will be ignored. Current value: min_data_in_leaf=1300\n",
      "[LightGBM] [Warning] min_gain_to_split is set=2.676869763224464, min_split_gain=0.0 will be ignored. Current value: min_gain_to_split=2.676869763224464\n",
      "[LightGBM] [Warning] lambda_l1 is set=20, reg_alpha=0.0 will be ignored. Current value: lambda_l1=20\n",
      "[LightGBM] [Warning] bagging_fraction is set=0.7, subsample=1.0 will be ignored. Current value: bagging_fraction=0.7\n",
      "[LightGBM] [Warning] lambda_l2 is set=60, reg_lambda=0.0 will be ignored. Current value: lambda_l2=60\n",
      "[LightGBM] [Warning] bagging_freq is set=1, subsample_freq=0 will be ignored. Current value: bagging_freq=1\n"
     ]
    },
    {
     "name": "stderr",
     "output_type": "stream",
     "text": [
      "\u001b[32m[I 2021-09-21 18:25:47,672]\u001b[0m Trial 17 finished with value: 0.49085198535451025 and parameters: {'n_estimators': 1000, 'learning_rate': 0.14945363431628922, 'num_leaves': 350, 'max_depth': 4, 'min_data_in_leaf': 1300, 'lambda_l1': 20, 'lambda_l2': 60, 'min_gain_to_split': 2.676869763224464, 'bagging_fraction': 0.7, 'bagging_freq': 1, 'feature_fraction': 0.9}. Best is trial 17 with value: 0.49085198535451025.\u001b[0m\n"
     ]
    },
    {
     "name": "stdout",
     "output_type": "stream",
     "text": [
      "[LightGBM] [Warning] feature_fraction is set=0.9, colsample_bytree=1.0 will be ignored. Current value: feature_fraction=0.9\n",
      "[LightGBM] [Warning] min_data_in_leaf is set=1000, min_child_samples=20 will be ignored. Current value: min_data_in_leaf=1000\n",
      "[LightGBM] [Warning] min_gain_to_split is set=2.2056734014432138, min_split_gain=0.0 will be ignored. Current value: min_gain_to_split=2.2056734014432138\n",
      "[LightGBM] [Warning] lambda_l1 is set=15, reg_alpha=0.0 will be ignored. Current value: lambda_l1=15\n",
      "[LightGBM] [Warning] bagging_fraction is set=0.7, subsample=1.0 will be ignored. Current value: bagging_fraction=0.7\n",
      "[LightGBM] [Warning] lambda_l2 is set=90, reg_lambda=0.0 will be ignored. Current value: lambda_l2=90\n",
      "[LightGBM] [Warning] bagging_freq is set=1, subsample_freq=0 will be ignored. Current value: bagging_freq=1\n"
     ]
    },
    {
     "name": "stderr",
     "output_type": "stream",
     "text": [
      "\u001b[32m[I 2021-09-21 18:25:58,816]\u001b[0m Trial 18 finished with value: 0.496211914473645 and parameters: {'n_estimators': 1000, 'learning_rate': 0.2202886689690231, 'num_leaves': 600, 'max_depth': 4, 'min_data_in_leaf': 1000, 'lambda_l1': 15, 'lambda_l2': 90, 'min_gain_to_split': 2.2056734014432138, 'bagging_fraction': 0.7, 'bagging_freq': 1, 'feature_fraction': 0.9}. Best is trial 18 with value: 0.496211914473645.\u001b[0m\n"
     ]
    },
    {
     "name": "stdout",
     "output_type": "stream",
     "text": [
      "[LightGBM] [Warning] feature_fraction is set=0.9, colsample_bytree=1.0 will be ignored. Current value: feature_fraction=0.9\n",
      "[LightGBM] [Warning] min_data_in_leaf is set=4300, min_child_samples=20 will be ignored. Current value: min_data_in_leaf=4300\n",
      "[LightGBM] [Warning] min_gain_to_split is set=2.3155894134595396, min_split_gain=0.0 will be ignored. Current value: min_gain_to_split=2.3155894134595396\n",
      "[LightGBM] [Warning] lambda_l1 is set=20, reg_alpha=0.0 will be ignored. Current value: lambda_l1=20\n",
      "[LightGBM] [Warning] bagging_fraction is set=0.8, subsample=1.0 will be ignored. Current value: bagging_fraction=0.8\n",
      "[LightGBM] [Warning] lambda_l2 is set=95, reg_lambda=0.0 will be ignored. Current value: lambda_l2=95\n",
      "[LightGBM] [Warning] bagging_freq is set=1, subsample_freq=0 will be ignored. Current value: bagging_freq=1\n"
     ]
    },
    {
     "name": "stderr",
     "output_type": "stream",
     "text": [
      "\u001b[32m[I 2021-09-21 18:26:09,497]\u001b[0m Trial 19 finished with value: 0.48013263275212625 and parameters: {'n_estimators': 1000, 'learning_rate': 0.2185791512903418, 'num_leaves': 650, 'max_depth': 4, 'min_data_in_leaf': 4300, 'lambda_l1': 20, 'lambda_l2': 95, 'min_gain_to_split': 2.3155894134595396, 'bagging_fraction': 0.8, 'bagging_freq': 1, 'feature_fraction': 0.9}. Best is trial 18 with value: 0.496211914473645.\u001b[0m\n"
     ]
    },
    {
     "name": "stdout",
     "output_type": "stream",
     "text": [
      "[LightGBM] [Warning] feature_fraction is set=0.8, colsample_bytree=1.0 will be ignored. Current value: feature_fraction=0.8\n",
      "[LightGBM] [Warning] min_data_in_leaf is set=2300, min_child_samples=20 will be ignored. Current value: min_data_in_leaf=2300\n",
      "[LightGBM] [Warning] min_gain_to_split is set=6.1274089082702385, min_split_gain=0.0 will be ignored. Current value: min_gain_to_split=6.1274089082702385\n",
      "[LightGBM] [Warning] lambda_l1 is set=15, reg_alpha=0.0 will be ignored. Current value: lambda_l1=15\n",
      "[LightGBM] [Warning] bagging_fraction is set=0.6000000000000001, subsample=1.0 will be ignored. Current value: bagging_fraction=0.6000000000000001\n",
      "[LightGBM] [Warning] lambda_l2 is set=85, reg_lambda=0.0 will be ignored. Current value: lambda_l2=85\n",
      "[LightGBM] [Warning] bagging_freq is set=1, subsample_freq=0 will be ignored. Current value: bagging_freq=1\n"
     ]
    },
    {
     "name": "stderr",
     "output_type": "stream",
     "text": [
      "\u001b[32m[I 2021-09-21 18:26:17,764]\u001b[0m Trial 20 finished with value: 0.4678343111390184 and parameters: {'n_estimators': 1000, 'learning_rate': 0.2803890302682993, 'num_leaves': 400, 'max_depth': 5, 'min_data_in_leaf': 2300, 'lambda_l1': 15, 'lambda_l2': 85, 'min_gain_to_split': 6.1274089082702385, 'bagging_fraction': 0.6000000000000001, 'bagging_freq': 1, 'feature_fraction': 0.8}. Best is trial 18 with value: 0.496211914473645.\u001b[0m\n"
     ]
    },
    {
     "name": "stdout",
     "output_type": "stream",
     "text": [
      "[LightGBM] [Warning] feature_fraction is set=0.9, colsample_bytree=1.0 will be ignored. Current value: feature_fraction=0.9\n",
      "[LightGBM] [Warning] min_data_in_leaf is set=900, min_child_samples=20 will be ignored. Current value: min_data_in_leaf=900\n",
      "[LightGBM] [Warning] min_gain_to_split is set=2.2449776964564814, min_split_gain=0.0 will be ignored. Current value: min_gain_to_split=2.2449776964564814\n",
      "[LightGBM] [Warning] lambda_l1 is set=0, reg_alpha=0.0 will be ignored. Current value: lambda_l1=0\n",
      "[LightGBM] [Warning] bagging_fraction is set=0.7, subsample=1.0 will be ignored. Current value: bagging_fraction=0.7\n",
      "[LightGBM] [Warning] lambda_l2 is set=60, reg_lambda=0.0 will be ignored. Current value: lambda_l2=60\n",
      "[LightGBM] [Warning] bagging_freq is set=1, subsample_freq=0 will be ignored. Current value: bagging_freq=1\n"
     ]
    },
    {
     "name": "stderr",
     "output_type": "stream",
     "text": [
      "\u001b[32m[I 2021-09-21 18:26:29,535]\u001b[0m Trial 21 finished with value: 0.49028386215084435 and parameters: {'n_estimators': 1000, 'learning_rate': 0.1507392922102342, 'num_leaves': 600, 'max_depth': 4, 'min_data_in_leaf': 900, 'lambda_l1': 0, 'lambda_l2': 60, 'min_gain_to_split': 2.2449776964564814, 'bagging_fraction': 0.7, 'bagging_freq': 1, 'feature_fraction': 0.9}. Best is trial 18 with value: 0.496211914473645.\u001b[0m\n"
     ]
    },
    {
     "name": "stdout",
     "output_type": "stream",
     "text": [
      "[LightGBM] [Warning] feature_fraction is set=0.9, colsample_bytree=1.0 will be ignored. Current value: feature_fraction=0.9\n",
      "[LightGBM] [Warning] min_data_in_leaf is set=700, min_child_samples=20 will be ignored. Current value: min_data_in_leaf=700\n",
      "[LightGBM] [Warning] min_gain_to_split is set=2.340580775893865, min_split_gain=0.0 will be ignored. Current value: min_gain_to_split=2.340580775893865\n",
      "[LightGBM] [Warning] lambda_l1 is set=0, reg_alpha=0.0 will be ignored. Current value: lambda_l1=0\n",
      "[LightGBM] [Warning] bagging_fraction is set=0.7, subsample=1.0 will be ignored. Current value: bagging_fraction=0.7\n",
      "[LightGBM] [Warning] lambda_l2 is set=80, reg_lambda=0.0 will be ignored. Current value: lambda_l2=80\n",
      "[LightGBM] [Warning] bagging_freq is set=1, subsample_freq=0 will be ignored. Current value: bagging_freq=1\n"
     ]
    },
    {
     "name": "stderr",
     "output_type": "stream",
     "text": [
      "\u001b[32m[I 2021-09-21 18:26:41,240]\u001b[0m Trial 22 finished with value: 0.49576124037543406 and parameters: {'n_estimators': 1000, 'learning_rate': 0.15030033938874857, 'num_leaves': 550, 'max_depth': 4, 'min_data_in_leaf': 700, 'lambda_l1': 0, 'lambda_l2': 80, 'min_gain_to_split': 2.340580775893865, 'bagging_fraction': 0.7, 'bagging_freq': 1, 'feature_fraction': 0.9}. Best is trial 18 with value: 0.496211914473645.\u001b[0m\n"
     ]
    },
    {
     "name": "stdout",
     "output_type": "stream",
     "text": [
      "[LightGBM] [Warning] feature_fraction is set=0.8, colsample_bytree=1.0 will be ignored. Current value: feature_fraction=0.8\n",
      "[LightGBM] [Warning] min_data_in_leaf is set=300, min_child_samples=20 will be ignored. Current value: min_data_in_leaf=300\n",
      "[LightGBM] [Warning] min_gain_to_split is set=1.337342601457478, min_split_gain=0.0 will be ignored. Current value: min_gain_to_split=1.337342601457478\n",
      "[LightGBM] [Warning] lambda_l1 is set=10, reg_alpha=0.0 will be ignored. Current value: lambda_l1=10\n",
      "[LightGBM] [Warning] bagging_fraction is set=0.8, subsample=1.0 will be ignored. Current value: bagging_fraction=0.8\n",
      "[LightGBM] [Warning] lambda_l2 is set=85, reg_lambda=0.0 will be ignored. Current value: lambda_l2=85\n",
      "[LightGBM] [Warning] bagging_freq is set=1, subsample_freq=0 will be ignored. Current value: bagging_freq=1\n"
     ]
    },
    {
     "name": "stderr",
     "output_type": "stream",
     "text": [
      "\u001b[32m[I 2021-09-21 18:26:53,385]\u001b[0m Trial 23 finished with value: 0.502613306094492 and parameters: {'n_estimators': 1000, 'learning_rate': 0.21159741928257292, 'num_leaves': 450, 'max_depth': 4, 'min_data_in_leaf': 300, 'lambda_l1': 10, 'lambda_l2': 85, 'min_gain_to_split': 1.337342601457478, 'bagging_fraction': 0.8, 'bagging_freq': 1, 'feature_fraction': 0.8}. Best is trial 23 with value: 0.502613306094492.\u001b[0m\n"
     ]
    },
    {
     "name": "stdout",
     "output_type": "stream",
     "text": [
      "[LightGBM] [Warning] feature_fraction is set=0.8, colsample_bytree=1.0 will be ignored. Current value: feature_fraction=0.8\n",
      "[LightGBM] [Warning] min_data_in_leaf is set=400, min_child_samples=20 will be ignored. Current value: min_data_in_leaf=400\n",
      "[LightGBM] [Warning] min_gain_to_split is set=1.2171354229876594, min_split_gain=0.0 will be ignored. Current value: min_gain_to_split=1.2171354229876594\n",
      "[LightGBM] [Warning] lambda_l1 is set=10, reg_alpha=0.0 will be ignored. Current value: lambda_l1=10\n",
      "[LightGBM] [Warning] bagging_fraction is set=0.8, subsample=1.0 will be ignored. Current value: bagging_fraction=0.8\n",
      "[LightGBM] [Warning] lambda_l2 is set=90, reg_lambda=0.0 will be ignored. Current value: lambda_l2=90\n",
      "[LightGBM] [Warning] bagging_freq is set=1, subsample_freq=0 will be ignored. Current value: bagging_freq=1\n"
     ]
    },
    {
     "name": "stderr",
     "output_type": "stream",
     "text": [
      "\u001b[32m[I 2021-09-21 18:27:05,673]\u001b[0m Trial 24 finished with value: 0.5037124817259434 and parameters: {'n_estimators': 1000, 'learning_rate': 0.20719244889331215, 'num_leaves': 500, 'max_depth': 4, 'min_data_in_leaf': 400, 'lambda_l1': 10, 'lambda_l2': 90, 'min_gain_to_split': 1.2171354229876594, 'bagging_fraction': 0.8, 'bagging_freq': 1, 'feature_fraction': 0.8}. Best is trial 24 with value: 0.5037124817259434.\u001b[0m\n"
     ]
    },
    {
     "name": "stdout",
     "output_type": "stream",
     "text": [
      "[LightGBM] [Warning] feature_fraction is set=0.8, colsample_bytree=1.0 will be ignored. Current value: feature_fraction=0.8\n",
      "[LightGBM] [Warning] min_data_in_leaf is set=10000, min_child_samples=20 will be ignored. Current value: min_data_in_leaf=10000\n",
      "[LightGBM] [Warning] min_gain_to_split is set=1.1610330675004783, min_split_gain=0.0 will be ignored. Current value: min_gain_to_split=1.1610330675004783\n",
      "[LightGBM] [Warning] lambda_l1 is set=10, reg_alpha=0.0 will be ignored. Current value: lambda_l1=10\n",
      "[LightGBM] [Warning] bagging_fraction is set=0.9, subsample=1.0 will be ignored. Current value: bagging_fraction=0.9\n",
      "[LightGBM] [Warning] lambda_l2 is set=95, reg_lambda=0.0 will be ignored. Current value: lambda_l2=95\n",
      "[LightGBM] [Warning] bagging_freq is set=1, subsample_freq=0 will be ignored. Current value: bagging_freq=1\n"
     ]
    },
    {
     "name": "stderr",
     "output_type": "stream",
     "text": [
      "\u001b[32m[I 2021-09-21 18:27:17,946]\u001b[0m Trial 25 finished with value: 0.4776696887446028 and parameters: {'n_estimators': 1000, 'learning_rate': 0.20850615553123272, 'num_leaves': 650, 'max_depth': 5, 'min_data_in_leaf': 10000, 'lambda_l1': 10, 'lambda_l2': 95, 'min_gain_to_split': 1.1610330675004783, 'bagging_fraction': 0.9, 'bagging_freq': 1, 'feature_fraction': 0.8}. Best is trial 24 with value: 0.5037124817259434.\u001b[0m\n"
     ]
    },
    {
     "name": "stdout",
     "output_type": "stream",
     "text": [
      "[LightGBM] [Warning] feature_fraction is set=0.8, colsample_bytree=1.0 will be ignored. Current value: feature_fraction=0.8\n",
      "[LightGBM] [Warning] min_data_in_leaf is set=200, min_child_samples=20 will be ignored. Current value: min_data_in_leaf=200\n",
      "[LightGBM] [Warning] min_gain_to_split is set=4.423360101342379, min_split_gain=0.0 will be ignored. Current value: min_gain_to_split=4.423360101342379\n",
      "[LightGBM] [Warning] lambda_l1 is set=10, reg_alpha=0.0 will be ignored. Current value: lambda_l1=10\n",
      "[LightGBM] [Warning] bagging_fraction is set=0.8, subsample=1.0 will be ignored. Current value: bagging_fraction=0.8\n",
      "[LightGBM] [Warning] lambda_l2 is set=90, reg_lambda=0.0 will be ignored. Current value: lambda_l2=90\n",
      "[LightGBM] [Warning] bagging_freq is set=1, subsample_freq=0 will be ignored. Current value: bagging_freq=1\n"
     ]
    },
    {
     "name": "stderr",
     "output_type": "stream",
     "text": [
      "\u001b[32m[I 2021-09-21 18:27:28,676]\u001b[0m Trial 26 finished with value: 0.4936602838522878 and parameters: {'n_estimators': 1000, 'learning_rate': 0.2505728258994679, 'num_leaves': 500, 'max_depth': 4, 'min_data_in_leaf': 200, 'lambda_l1': 10, 'lambda_l2': 90, 'min_gain_to_split': 4.423360101342379, 'bagging_fraction': 0.8, 'bagging_freq': 1, 'feature_fraction': 0.8}. Best is trial 24 with value: 0.5037124817259434.\u001b[0m\n"
     ]
    },
    {
     "name": "stdout",
     "output_type": "stream",
     "text": [
      "[LightGBM] [Warning] feature_fraction is set=0.8, colsample_bytree=1.0 will be ignored. Current value: feature_fraction=0.8\n",
      "[LightGBM] [Warning] min_data_in_leaf is set=2000, min_child_samples=20 will be ignored. Current value: min_data_in_leaf=2000\n",
      "[LightGBM] [Warning] min_gain_to_split is set=0.23055112499547814, min_split_gain=0.0 will be ignored. Current value: min_gain_to_split=0.23055112499547814\n",
      "[LightGBM] [Warning] lambda_l1 is set=10, reg_alpha=0.0 will be ignored. Current value: lambda_l1=10\n",
      "[LightGBM] [Warning] bagging_fraction is set=0.8, subsample=1.0 will be ignored. Current value: bagging_fraction=0.8\n",
      "[LightGBM] [Warning] lambda_l2 is set=100, reg_lambda=0.0 will be ignored. Current value: lambda_l2=100\n",
      "[LightGBM] [Warning] bagging_freq is set=1, subsample_freq=0 will be ignored. Current value: bagging_freq=1\n"
     ]
    },
    {
     "name": "stderr",
     "output_type": "stream",
     "text": [
      "\u001b[32m[I 2021-09-21 18:27:46,457]\u001b[0m Trial 27 finished with value: 0.4976134959811018 and parameters: {'n_estimators': 1000, 'learning_rate': 0.29765125574926876, 'num_leaves': 450, 'max_depth': 5, 'min_data_in_leaf': 2000, 'lambda_l1': 10, 'lambda_l2': 100, 'min_gain_to_split': 0.23055112499547814, 'bagging_fraction': 0.8, 'bagging_freq': 1, 'feature_fraction': 0.8}. Best is trial 24 with value: 0.5037124817259434.\u001b[0m\n"
     ]
    },
    {
     "name": "stdout",
     "output_type": "stream",
     "text": [
      "[LightGBM] [Warning] feature_fraction is set=0.6000000000000001, colsample_bytree=1.0 will be ignored. Current value: feature_fraction=0.6000000000000001\n",
      "[LightGBM] [Warning] min_data_in_leaf is set=2100, min_child_samples=20 will be ignored. Current value: min_data_in_leaf=2100\n",
      "[LightGBM] [Warning] min_gain_to_split is set=0.19022348300512704, min_split_gain=0.0 will be ignored. Current value: min_gain_to_split=0.19022348300512704\n",
      "[LightGBM] [Warning] lambda_l1 is set=5, reg_alpha=0.0 will be ignored. Current value: lambda_l1=5\n",
      "[LightGBM] [Warning] bagging_fraction is set=0.9, subsample=1.0 will be ignored. Current value: bagging_fraction=0.9\n",
      "[LightGBM] [Warning] lambda_l2 is set=100, reg_lambda=0.0 will be ignored. Current value: lambda_l2=100\n",
      "[LightGBM] [Warning] bagging_freq is set=1, subsample_freq=0 will be ignored. Current value: bagging_freq=1\n"
     ]
    },
    {
     "name": "stderr",
     "output_type": "stream",
     "text": [
      "\u001b[32m[I 2021-09-21 18:28:02,154]\u001b[0m Trial 28 finished with value: 0.4943519418968295 and parameters: {'n_estimators': 1000, 'learning_rate': 0.26437211005937455, 'num_leaves': 300, 'max_depth': 6, 'min_data_in_leaf': 2100, 'lambda_l1': 5, 'lambda_l2': 100, 'min_gain_to_split': 0.19022348300512704, 'bagging_fraction': 0.9, 'bagging_freq': 1, 'feature_fraction': 0.6000000000000001}. Best is trial 24 with value: 0.5037124817259434.\u001b[0m\n"
     ]
    },
    {
     "name": "stdout",
     "output_type": "stream",
     "text": [
      "[LightGBM] [Warning] feature_fraction is set=0.8, colsample_bytree=1.0 will be ignored. Current value: feature_fraction=0.8\n",
      "[LightGBM] [Warning] min_data_in_leaf is set=3300, min_child_samples=20 will be ignored. Current value: min_data_in_leaf=3300\n",
      "[LightGBM] [Warning] min_gain_to_split is set=1.1377535631188003, min_split_gain=0.0 will be ignored. Current value: min_gain_to_split=1.1377535631188003\n",
      "[LightGBM] [Warning] lambda_l1 is set=25, reg_alpha=0.0 will be ignored. Current value: lambda_l1=25\n",
      "[LightGBM] [Warning] bagging_fraction is set=0.8, subsample=1.0 will be ignored. Current value: bagging_fraction=0.8\n",
      "[LightGBM] [Warning] lambda_l2 is set=80, reg_lambda=0.0 will be ignored. Current value: lambda_l2=80\n",
      "[LightGBM] [Warning] bagging_freq is set=1, subsample_freq=0 will be ignored. Current value: bagging_freq=1\n"
     ]
    },
    {
     "name": "stderr",
     "output_type": "stream",
     "text": [
      "\u001b[32m[I 2021-09-21 18:28:13,405]\u001b[0m Trial 29 finished with value: 0.49398952062640195 and parameters: {'n_estimators': 1000, 'learning_rate': 0.29645228481841135, 'num_leaves': 450, 'max_depth': 5, 'min_data_in_leaf': 3300, 'lambda_l1': 25, 'lambda_l2': 80, 'min_gain_to_split': 1.1377535631188003, 'bagging_fraction': 0.8, 'bagging_freq': 1, 'feature_fraction': 0.8}. Best is trial 24 with value: 0.5037124817259434.\u001b[0m\n"
     ]
    },
    {
     "name": "stdout",
     "output_type": "stream",
     "text": [
      "[LightGBM] [Warning] feature_fraction is set=0.7, colsample_bytree=1.0 will be ignored. Current value: feature_fraction=0.7\n",
      "[LightGBM] [Warning] min_data_in_leaf is set=4800, min_child_samples=20 will be ignored. Current value: min_data_in_leaf=4800\n",
      "[LightGBM] [Warning] min_gain_to_split is set=6.69401083501032, min_split_gain=0.0 will be ignored. Current value: min_gain_to_split=6.69401083501032\n",
      "[LightGBM] [Warning] lambda_l1 is set=50, reg_alpha=0.0 will be ignored. Current value: lambda_l1=50\n",
      "[LightGBM] [Warning] bagging_fraction is set=0.8, subsample=1.0 will be ignored. Current value: bagging_fraction=0.8\n",
      "[LightGBM] [Warning] lambda_l2 is set=100, reg_lambda=0.0 will be ignored. Current value: lambda_l2=100\n",
      "[LightGBM] [Warning] bagging_freq is set=1, subsample_freq=0 will be ignored. Current value: bagging_freq=1\n"
     ]
    },
    {
     "name": "stderr",
     "output_type": "stream",
     "text": [
      "\u001b[32m[I 2021-09-21 18:28:22,086]\u001b[0m Trial 30 finished with value: 0.4333862878891632 and parameters: {'n_estimators': 1000, 'learning_rate': 0.27529678723479317, 'num_leaves': 450, 'max_depth': 5, 'min_data_in_leaf': 4800, 'lambda_l1': 50, 'lambda_l2': 100, 'min_gain_to_split': 6.69401083501032, 'bagging_fraction': 0.8, 'bagging_freq': 1, 'feature_fraction': 0.7}. Best is trial 24 with value: 0.5037124817259434.\u001b[0m\n"
     ]
    },
    {
     "name": "stdout",
     "output_type": "stream",
     "text": [
      "[LightGBM] [Warning] feature_fraction is set=0.8, colsample_bytree=1.0 will be ignored. Current value: feature_fraction=0.8\n",
      "[LightGBM] [Warning] min_data_in_leaf is set=1600, min_child_samples=20 will be ignored. Current value: min_data_in_leaf=1600\n",
      "[LightGBM] [Warning] min_gain_to_split is set=1.5200437853047806, min_split_gain=0.0 will be ignored. Current value: min_gain_to_split=1.5200437853047806\n",
      "[LightGBM] [Warning] lambda_l1 is set=15, reg_alpha=0.0 will be ignored. Current value: lambda_l1=15\n",
      "[LightGBM] [Warning] bagging_fraction is set=0.8, subsample=1.0 will be ignored. Current value: bagging_fraction=0.8\n",
      "[LightGBM] [Warning] lambda_l2 is set=90, reg_lambda=0.0 will be ignored. Current value: lambda_l2=90\n",
      "[LightGBM] [Warning] bagging_freq is set=1, subsample_freq=0 will be ignored. Current value: bagging_freq=1\n"
     ]
    },
    {
     "name": "stderr",
     "output_type": "stream",
     "text": [
      "\u001b[32m[I 2021-09-21 18:28:34,020]\u001b[0m Trial 31 finished with value: 0.4918975476059654 and parameters: {'n_estimators': 1000, 'learning_rate': 0.2257107591602656, 'num_leaves': 600, 'max_depth': 4, 'min_data_in_leaf': 1600, 'lambda_l1': 15, 'lambda_l2': 90, 'min_gain_to_split': 1.5200437853047806, 'bagging_fraction': 0.8, 'bagging_freq': 1, 'feature_fraction': 0.8}. Best is trial 24 with value: 0.5037124817259434.\u001b[0m\n"
     ]
    },
    {
     "name": "stdout",
     "output_type": "stream",
     "text": [
      "[LightGBM] [Warning] feature_fraction is set=0.9, colsample_bytree=1.0 will be ignored. Current value: feature_fraction=0.9\n",
      "[LightGBM] [Warning] min_data_in_leaf is set=700, min_child_samples=20 will be ignored. Current value: min_data_in_leaf=700\n",
      "[LightGBM] [Warning] min_gain_to_split is set=0.08116127557797309, min_split_gain=0.0 will be ignored. Current value: min_gain_to_split=0.08116127557797309\n",
      "[LightGBM] [Warning] lambda_l1 is set=15, reg_alpha=0.0 will be ignored. Current value: lambda_l1=15\n",
      "[LightGBM] [Warning] bagging_fraction is set=0.7, subsample=1.0 will be ignored. Current value: bagging_fraction=0.7\n",
      "[LightGBM] [Warning] lambda_l2 is set=85, reg_lambda=0.0 will be ignored. Current value: lambda_l2=85\n",
      "[LightGBM] [Warning] bagging_freq is set=1, subsample_freq=0 will be ignored. Current value: bagging_freq=1\n"
     ]
    },
    {
     "name": "stderr",
     "output_type": "stream",
     "text": [
      "\u001b[32m[I 2021-09-21 18:28:49,983]\u001b[0m Trial 32 finished with value: 0.503209234562314 and parameters: {'n_estimators': 1000, 'learning_rate': 0.20012391033027335, 'num_leaves': 550, 'max_depth': 5, 'min_data_in_leaf': 700, 'lambda_l1': 15, 'lambda_l2': 85, 'min_gain_to_split': 0.08116127557797309, 'bagging_fraction': 0.7, 'bagging_freq': 1, 'feature_fraction': 0.9}. Best is trial 24 with value: 0.5037124817259434.\u001b[0m\n"
     ]
    },
    {
     "name": "stdout",
     "output_type": "stream",
     "text": [
      "[LightGBM] [Warning] feature_fraction is set=0.8, colsample_bytree=1.0 will be ignored. Current value: feature_fraction=0.8\n",
      "[LightGBM] [Warning] min_data_in_leaf is set=500, min_child_samples=20 will be ignored. Current value: min_data_in_leaf=500\n",
      "[LightGBM] [Warning] min_gain_to_split is set=0.4683095555760728, min_split_gain=0.0 will be ignored. Current value: min_gain_to_split=0.4683095555760728\n",
      "[LightGBM] [Warning] lambda_l1 is set=5, reg_alpha=0.0 will be ignored. Current value: lambda_l1=5\n",
      "[LightGBM] [Warning] bagging_fraction is set=0.9, subsample=1.0 will be ignored. Current value: bagging_fraction=0.9\n",
      "[LightGBM] [Warning] lambda_l2 is set=80, reg_lambda=0.0 will be ignored. Current value: lambda_l2=80\n",
      "[LightGBM] [Warning] bagging_freq is set=1, subsample_freq=0 will be ignored. Current value: bagging_freq=1\n"
     ]
    },
    {
     "name": "stderr",
     "output_type": "stream",
     "text": [
      "\u001b[32m[I 2021-09-21 18:29:06,458]\u001b[0m Trial 33 finished with value: 0.5106251609227802 and parameters: {'n_estimators': 1000, 'learning_rate': 0.19827083979545124, 'num_leaves': 400, 'max_depth': 5, 'min_data_in_leaf': 500, 'lambda_l1': 5, 'lambda_l2': 80, 'min_gain_to_split': 0.4683095555760728, 'bagging_fraction': 0.9, 'bagging_freq': 1, 'feature_fraction': 0.8}. Best is trial 33 with value: 0.5106251609227802.\u001b[0m\n"
     ]
    },
    {
     "name": "stdout",
     "output_type": "stream",
     "text": [
      "[LightGBM] [Warning] feature_fraction is set=0.7, colsample_bytree=1.0 will be ignored. Current value: feature_fraction=0.7\n",
      "[LightGBM] [Warning] min_data_in_leaf is set=100, min_child_samples=20 will be ignored. Current value: min_data_in_leaf=100\n",
      "[LightGBM] [Warning] min_gain_to_split is set=3.9965115212023035, min_split_gain=0.0 will be ignored. Current value: min_gain_to_split=3.9965115212023035\n",
      "[LightGBM] [Warning] lambda_l1 is set=30, reg_alpha=0.0 will be ignored. Current value: lambda_l1=30\n",
      "[LightGBM] [Warning] bagging_fraction is set=0.9, subsample=1.0 will be ignored. Current value: bagging_fraction=0.9\n",
      "[LightGBM] [Warning] lambda_l2 is set=80, reg_lambda=0.0 will be ignored. Current value: lambda_l2=80\n",
      "[LightGBM] [Warning] bagging_freq is set=1, subsample_freq=0 will be ignored. Current value: bagging_freq=1\n"
     ]
    },
    {
     "name": "stderr",
     "output_type": "stream",
     "text": [
      "\u001b[32m[I 2021-09-21 18:29:15,463]\u001b[0m Trial 34 finished with value: 0.49172989897264263 and parameters: {'n_estimators': 1000, 'learning_rate': 0.19232913598356088, 'num_leaves': 350, 'max_depth': 5, 'min_data_in_leaf': 100, 'lambda_l1': 30, 'lambda_l2': 80, 'min_gain_to_split': 3.9965115212023035, 'bagging_fraction': 0.9, 'bagging_freq': 1, 'feature_fraction': 0.7}. Best is trial 33 with value: 0.5106251609227802.\u001b[0m\n"
     ]
    },
    {
     "name": "stdout",
     "output_type": "stream",
     "text": [
      "[LightGBM] [Warning] feature_fraction is set=0.9, colsample_bytree=1.0 will be ignored. Current value: feature_fraction=0.9\n",
      "[LightGBM] [Warning] min_data_in_leaf is set=600, min_child_samples=20 will be ignored. Current value: min_data_in_leaf=600\n",
      "[LightGBM] [Warning] min_gain_to_split is set=0.1436388104590406, min_split_gain=0.0 will be ignored. Current value: min_gain_to_split=0.1436388104590406\n",
      "[LightGBM] [Warning] lambda_l1 is set=5, reg_alpha=0.0 will be ignored. Current value: lambda_l1=5\n",
      "[LightGBM] [Warning] bagging_fraction is set=0.9, subsample=1.0 will be ignored. Current value: bagging_fraction=0.9\n",
      "[LightGBM] [Warning] lambda_l2 is set=75, reg_lambda=0.0 will be ignored. Current value: lambda_l2=75\n",
      "[LightGBM] [Warning] bagging_freq is set=1, subsample_freq=0 will be ignored. Current value: bagging_freq=1\n"
     ]
    },
    {
     "name": "stderr",
     "output_type": "stream",
     "text": [
      "\u001b[32m[I 2021-09-21 18:29:35,444]\u001b[0m Trial 35 finished with value: 0.5058589122524026 and parameters: {'n_estimators': 1000, 'learning_rate': 0.17272407943211068, 'num_leaves': 250, 'max_depth': 5, 'min_data_in_leaf': 600, 'lambda_l1': 5, 'lambda_l2': 75, 'min_gain_to_split': 0.1436388104590406, 'bagging_fraction': 0.9, 'bagging_freq': 1, 'feature_fraction': 0.9}. Best is trial 33 with value: 0.5106251609227802.\u001b[0m\n"
     ]
    },
    {
     "name": "stdout",
     "output_type": "stream",
     "text": [
      "[LightGBM] [Warning] feature_fraction is set=0.9, colsample_bytree=1.0 will be ignored. Current value: feature_fraction=0.9\n",
      "[LightGBM] [Warning] min_data_in_leaf is set=2900, min_child_samples=20 will be ignored. Current value: min_data_in_leaf=2900\n",
      "[LightGBM] [Warning] min_gain_to_split is set=0.2029367304321184, min_split_gain=0.0 will be ignored. Current value: min_gain_to_split=0.2029367304321184\n",
      "[LightGBM] [Warning] lambda_l1 is set=5, reg_alpha=0.0 will be ignored. Current value: lambda_l1=5\n",
      "[LightGBM] [Warning] bagging_fraction is set=0.9, subsample=1.0 will be ignored. Current value: bagging_fraction=0.9\n",
      "[LightGBM] [Warning] lambda_l2 is set=30, reg_lambda=0.0 will be ignored. Current value: lambda_l2=30\n",
      "[LightGBM] [Warning] bagging_freq is set=1, subsample_freq=0 will be ignored. Current value: bagging_freq=1\n"
     ]
    },
    {
     "name": "stderr",
     "output_type": "stream",
     "text": [
      "\u001b[32m[I 2021-09-21 18:29:57,683]\u001b[0m Trial 36 finished with value: 0.48932985064381546 and parameters: {'n_estimators': 1000, 'learning_rate': 0.17065870249014856, 'num_leaves': 200, 'max_depth': 6, 'min_data_in_leaf': 2900, 'lambda_l1': 5, 'lambda_l2': 30, 'min_gain_to_split': 0.2029367304321184, 'bagging_fraction': 0.9, 'bagging_freq': 1, 'feature_fraction': 0.9}. Best is trial 33 with value: 0.5106251609227802.\u001b[0m\n"
     ]
    },
    {
     "name": "stdout",
     "output_type": "stream",
     "text": [
      "[LightGBM] [Warning] feature_fraction is set=0.9, colsample_bytree=1.0 will be ignored. Current value: feature_fraction=0.9\n",
      "[LightGBM] [Warning] min_data_in_leaf is set=700, min_child_samples=20 will be ignored. Current value: min_data_in_leaf=700\n",
      "[LightGBM] [Warning] min_gain_to_split is set=3.5230247707785103, min_split_gain=0.0 will be ignored. Current value: min_gain_to_split=3.5230247707785103\n",
      "[LightGBM] [Warning] lambda_l1 is set=20, reg_alpha=0.0 will be ignored. Current value: lambda_l1=20\n",
      "[LightGBM] [Warning] bagging_fraction is set=0.9, subsample=1.0 will be ignored. Current value: bagging_fraction=0.9\n",
      "[LightGBM] [Warning] lambda_l2 is set=70, reg_lambda=0.0 will be ignored. Current value: lambda_l2=70\n",
      "[LightGBM] [Warning] bagging_freq is set=1, subsample_freq=0 will be ignored. Current value: bagging_freq=1\n"
     ]
    },
    {
     "name": "stderr",
     "output_type": "stream",
     "text": [
      "\u001b[32m[I 2021-09-21 18:30:08,770]\u001b[0m Trial 37 finished with value: 0.4996717171104164 and parameters: {'n_estimators': 1000, 'learning_rate': 0.17750102938264148, 'num_leaves': 250, 'max_depth': 5, 'min_data_in_leaf': 700, 'lambda_l1': 20, 'lambda_l2': 70, 'min_gain_to_split': 3.5230247707785103, 'bagging_fraction': 0.9, 'bagging_freq': 1, 'feature_fraction': 0.9}. Best is trial 33 with value: 0.5106251609227802.\u001b[0m\n"
     ]
    },
    {
     "name": "stdout",
     "output_type": "stream",
     "text": [
      "[LightGBM] [Warning] feature_fraction is set=0.4, colsample_bytree=1.0 will be ignored. Current value: feature_fraction=0.4\n",
      "[LightGBM] [Warning] min_data_in_leaf is set=1400, min_child_samples=20 will be ignored. Current value: min_data_in_leaf=1400\n",
      "[LightGBM] [Warning] min_gain_to_split is set=1.6882956448031372, min_split_gain=0.0 will be ignored. Current value: min_gain_to_split=1.6882956448031372\n",
      "[LightGBM] [Warning] lambda_l1 is set=5, reg_alpha=0.0 will be ignored. Current value: lambda_l1=5\n",
      "[LightGBM] [Warning] bagging_fraction is set=0.9, subsample=1.0 will be ignored. Current value: bagging_fraction=0.9\n",
      "[LightGBM] [Warning] lambda_l2 is set=75, reg_lambda=0.0 will be ignored. Current value: lambda_l2=75\n",
      "[LightGBM] [Warning] bagging_freq is set=1, subsample_freq=0 will be ignored. Current value: bagging_freq=1\n"
     ]
    },
    {
     "name": "stderr",
     "output_type": "stream",
     "text": [
      "\u001b[32m[I 2021-09-21 18:30:17,902]\u001b[0m Trial 38 finished with value: 0.4916014639903594 and parameters: {'n_estimators': 1000, 'learning_rate': 0.19731415620556456, 'num_leaves': 100, 'max_depth': 6, 'min_data_in_leaf': 1400, 'lambda_l1': 5, 'lambda_l2': 75, 'min_gain_to_split': 1.6882956448031372, 'bagging_fraction': 0.9, 'bagging_freq': 1, 'feature_fraction': 0.4}. Best is trial 33 with value: 0.5106251609227802.\u001b[0m\n"
     ]
    },
    {
     "name": "stdout",
     "output_type": "stream",
     "text": [
      "[LightGBM] [Warning] feature_fraction is set=0.7, colsample_bytree=1.0 will be ignored. Current value: feature_fraction=0.7\n",
      "[LightGBM] [Warning] min_data_in_leaf is set=700, min_child_samples=20 will be ignored. Current value: min_data_in_leaf=700\n",
      "[LightGBM] [Warning] min_gain_to_split is set=0.6472815366897905, min_split_gain=0.0 will be ignored. Current value: min_gain_to_split=0.6472815366897905\n",
      "[LightGBM] [Warning] lambda_l1 is set=50, reg_alpha=0.0 will be ignored. Current value: lambda_l1=50\n",
      "[LightGBM] [Warning] bagging_fraction is set=0.6000000000000001, subsample=1.0 will be ignored. Current value: bagging_fraction=0.6000000000000001\n",
      "[LightGBM] [Warning] lambda_l2 is set=50, reg_lambda=0.0 will be ignored. Current value: lambda_l2=50\n",
      "[LightGBM] [Warning] bagging_freq is set=1, subsample_freq=0 will be ignored. Current value: bagging_freq=1\n"
     ]
    },
    {
     "name": "stderr",
     "output_type": "stream",
     "text": [
      "\u001b[32m[I 2021-09-21 18:30:27,728]\u001b[0m Trial 39 finished with value: 0.4994053949555862 and parameters: {'n_estimators': 1000, 'learning_rate': 0.16601086656102756, 'num_leaves': 750, 'max_depth': 5, 'min_data_in_leaf': 700, 'lambda_l1': 50, 'lambda_l2': 50, 'min_gain_to_split': 0.6472815366897905, 'bagging_fraction': 0.6000000000000001, 'bagging_freq': 1, 'feature_fraction': 0.7}. Best is trial 33 with value: 0.5106251609227802.\u001b[0m\n"
     ]
    },
    {
     "name": "stdout",
     "output_type": "stream",
     "text": [
      "[LightGBM] [Warning] feature_fraction is set=0.9, colsample_bytree=1.0 will be ignored. Current value: feature_fraction=0.9\n",
      "[LightGBM] [Warning] min_data_in_leaf is set=2300, min_child_samples=20 will be ignored. Current value: min_data_in_leaf=2300\n",
      "[LightGBM] [Warning] min_gain_to_split is set=2.769185777408012, min_split_gain=0.0 will be ignored. Current value: min_gain_to_split=2.769185777408012\n",
      "[LightGBM] [Warning] lambda_l1 is set=30, reg_alpha=0.0 will be ignored. Current value: lambda_l1=30\n",
      "[LightGBM] [Warning] bagging_fraction is set=0.8, subsample=1.0 will be ignored. Current value: bagging_fraction=0.8\n",
      "[LightGBM] [Warning] lambda_l2 is set=65, reg_lambda=0.0 will be ignored. Current value: lambda_l2=65\n",
      "[LightGBM] [Warning] bagging_freq is set=1, subsample_freq=0 will be ignored. Current value: bagging_freq=1\n"
     ]
    },
    {
     "name": "stderr",
     "output_type": "stream",
     "text": [
      "\u001b[32m[I 2021-09-21 18:30:40,534]\u001b[0m Trial 40 finished with value: 0.49124444310644155 and parameters: {'n_estimators': 1000, 'learning_rate': 0.13353486472369747, 'num_leaves': 150, 'max_depth': 6, 'min_data_in_leaf': 2300, 'lambda_l1': 30, 'lambda_l2': 65, 'min_gain_to_split': 2.769185777408012, 'bagging_fraction': 0.8, 'bagging_freq': 1, 'feature_fraction': 0.9}. Best is trial 33 with value: 0.5106251609227802.\u001b[0m\n"
     ]
    },
    {
     "name": "stdout",
     "output_type": "stream",
     "text": [
      "[LightGBM] [Warning] feature_fraction is set=0.8, colsample_bytree=1.0 will be ignored. Current value: feature_fraction=0.8\n",
      "[LightGBM] [Warning] min_data_in_leaf is set=500, min_child_samples=20 will be ignored. Current value: min_data_in_leaf=500\n",
      "[LightGBM] [Warning] min_gain_to_split is set=0.02594295307439065, min_split_gain=0.0 will be ignored. Current value: min_gain_to_split=0.02594295307439065\n",
      "[LightGBM] [Warning] lambda_l1 is set=5, reg_alpha=0.0 will be ignored. Current value: lambda_l1=5\n",
      "[LightGBM] [Warning] bagging_fraction is set=0.8, subsample=1.0 will be ignored. Current value: bagging_fraction=0.8\n",
      "[LightGBM] [Warning] lambda_l2 is set=85, reg_lambda=0.0 will be ignored. Current value: lambda_l2=85\n",
      "[LightGBM] [Warning] bagging_freq is set=1, subsample_freq=0 will be ignored. Current value: bagging_freq=1\n"
     ]
    },
    {
     "name": "stderr",
     "output_type": "stream",
     "text": [
      "\u001b[32m[I 2021-09-21 18:30:57,382]\u001b[0m Trial 41 finished with value: 0.505594435579798 and parameters: {'n_estimators': 1000, 'learning_rate': 0.23503200977862884, 'num_leaves': 400, 'max_depth': 5, 'min_data_in_leaf': 500, 'lambda_l1': 5, 'lambda_l2': 85, 'min_gain_to_split': 0.02594295307439065, 'bagging_fraction': 0.8, 'bagging_freq': 1, 'feature_fraction': 0.8}. Best is trial 33 with value: 0.5106251609227802.\u001b[0m\n"
     ]
    },
    {
     "name": "stdout",
     "output_type": "stream",
     "text": [
      "[LightGBM] [Warning] feature_fraction is set=0.8, colsample_bytree=1.0 will be ignored. Current value: feature_fraction=0.8\n",
      "[LightGBM] [Warning] min_data_in_leaf is set=1400, min_child_samples=20 will be ignored. Current value: min_data_in_leaf=1400\n",
      "[LightGBM] [Warning] min_gain_to_split is set=0.026299824391086135, min_split_gain=0.0 will be ignored. Current value: min_gain_to_split=0.026299824391086135\n",
      "[LightGBM] [Warning] lambda_l1 is set=0, reg_alpha=0.0 will be ignored. Current value: lambda_l1=0\n",
      "[LightGBM] [Warning] bagging_fraction is set=0.7, subsample=1.0 will be ignored. Current value: bagging_fraction=0.7\n",
      "[LightGBM] [Warning] lambda_l2 is set=75, reg_lambda=0.0 will be ignored. Current value: lambda_l2=75\n",
      "[LightGBM] [Warning] bagging_freq is set=1, subsample_freq=0 will be ignored. Current value: bagging_freq=1\n"
     ]
    },
    {
     "name": "stderr",
     "output_type": "stream",
     "text": [
      "\u001b[32m[I 2021-09-21 18:31:10,757]\u001b[0m Trial 42 finished with value: 0.49277602172432133 and parameters: {'n_estimators': 1000, 'learning_rate': 0.23506680223449924, 'num_leaves': 550, 'max_depth': 5, 'min_data_in_leaf': 1400, 'lambda_l1': 0, 'lambda_l2': 75, 'min_gain_to_split': 0.026299824391086135, 'bagging_fraction': 0.7, 'bagging_freq': 1, 'feature_fraction': 0.8}. Best is trial 33 with value: 0.5106251609227802.\u001b[0m\n"
     ]
    },
    {
     "name": "stdout",
     "output_type": "stream",
     "text": [
      "[LightGBM] [Warning] feature_fraction is set=0.8, colsample_bytree=1.0 will be ignored. Current value: feature_fraction=0.8\n",
      "[LightGBM] [Warning] min_data_in_leaf is set=500, min_child_samples=20 will be ignored. Current value: min_data_in_leaf=500\n",
      "[LightGBM] [Warning] min_gain_to_split is set=1.0605039293592013, min_split_gain=0.0 will be ignored. Current value: min_gain_to_split=1.0605039293592013\n",
      "[LightGBM] [Warning] lambda_l1 is set=5, reg_alpha=0.0 will be ignored. Current value: lambda_l1=5\n",
      "[LightGBM] [Warning] bagging_fraction is set=0.9, subsample=1.0 will be ignored. Current value: bagging_fraction=0.9\n",
      "[LightGBM] [Warning] lambda_l2 is set=90, reg_lambda=0.0 will be ignored. Current value: lambda_l2=90\n",
      "[LightGBM] [Warning] bagging_freq is set=1, subsample_freq=0 will be ignored. Current value: bagging_freq=1\n"
     ]
    },
    {
     "name": "stderr",
     "output_type": "stream",
     "text": [
      "\u001b[32m[I 2021-09-21 18:31:24,569]\u001b[0m Trial 43 finished with value: 0.5098029039243019 and parameters: {'n_estimators': 1000, 'learning_rate': 0.20428747230969074, 'num_leaves': 400, 'max_depth': 5, 'min_data_in_leaf': 500, 'lambda_l1': 5, 'lambda_l2': 90, 'min_gain_to_split': 1.0605039293592013, 'bagging_fraction': 0.9, 'bagging_freq': 1, 'feature_fraction': 0.8}. Best is trial 33 with value: 0.5106251609227802.\u001b[0m\n"
     ]
    },
    {
     "name": "stdout",
     "output_type": "stream",
     "text": [
      "[LightGBM] [Warning] feature_fraction is set=0.7, colsample_bytree=1.0 will be ignored. Current value: feature_fraction=0.7\n",
      "[LightGBM] [Warning] min_data_in_leaf is set=7100, min_child_samples=20 will be ignored. Current value: min_data_in_leaf=7100\n",
      "[LightGBM] [Warning] min_gain_to_split is set=1.0607378188477685, min_split_gain=0.0 will be ignored. Current value: min_gain_to_split=1.0607378188477685\n",
      "[LightGBM] [Warning] lambda_l1 is set=5, reg_alpha=0.0 will be ignored. Current value: lambda_l1=5\n",
      "[LightGBM] [Warning] bagging_fraction is set=0.9, subsample=1.0 will be ignored. Current value: bagging_fraction=0.9\n",
      "[LightGBM] [Warning] lambda_l2 is set=95, reg_lambda=0.0 will be ignored. Current value: lambda_l2=95\n",
      "[LightGBM] [Warning] bagging_freq is set=1, subsample_freq=0 will be ignored. Current value: bagging_freq=1\n"
     ]
    },
    {
     "name": "stderr",
     "output_type": "stream",
     "text": [
      "\u001b[32m[I 2021-09-21 18:31:36,634]\u001b[0m Trial 44 finished with value: 0.4895303453019001 and parameters: {'n_estimators': 1000, 'learning_rate': 0.25647022931123964, 'num_leaves': 250, 'max_depth': 5, 'min_data_in_leaf': 7100, 'lambda_l1': 5, 'lambda_l2': 95, 'min_gain_to_split': 1.0607378188477685, 'bagging_fraction': 0.9, 'bagging_freq': 1, 'feature_fraction': 0.7}. Best is trial 33 with value: 0.5106251609227802.\u001b[0m\n"
     ]
    },
    {
     "name": "stdout",
     "output_type": "stream",
     "text": [
      "[LightGBM] [Warning] feature_fraction is set=0.6000000000000001, colsample_bytree=1.0 will be ignored. Current value: feature_fraction=0.6000000000000001\n",
      "[LightGBM] [Warning] min_data_in_leaf is set=600, min_child_samples=20 will be ignored. Current value: min_data_in_leaf=600\n",
      "[LightGBM] [Warning] min_gain_to_split is set=1.7430035642647204, min_split_gain=0.0 will be ignored. Current value: min_gain_to_split=1.7430035642647204\n",
      "[LightGBM] [Warning] lambda_l1 is set=0, reg_alpha=0.0 will be ignored. Current value: lambda_l1=0\n",
      "[LightGBM] [Warning] bagging_fraction is set=0.9, subsample=1.0 will be ignored. Current value: bagging_fraction=0.9\n",
      "[LightGBM] [Warning] lambda_l2 is set=90, reg_lambda=0.0 will be ignored. Current value: lambda_l2=90\n",
      "[LightGBM] [Warning] bagging_freq is set=1, subsample_freq=0 will be ignored. Current value: bagging_freq=1\n"
     ]
    },
    {
     "name": "stderr",
     "output_type": "stream",
     "text": [
      "\u001b[32m[I 2021-09-21 18:31:47,387]\u001b[0m Trial 45 finished with value: 0.5057584071023042 and parameters: {'n_estimators': 1000, 'learning_rate': 0.23434068037876676, 'num_leaves': 400, 'max_depth': 5, 'min_data_in_leaf': 600, 'lambda_l1': 0, 'lambda_l2': 90, 'min_gain_to_split': 1.7430035642647204, 'bagging_fraction': 0.9, 'bagging_freq': 1, 'feature_fraction': 0.6000000000000001}. Best is trial 33 with value: 0.5106251609227802.\u001b[0m\n"
     ]
    },
    {
     "name": "stdout",
     "output_type": "stream",
     "text": [
      "[LightGBM] [Warning] feature_fraction is set=0.6000000000000001, colsample_bytree=1.0 will be ignored. Current value: feature_fraction=0.6000000000000001\n",
      "[LightGBM] [Warning] min_data_in_leaf is set=1800, min_child_samples=20 will be ignored. Current value: min_data_in_leaf=1800\n",
      "[LightGBM] [Warning] min_gain_to_split is set=1.7488103937049932, min_split_gain=0.0 will be ignored. Current value: min_gain_to_split=1.7488103937049932\n",
      "[LightGBM] [Warning] lambda_l1 is set=0, reg_alpha=0.0 will be ignored. Current value: lambda_l1=0\n",
      "[LightGBM] [Warning] bagging_fraction is set=0.9, subsample=1.0 will be ignored. Current value: bagging_fraction=0.9\n",
      "[LightGBM] [Warning] lambda_l2 is set=20, reg_lambda=0.0 will be ignored. Current value: lambda_l2=20\n",
      "[LightGBM] [Warning] bagging_freq is set=1, subsample_freq=0 will be ignored. Current value: bagging_freq=1\n"
     ]
    },
    {
     "name": "stderr",
     "output_type": "stream",
     "text": [
      "\u001b[32m[I 2021-09-21 18:31:58,242]\u001b[0m Trial 46 finished with value: 0.4953187289011686 and parameters: {'n_estimators': 1000, 'learning_rate': 0.23521555976766748, 'num_leaves': 400, 'max_depth': 5, 'min_data_in_leaf': 1800, 'lambda_l1': 0, 'lambda_l2': 20, 'min_gain_to_split': 1.7488103937049932, 'bagging_fraction': 0.9, 'bagging_freq': 1, 'feature_fraction': 0.6000000000000001}. Best is trial 33 with value: 0.5106251609227802.\u001b[0m\n"
     ]
    },
    {
     "name": "stdout",
     "output_type": "stream",
     "text": [
      "[LightGBM] [Warning] feature_fraction is set=0.4, colsample_bytree=1.0 will be ignored. Current value: feature_fraction=0.4\n",
      "[LightGBM] [Warning] min_data_in_leaf is set=5800, min_child_samples=20 will be ignored. Current value: min_data_in_leaf=5800\n",
      "[LightGBM] [Warning] min_gain_to_split is set=5.316704854101502, min_split_gain=0.0 will be ignored. Current value: min_gain_to_split=5.316704854101502\n",
      "[LightGBM] [Warning] lambda_l1 is set=5, reg_alpha=0.0 will be ignored. Current value: lambda_l1=5\n",
      "[LightGBM] [Warning] bagging_fraction is set=0.9, subsample=1.0 will be ignored. Current value: bagging_fraction=0.9\n",
      "[LightGBM] [Warning] lambda_l2 is set=80, reg_lambda=0.0 will be ignored. Current value: lambda_l2=80\n",
      "[LightGBM] [Warning] bagging_freq is set=1, subsample_freq=0 will be ignored. Current value: bagging_freq=1\n"
     ]
    },
    {
     "name": "stderr",
     "output_type": "stream",
     "text": [
      "\u001b[32m[I 2021-09-21 18:32:05,476]\u001b[0m Trial 47 finished with value: 0.44377974787273644 and parameters: {'n_estimators': 1000, 'learning_rate': 0.1855321006187343, 'num_leaves': 300, 'max_depth': 5, 'min_data_in_leaf': 5800, 'lambda_l1': 5, 'lambda_l2': 80, 'min_gain_to_split': 5.316704854101502, 'bagging_fraction': 0.9, 'bagging_freq': 1, 'feature_fraction': 0.4}. Best is trial 33 with value: 0.5106251609227802.\u001b[0m\n"
     ]
    },
    {
     "name": "stdout",
     "output_type": "stream",
     "text": [
      "[LightGBM] [Warning] feature_fraction is set=0.5, colsample_bytree=1.0 will be ignored. Current value: feature_fraction=0.5\n",
      "[LightGBM] [Warning] min_data_in_leaf is set=2700, min_child_samples=20 will be ignored. Current value: min_data_in_leaf=2700\n",
      "[LightGBM] [Warning] min_gain_to_split is set=0.5868591574035743, min_split_gain=0.0 will be ignored. Current value: min_gain_to_split=0.5868591574035743\n",
      "[LightGBM] [Warning] lambda_l1 is set=25, reg_alpha=0.0 will be ignored. Current value: lambda_l1=25\n",
      "[LightGBM] [Warning] bagging_fraction is set=0.9, subsample=1.0 will be ignored. Current value: bagging_fraction=0.9\n",
      "[LightGBM] [Warning] lambda_l2 is set=40, reg_lambda=0.0 will be ignored. Current value: lambda_l2=40\n",
      "[LightGBM] [Warning] bagging_freq is set=1, subsample_freq=0 will be ignored. Current value: bagging_freq=1\n"
     ]
    },
    {
     "name": "stderr",
     "output_type": "stream",
     "text": [
      "\u001b[32m[I 2021-09-21 18:32:16,246]\u001b[0m Trial 48 finished with value: 0.49299392787780205 and parameters: {'n_estimators': 1000, 'learning_rate': 0.2381420201668147, 'num_leaves': 400, 'max_depth': 6, 'min_data_in_leaf': 2700, 'lambda_l1': 25, 'lambda_l2': 40, 'min_gain_to_split': 0.5868591574035743, 'bagging_fraction': 0.9, 'bagging_freq': 1, 'feature_fraction': 0.5}. Best is trial 33 with value: 0.5106251609227802.\u001b[0m\n"
     ]
    },
    {
     "name": "stdout",
     "output_type": "stream",
     "text": [
      "[LightGBM] [Warning] feature_fraction is set=0.30000000000000004, colsample_bytree=1.0 will be ignored. Current value: feature_fraction=0.30000000000000004\n",
      "[LightGBM] [Warning] min_data_in_leaf is set=1000, min_child_samples=20 will be ignored. Current value: min_data_in_leaf=1000\n",
      "[LightGBM] [Warning] min_gain_to_split is set=2.913423445925408, min_split_gain=0.0 will be ignored. Current value: min_gain_to_split=2.913423445925408\n",
      "[LightGBM] [Warning] lambda_l1 is set=65, reg_alpha=0.0 will be ignored. Current value: lambda_l1=65\n",
      "[LightGBM] [Warning] bagging_fraction is set=0.9, subsample=1.0 will be ignored. Current value: bagging_fraction=0.9\n",
      "[LightGBM] [Warning] lambda_l2 is set=75, reg_lambda=0.0 will be ignored. Current value: lambda_l2=75\n",
      "[LightGBM] [Warning] bagging_freq is set=1, subsample_freq=0 will be ignored. Current value: bagging_freq=1\n"
     ]
    },
    {
     "name": "stderr",
     "output_type": "stream",
     "text": [
      "\u001b[32m[I 2021-09-21 18:32:22,426]\u001b[0m Trial 49 finished with value: 0.48487124220626315 and parameters: {'n_estimators': 1000, 'learning_rate': 0.22584308141393694, 'num_leaves': 250, 'max_depth': 5, 'min_data_in_leaf': 1000, 'lambda_l1': 65, 'lambda_l2': 75, 'min_gain_to_split': 2.913423445925408, 'bagging_fraction': 0.9, 'bagging_freq': 1, 'feature_fraction': 0.30000000000000004}. Best is trial 33 with value: 0.5106251609227802.\u001b[0m\n"
     ]
    },
    {
     "name": "stdout",
     "output_type": "stream",
     "text": [
      "[LightGBM] [Warning] feature_fraction is set=0.6000000000000001, colsample_bytree=1.0 will be ignored. Current value: feature_fraction=0.6000000000000001\n",
      "[LightGBM] [Warning] min_data_in_leaf is set=400, min_child_samples=20 will be ignored. Current value: min_data_in_leaf=400\n",
      "[LightGBM] [Warning] min_gain_to_split is set=12.082257844544763, min_split_gain=0.0 will be ignored. Current value: min_gain_to_split=12.082257844544763\n",
      "[LightGBM] [Warning] lambda_l1 is set=20, reg_alpha=0.0 will be ignored. Current value: lambda_l1=20\n",
      "[LightGBM] [Warning] bagging_fraction is set=0.9, subsample=1.0 will be ignored. Current value: bagging_fraction=0.9\n",
      "[LightGBM] [Warning] lambda_l2 is set=65, reg_lambda=0.0 will be ignored. Current value: lambda_l2=65\n",
      "[LightGBM] [Warning] bagging_freq is set=1, subsample_freq=0 will be ignored. Current value: bagging_freq=1\n"
     ]
    },
    {
     "name": "stderr",
     "output_type": "stream",
     "text": [
      "\u001b[32m[I 2021-09-21 18:32:30,602]\u001b[0m Trial 50 finished with value: 0.49194839291268866 and parameters: {'n_estimators': 1000, 'learning_rate': 0.26684837294672153, 'num_leaves': 350, 'max_depth': 6, 'min_data_in_leaf': 400, 'lambda_l1': 20, 'lambda_l2': 65, 'min_gain_to_split': 12.082257844544763, 'bagging_fraction': 0.9, 'bagging_freq': 1, 'feature_fraction': 0.6000000000000001}. Best is trial 33 with value: 0.5106251609227802.\u001b[0m\n"
     ]
    },
    {
     "name": "stdout",
     "output_type": "stream",
     "text": [
      "[LightGBM] [Warning] feature_fraction is set=0.8, colsample_bytree=1.0 will be ignored. Current value: feature_fraction=0.8\n",
      "[LightGBM] [Warning] min_data_in_leaf is set=500, min_child_samples=20 will be ignored. Current value: min_data_in_leaf=500\n",
      "[LightGBM] [Warning] min_gain_to_split is set=1.7147105915390144, min_split_gain=0.0 will be ignored. Current value: min_gain_to_split=1.7147105915390144\n",
      "[LightGBM] [Warning] lambda_l1 is set=5, reg_alpha=0.0 will be ignored. Current value: lambda_l1=5\n",
      "[LightGBM] [Warning] bagging_fraction is set=0.8, subsample=1.0 will be ignored. Current value: bagging_fraction=0.8\n",
      "[LightGBM] [Warning] lambda_l2 is set=90, reg_lambda=0.0 will be ignored. Current value: lambda_l2=90\n",
      "[LightGBM] [Warning] bagging_freq is set=1, subsample_freq=0 will be ignored. Current value: bagging_freq=1\n"
     ]
    },
    {
     "name": "stderr",
     "output_type": "stream",
     "text": [
      "\u001b[32m[I 2021-09-21 18:32:43,048]\u001b[0m Trial 51 finished with value: 0.5035772405084146 and parameters: {'n_estimators': 1000, 'learning_rate': 0.20614497930267392, 'num_leaves': 500, 'max_depth': 5, 'min_data_in_leaf': 500, 'lambda_l1': 5, 'lambda_l2': 90, 'min_gain_to_split': 1.7147105915390144, 'bagging_fraction': 0.8, 'bagging_freq': 1, 'feature_fraction': 0.8}. Best is trial 33 with value: 0.5106251609227802.\u001b[0m\n"
     ]
    },
    {
     "name": "stdout",
     "output_type": "stream",
     "text": [
      "[LightGBM] [Warning] feature_fraction is set=0.7, colsample_bytree=1.0 will be ignored. Current value: feature_fraction=0.7\n",
      "[LightGBM] [Warning] min_data_in_leaf is set=1200, min_child_samples=20 will be ignored. Current value: min_data_in_leaf=1200\n",
      "[LightGBM] [Warning] min_gain_to_split is set=0.8285639627099428, min_split_gain=0.0 will be ignored. Current value: min_gain_to_split=0.8285639627099428\n",
      "[LightGBM] [Warning] lambda_l1 is set=0, reg_alpha=0.0 will be ignored. Current value: lambda_l1=0\n",
      "[LightGBM] [Warning] bagging_fraction is set=0.8, subsample=1.0 will be ignored. Current value: bagging_fraction=0.8\n",
      "[LightGBM] [Warning] lambda_l2 is set=95, reg_lambda=0.0 will be ignored. Current value: lambda_l2=95\n",
      "[LightGBM] [Warning] bagging_freq is set=1, subsample_freq=0 will be ignored. Current value: bagging_freq=1\n"
     ]
    },
    {
     "name": "stderr",
     "output_type": "stream",
     "text": [
      "\u001b[32m[I 2021-09-21 18:32:56,116]\u001b[0m Trial 52 finished with value: 0.5029022418091451 and parameters: {'n_estimators': 1000, 'learning_rate': 0.16470807803928272, 'num_leaves': 400, 'max_depth': 5, 'min_data_in_leaf': 1200, 'lambda_l1': 0, 'lambda_l2': 95, 'min_gain_to_split': 0.8285639627099428, 'bagging_fraction': 0.8, 'bagging_freq': 1, 'feature_fraction': 0.7}. Best is trial 33 with value: 0.5106251609227802.\u001b[0m\n"
     ]
    },
    {
     "name": "stdout",
     "output_type": "stream",
     "text": [
      "[LightGBM] [Warning] feature_fraction is set=0.8, colsample_bytree=1.0 will be ignored. Current value: feature_fraction=0.8\n",
      "[LightGBM] [Warning] min_data_in_leaf is set=100, min_child_samples=20 will be ignored. Current value: min_data_in_leaf=100\n",
      "[LightGBM] [Warning] min_gain_to_split is set=0.7009697329132744, min_split_gain=0.0 will be ignored. Current value: min_gain_to_split=0.7009697329132744\n",
      "[LightGBM] [Warning] lambda_l1 is set=15, reg_alpha=0.0 will be ignored. Current value: lambda_l1=15\n",
      "[LightGBM] [Warning] bagging_fraction is set=0.9, subsample=1.0 will be ignored. Current value: bagging_fraction=0.9\n",
      "[LightGBM] [Warning] lambda_l2 is set=85, reg_lambda=0.0 will be ignored. Current value: lambda_l2=85\n",
      "[LightGBM] [Warning] bagging_freq is set=1, subsample_freq=0 will be ignored. Current value: bagging_freq=1\n"
     ]
    },
    {
     "name": "stderr",
     "output_type": "stream",
     "text": [
      "\u001b[32m[I 2021-09-21 18:33:10,349]\u001b[0m Trial 53 finished with value: 0.5087870769471942 and parameters: {'n_estimators': 1000, 'learning_rate': 0.1808940230994169, 'num_leaves': 300, 'max_depth': 5, 'min_data_in_leaf': 100, 'lambda_l1': 15, 'lambda_l2': 85, 'min_gain_to_split': 0.7009697329132744, 'bagging_fraction': 0.9, 'bagging_freq': 1, 'feature_fraction': 0.8}. Best is trial 33 with value: 0.5106251609227802.\u001b[0m\n"
     ]
    },
    {
     "name": "stdout",
     "output_type": "stream",
     "text": [
      "[LightGBM] [Warning] feature_fraction is set=0.7, colsample_bytree=1.0 will be ignored. Current value: feature_fraction=0.7\n",
      "[LightGBM] [Warning] min_data_in_leaf is set=100, min_child_samples=20 will be ignored. Current value: min_data_in_leaf=100\n",
      "[LightGBM] [Warning] min_gain_to_split is set=1.9649052525980273, min_split_gain=0.0 will be ignored. Current value: min_gain_to_split=1.9649052525980273\n",
      "[LightGBM] [Warning] lambda_l1 is set=15, reg_alpha=0.0 will be ignored. Current value: lambda_l1=15\n",
      "[LightGBM] [Warning] bagging_fraction is set=0.9, subsample=1.0 will be ignored. Current value: bagging_fraction=0.9\n",
      "[LightGBM] [Warning] lambda_l2 is set=85, reg_lambda=0.0 will be ignored. Current value: lambda_l2=85\n",
      "[LightGBM] [Warning] bagging_freq is set=1, subsample_freq=0 will be ignored. Current value: bagging_freq=1\n"
     ]
    },
    {
     "name": "stderr",
     "output_type": "stream",
     "text": [
      "\u001b[32m[I 2021-09-21 18:33:21,054]\u001b[0m Trial 54 finished with value: 0.5005621914601469 and parameters: {'n_estimators': 1000, 'learning_rate': 0.18571802589806657, 'num_leaves': 300, 'max_depth': 5, 'min_data_in_leaf': 100, 'lambda_l1': 15, 'lambda_l2': 85, 'min_gain_to_split': 1.9649052525980273, 'bagging_fraction': 0.9, 'bagging_freq': 1, 'feature_fraction': 0.7}. Best is trial 33 with value: 0.5106251609227802.\u001b[0m\n"
     ]
    },
    {
     "name": "stdout",
     "output_type": "stream",
     "text": [
      "[LightGBM] [Warning] feature_fraction is set=0.8, colsample_bytree=1.0 will be ignored. Current value: feature_fraction=0.8\n",
      "[LightGBM] [Warning] min_data_in_leaf is set=1100, min_child_samples=20 will be ignored. Current value: min_data_in_leaf=1100\n",
      "[LightGBM] [Warning] min_gain_to_split is set=0.7045440874869503, min_split_gain=0.0 will be ignored. Current value: min_gain_to_split=0.7045440874869503\n",
      "[LightGBM] [Warning] lambda_l1 is set=0, reg_alpha=0.0 will be ignored. Current value: lambda_l1=0\n",
      "[LightGBM] [Warning] bagging_fraction is set=0.9, subsample=1.0 will be ignored. Current value: bagging_fraction=0.9\n",
      "[LightGBM] [Warning] lambda_l2 is set=80, reg_lambda=0.0 will be ignored. Current value: lambda_l2=80\n",
      "[LightGBM] [Warning] bagging_freq is set=1, subsample_freq=0 will be ignored. Current value: bagging_freq=1\n"
     ]
    },
    {
     "name": "stderr",
     "output_type": "stream",
     "text": [
      "\u001b[32m[I 2021-09-21 18:33:36,229]\u001b[0m Trial 55 finished with value: 0.5024789105767286 and parameters: {'n_estimators': 1000, 'learning_rate': 0.1807164293168564, 'num_leaves': 150, 'max_depth': 5, 'min_data_in_leaf': 1100, 'lambda_l1': 0, 'lambda_l2': 80, 'min_gain_to_split': 0.7045440874869503, 'bagging_fraction': 0.9, 'bagging_freq': 1, 'feature_fraction': 0.8}. Best is trial 33 with value: 0.5106251609227802.\u001b[0m\n"
     ]
    },
    {
     "name": "stdout",
     "output_type": "stream",
     "text": [
      "[LightGBM] [Warning] feature_fraction is set=0.8, colsample_bytree=1.0 will be ignored. Current value: feature_fraction=0.8\n",
      "[LightGBM] [Warning] min_data_in_leaf is set=1700, min_child_samples=20 will be ignored. Current value: min_data_in_leaf=1700\n",
      "[LightGBM] [Warning] min_gain_to_split is set=2.9302552385992384, min_split_gain=0.0 will be ignored. Current value: min_gain_to_split=2.9302552385992384\n",
      "[LightGBM] [Warning] lambda_l1 is set=40, reg_alpha=0.0 will be ignored. Current value: lambda_l1=40\n",
      "[LightGBM] [Warning] bagging_fraction is set=0.9, subsample=1.0 will be ignored. Current value: bagging_fraction=0.9\n",
      "[LightGBM] [Warning] lambda_l2 is set=70, reg_lambda=0.0 will be ignored. Current value: lambda_l2=70\n",
      "[LightGBM] [Warning] bagging_freq is set=1, subsample_freq=0 will be ignored. Current value: bagging_freq=1\n"
     ]
    },
    {
     "name": "stderr",
     "output_type": "stream",
     "text": [
      "\u001b[32m[I 2021-09-21 18:33:46,400]\u001b[0m Trial 56 finished with value: 0.48436764051578335 and parameters: {'n_estimators': 1000, 'learning_rate': 0.12477387664635846, 'num_leaves': 200, 'max_depth': 5, 'min_data_in_leaf': 1700, 'lambda_l1': 40, 'lambda_l2': 70, 'min_gain_to_split': 2.9302552385992384, 'bagging_fraction': 0.9, 'bagging_freq': 1, 'feature_fraction': 0.8}. Best is trial 33 with value: 0.5106251609227802.\u001b[0m\n"
     ]
    },
    {
     "name": "stdout",
     "output_type": "stream",
     "text": [
      "[LightGBM] [Warning] feature_fraction is set=0.9, colsample_bytree=1.0 will be ignored. Current value: feature_fraction=0.9\n",
      "[LightGBM] [Warning] min_data_in_leaf is set=8000, min_child_samples=20 will be ignored. Current value: min_data_in_leaf=8000\n",
      "[LightGBM] [Warning] min_gain_to_split is set=0.670450698656138, min_split_gain=0.0 will be ignored. Current value: min_gain_to_split=0.670450698656138\n",
      "[LightGBM] [Warning] lambda_l1 is set=10, reg_alpha=0.0 will be ignored. Current value: lambda_l1=10\n",
      "[LightGBM] [Warning] bagging_fraction is set=0.5, subsample=1.0 will be ignored. Current value: bagging_fraction=0.5\n",
      "[LightGBM] [Warning] lambda_l2 is set=95, reg_lambda=0.0 will be ignored. Current value: lambda_l2=95\n",
      "[LightGBM] [Warning] bagging_freq is set=1, subsample_freq=0 will be ignored. Current value: bagging_freq=1\n"
     ]
    },
    {
     "name": "stderr",
     "output_type": "stream",
     "text": [
      "\u001b[32m[I 2021-09-21 18:33:56,139]\u001b[0m Trial 57 finished with value: 0.4716711083299381 and parameters: {'n_estimators': 1000, 'learning_rate': 0.24529750961112357, 'num_leaves': 350, 'max_depth': 5, 'min_data_in_leaf': 8000, 'lambda_l1': 10, 'lambda_l2': 95, 'min_gain_to_split': 0.670450698656138, 'bagging_fraction': 0.5, 'bagging_freq': 1, 'feature_fraction': 0.9}. Best is trial 33 with value: 0.5106251609227802.\u001b[0m\n"
     ]
    },
    {
     "name": "stdout",
     "output_type": "stream",
     "text": [
      "[LightGBM] [Warning] feature_fraction is set=0.9, colsample_bytree=1.0 will be ignored. Current value: feature_fraction=0.9\n",
      "[LightGBM] [Warning] min_data_in_leaf is set=600, min_child_samples=20 will be ignored. Current value: min_data_in_leaf=600\n",
      "[LightGBM] [Warning] min_gain_to_split is set=3.765014195258802, min_split_gain=0.0 will be ignored. Current value: min_gain_to_split=3.765014195258802\n",
      "[LightGBM] [Warning] lambda_l1 is set=5, reg_alpha=0.0 will be ignored. Current value: lambda_l1=5\n",
      "[LightGBM] [Warning] bagging_fraction is set=0.30000000000000004, subsample=1.0 will be ignored. Current value: bagging_fraction=0.30000000000000004\n",
      "[LightGBM] [Warning] lambda_l2 is set=0, reg_lambda=0.0 will be ignored. Current value: lambda_l2=0\n",
      "[LightGBM] [Warning] bagging_freq is set=1, subsample_freq=0 will be ignored. Current value: bagging_freq=1\n"
     ]
    },
    {
     "name": "stderr",
     "output_type": "stream",
     "text": [
      "\u001b[32m[I 2021-09-21 18:34:04,808]\u001b[0m Trial 58 finished with value: 0.48481908910301064 and parameters: {'n_estimators': 1000, 'learning_rate': 0.1598632888090083, 'num_leaves': 250, 'max_depth': 5, 'min_data_in_leaf': 600, 'lambda_l1': 5, 'lambda_l2': 0, 'min_gain_to_split': 3.765014195258802, 'bagging_fraction': 0.30000000000000004, 'bagging_freq': 1, 'feature_fraction': 0.9}. Best is trial 33 with value: 0.5106251609227802.\u001b[0m\n"
     ]
    },
    {
     "name": "stdout",
     "output_type": "stream",
     "text": [
      "[LightGBM] [Warning] feature_fraction is set=0.30000000000000004, colsample_bytree=1.0 will be ignored. Current value: feature_fraction=0.30000000000000004\n",
      "[LightGBM] [Warning] min_data_in_leaf is set=1300, min_child_samples=20 will be ignored. Current value: min_data_in_leaf=1300\n",
      "[LightGBM] [Warning] min_gain_to_split is set=8.940591804872092, min_split_gain=0.0 will be ignored. Current value: min_gain_to_split=8.940591804872092\n",
      "[LightGBM] [Warning] lambda_l1 is set=95, reg_alpha=0.0 will be ignored. Current value: lambda_l1=95\n",
      "[LightGBM] [Warning] bagging_fraction is set=0.8, subsample=1.0 will be ignored. Current value: bagging_fraction=0.8\n",
      "[LightGBM] [Warning] lambda_l2 is set=75, reg_lambda=0.0 will be ignored. Current value: lambda_l2=75\n",
      "[LightGBM] [Warning] bagging_freq is set=1, subsample_freq=0 will be ignored. Current value: bagging_freq=1\n"
     ]
    },
    {
     "name": "stderr",
     "output_type": "stream",
     "text": [
      "\u001b[32m[I 2021-09-21 18:34:10,568]\u001b[0m Trial 59 finished with value: 0.47814038262345876 and parameters: {'n_estimators': 1000, 'learning_rate': 0.21659178808639162, 'num_leaves': 300, 'max_depth': 5, 'min_data_in_leaf': 1300, 'lambda_l1': 95, 'lambda_l2': 75, 'min_gain_to_split': 8.940591804872092, 'bagging_fraction': 0.8, 'bagging_freq': 1, 'feature_fraction': 0.30000000000000004}. Best is trial 33 with value: 0.5106251609227802.\u001b[0m\n"
     ]
    },
    {
     "name": "stdout",
     "output_type": "stream",
     "text": [
      "[LightGBM] [Warning] feature_fraction is set=0.7, colsample_bytree=1.0 will be ignored. Current value: feature_fraction=0.7\n",
      "[LightGBM] [Warning] min_data_in_leaf is set=100, min_child_samples=20 will be ignored. Current value: min_data_in_leaf=100\n",
      "[LightGBM] [Warning] min_gain_to_split is set=2.2761828873399352, min_split_gain=0.0 will be ignored. Current value: min_gain_to_split=2.2761828873399352\n",
      "[LightGBM] [Warning] lambda_l1 is set=20, reg_alpha=0.0 will be ignored. Current value: lambda_l1=20\n",
      "[LightGBM] [Warning] bagging_fraction is set=0.9, subsample=1.0 will be ignored. Current value: bagging_fraction=0.9\n",
      "[LightGBM] [Warning] lambda_l2 is set=65, reg_lambda=0.0 will be ignored. Current value: lambda_l2=65\n",
      "[LightGBM] [Warning] bagging_freq is set=1, subsample_freq=0 will be ignored. Current value: bagging_freq=1\n"
     ]
    },
    {
     "name": "stderr",
     "output_type": "stream",
     "text": [
      "\u001b[32m[I 2021-09-21 18:34:21,282]\u001b[0m Trial 60 finished with value: 0.4917776589912329 and parameters: {'n_estimators': 1000, 'learning_rate': 0.13582253241075448, 'num_leaves': 400, 'max_depth': 5, 'min_data_in_leaf': 100, 'lambda_l1': 20, 'lambda_l2': 65, 'min_gain_to_split': 2.2761828873399352, 'bagging_fraction': 0.9, 'bagging_freq': 1, 'feature_fraction': 0.7}. Best is trial 33 with value: 0.5106251609227802.\u001b[0m\n"
     ]
    },
    {
     "name": "stdout",
     "output_type": "stream",
     "text": [
      "[LightGBM] [Warning] feature_fraction is set=0.8, colsample_bytree=1.0 will be ignored. Current value: feature_fraction=0.8\n",
      "[LightGBM] [Warning] min_data_in_leaf is set=500, min_child_samples=20 will be ignored. Current value: min_data_in_leaf=500\n",
      "[LightGBM] [Warning] min_gain_to_split is set=1.2542528926617624, min_split_gain=0.0 will be ignored. Current value: min_gain_to_split=1.2542528926617624\n",
      "[LightGBM] [Warning] lambda_l1 is set=10, reg_alpha=0.0 will be ignored. Current value: lambda_l1=10\n",
      "[LightGBM] [Warning] bagging_fraction is set=0.8, subsample=1.0 will be ignored. Current value: bagging_fraction=0.8\n",
      "[LightGBM] [Warning] lambda_l2 is set=90, reg_lambda=0.0 will be ignored. Current value: lambda_l2=90\n",
      "[LightGBM] [Warning] bagging_freq is set=1, subsample_freq=0 will be ignored. Current value: bagging_freq=1\n"
     ]
    },
    {
     "name": "stderr",
     "output_type": "stream",
     "text": [
      "\u001b[32m[I 2021-09-21 18:34:33,503]\u001b[0m Trial 61 finished with value: 0.5022615782310214 and parameters: {'n_estimators': 1000, 'learning_rate': 0.20403101678694807, 'num_leaves': 500, 'max_depth': 4, 'min_data_in_leaf': 500, 'lambda_l1': 10, 'lambda_l2': 90, 'min_gain_to_split': 1.2542528926617624, 'bagging_fraction': 0.8, 'bagging_freq': 1, 'feature_fraction': 0.8}. Best is trial 33 with value: 0.5106251609227802.\u001b[0m\n"
     ]
    },
    {
     "name": "stdout",
     "output_type": "stream",
     "text": [
      "[LightGBM] [Warning] feature_fraction is set=0.8, colsample_bytree=1.0 will be ignored. Current value: feature_fraction=0.8\n",
      "[LightGBM] [Warning] min_data_in_leaf is set=900, min_child_samples=20 will be ignored. Current value: min_data_in_leaf=900\n",
      "[LightGBM] [Warning] min_gain_to_split is set=10.908620992346377, min_split_gain=0.0 will be ignored. Current value: min_gain_to_split=10.908620992346377\n",
      "[LightGBM] [Warning] lambda_l1 is set=10, reg_alpha=0.0 will be ignored. Current value: lambda_l1=10\n",
      "[LightGBM] [Warning] bagging_fraction is set=0.8, subsample=1.0 will be ignored. Current value: bagging_fraction=0.8\n",
      "[LightGBM] [Warning] lambda_l2 is set=85, reg_lambda=0.0 will be ignored. Current value: lambda_l2=85\n",
      "[LightGBM] [Warning] bagging_freq is set=1, subsample_freq=0 will be ignored. Current value: bagging_freq=1\n"
     ]
    },
    {
     "name": "stderr",
     "output_type": "stream",
     "text": [
      "\u001b[32m[I 2021-09-21 18:34:42,597]\u001b[0m Trial 62 finished with value: 0.4926346433100607 and parameters: {'n_estimators': 1000, 'learning_rate': 0.22677714227443127, 'num_leaves': 350, 'max_depth': 4, 'min_data_in_leaf': 900, 'lambda_l1': 10, 'lambda_l2': 85, 'min_gain_to_split': 10.908620992346377, 'bagging_fraction': 0.8, 'bagging_freq': 1, 'feature_fraction': 0.8}. Best is trial 33 with value: 0.5106251609227802.\u001b[0m\n"
     ]
    },
    {
     "name": "stdout",
     "output_type": "stream",
     "text": [
      "[LightGBM] [Warning] feature_fraction is set=0.8, colsample_bytree=1.0 will be ignored. Current value: feature_fraction=0.8\n",
      "[LightGBM] [Warning] min_data_in_leaf is set=900, min_child_samples=20 will be ignored. Current value: min_data_in_leaf=900\n",
      "[LightGBM] [Warning] min_gain_to_split is set=13.500078691957698, min_split_gain=0.0 will be ignored. Current value: min_gain_to_split=13.500078691957698\n",
      "[LightGBM] [Warning] lambda_l1 is set=15, reg_alpha=0.0 will be ignored. Current value: lambda_l1=15\n",
      "[LightGBM] [Warning] bagging_fraction is set=0.9, subsample=1.0 will be ignored. Current value: bagging_fraction=0.9\n",
      "[LightGBM] [Warning] lambda_l2 is set=90, reg_lambda=0.0 will be ignored. Current value: lambda_l2=90\n",
      "[LightGBM] [Warning] bagging_freq is set=1, subsample_freq=0 will be ignored. Current value: bagging_freq=1\n"
     ]
    },
    {
     "name": "stderr",
     "output_type": "stream",
     "text": [
      "\u001b[32m[I 2021-09-21 18:34:54,111]\u001b[0m Trial 63 finished with value: 0.4874886042818492 and parameters: {'n_estimators': 1000, 'learning_rate': 0.1937323674072808, 'num_leaves': 450, 'max_depth': 5, 'min_data_in_leaf': 900, 'lambda_l1': 15, 'lambda_l2': 90, 'min_gain_to_split': 13.500078691957698, 'bagging_fraction': 0.9, 'bagging_freq': 1, 'feature_fraction': 0.8}. Best is trial 33 with value: 0.5106251609227802.\u001b[0m\n"
     ]
    },
    {
     "name": "stdout",
     "output_type": "stream",
     "text": [
      "[LightGBM] [Warning] feature_fraction is set=0.8, colsample_bytree=1.0 will be ignored. Current value: feature_fraction=0.8\n",
      "[LightGBM] [Warning] min_data_in_leaf is set=400, min_child_samples=20 will be ignored. Current value: min_data_in_leaf=400\n",
      "[LightGBM] [Warning] min_gain_to_split is set=1.4722932639772424, min_split_gain=0.0 will be ignored. Current value: min_gain_to_split=1.4722932639772424\n",
      "[LightGBM] [Warning] lambda_l1 is set=0, reg_alpha=0.0 will be ignored. Current value: lambda_l1=0\n",
      "[LightGBM] [Warning] bagging_fraction is set=0.8, subsample=1.0 will be ignored. Current value: bagging_fraction=0.8\n",
      "[LightGBM] [Warning] lambda_l2 is set=85, reg_lambda=0.0 will be ignored. Current value: lambda_l2=85\n",
      "[LightGBM] [Warning] bagging_freq is set=1, subsample_freq=0 will be ignored. Current value: bagging_freq=1\n"
     ]
    },
    {
     "name": "stderr",
     "output_type": "stream",
     "text": [
      "\u001b[32m[I 2021-09-21 18:35:07,990]\u001b[0m Trial 64 finished with value: 0.5020188745300289 and parameters: {'n_estimators': 1000, 'learning_rate': 0.21117880618587925, 'num_leaves': 400, 'max_depth': 5, 'min_data_in_leaf': 400, 'lambda_l1': 0, 'lambda_l2': 85, 'min_gain_to_split': 1.4722932639772424, 'bagging_fraction': 0.8, 'bagging_freq': 1, 'feature_fraction': 0.8}. Best is trial 33 with value: 0.5106251609227802.\u001b[0m\n"
     ]
    },
    {
     "name": "stdout",
     "output_type": "stream",
     "text": [
      "[LightGBM] [Warning] feature_fraction is set=0.7, colsample_bytree=1.0 will be ignored. Current value: feature_fraction=0.7\n",
      "[LightGBM] [Warning] min_data_in_leaf is set=1500, min_child_samples=20 will be ignored. Current value: min_data_in_leaf=1500\n",
      "[LightGBM] [Warning] min_gain_to_split is set=0.6423356049062832, min_split_gain=0.0 will be ignored. Current value: min_gain_to_split=0.6423356049062832\n",
      "[LightGBM] [Warning] lambda_l1 is set=5, reg_alpha=0.0 will be ignored. Current value: lambda_l1=5\n",
      "[LightGBM] [Warning] bagging_fraction is set=0.9, subsample=1.0 will be ignored. Current value: bagging_fraction=0.9\n",
      "[LightGBM] [Warning] lambda_l2 is set=95, reg_lambda=0.0 will be ignored. Current value: lambda_l2=95\n",
      "[LightGBM] [Warning] bagging_freq is set=1, subsample_freq=0 will be ignored. Current value: bagging_freq=1\n"
     ]
    },
    {
     "name": "stderr",
     "output_type": "stream",
     "text": [
      "\u001b[32m[I 2021-09-21 18:35:20,960]\u001b[0m Trial 65 finished with value: 0.49901584034695 and parameters: {'n_estimators': 1000, 'learning_rate': 0.17609444771177385, 'num_leaves': 450, 'max_depth': 4, 'min_data_in_leaf': 1500, 'lambda_l1': 5, 'lambda_l2': 95, 'min_gain_to_split': 0.6423356049062832, 'bagging_fraction': 0.9, 'bagging_freq': 1, 'feature_fraction': 0.7}. Best is trial 33 with value: 0.5106251609227802.\u001b[0m\n"
     ]
    },
    {
     "name": "stdout",
     "output_type": "stream",
     "text": [
      "[LightGBM] [Warning] feature_fraction is set=0.9, colsample_bytree=1.0 will be ignored. Current value: feature_fraction=0.9\n",
      "[LightGBM] [Warning] min_data_in_leaf is set=1800, min_child_samples=20 will be ignored. Current value: min_data_in_leaf=1800\n",
      "[LightGBM] [Warning] min_gain_to_split is set=7.529167596541416, min_split_gain=0.0 will be ignored. Current value: min_gain_to_split=7.529167596541416\n",
      "[LightGBM] [Warning] lambda_l1 is set=15, reg_alpha=0.0 will be ignored. Current value: lambda_l1=15\n",
      "[LightGBM] [Warning] bagging_fraction is set=0.8, subsample=1.0 will be ignored. Current value: bagging_fraction=0.8\n",
      "[LightGBM] [Warning] lambda_l2 is set=80, reg_lambda=0.0 will be ignored. Current value: lambda_l2=80\n",
      "[LightGBM] [Warning] bagging_freq is set=1, subsample_freq=0 will be ignored. Current value: bagging_freq=1\n"
     ]
    },
    {
     "name": "stderr",
     "output_type": "stream",
     "text": [
      "\u001b[32m[I 2021-09-21 18:35:31,174]\u001b[0m Trial 66 finished with value: 0.47674756295997667 and parameters: {'n_estimators': 1000, 'learning_rate': 0.14311061887785154, 'num_leaves': 500, 'max_depth': 5, 'min_data_in_leaf': 1800, 'lambda_l1': 15, 'lambda_l2': 80, 'min_gain_to_split': 7.529167596541416, 'bagging_fraction': 0.8, 'bagging_freq': 1, 'feature_fraction': 0.9}. Best is trial 33 with value: 0.5106251609227802.\u001b[0m\n"
     ]
    },
    {
     "name": "stdout",
     "output_type": "stream",
     "text": [
      "[LightGBM] [Warning] feature_fraction is set=0.8, colsample_bytree=1.0 will be ignored. Current value: feature_fraction=0.8\n",
      "[LightGBM] [Warning] min_data_in_leaf is set=400, min_child_samples=20 will be ignored. Current value: min_data_in_leaf=400\n",
      "[LightGBM] [Warning] min_gain_to_split is set=1.1087057051716074, min_split_gain=0.0 will be ignored. Current value: min_gain_to_split=1.1087057051716074\n",
      "[LightGBM] [Warning] lambda_l1 is set=10, reg_alpha=0.0 will be ignored. Current value: lambda_l1=10\n",
      "[LightGBM] [Warning] bagging_fraction is set=0.2, subsample=1.0 will be ignored. Current value: bagging_fraction=0.2\n",
      "[LightGBM] [Warning] lambda_l2 is set=100, reg_lambda=0.0 will be ignored. Current value: lambda_l2=100\n",
      "[LightGBM] [Warning] bagging_freq is set=1, subsample_freq=0 will be ignored. Current value: bagging_freq=1\n"
     ]
    },
    {
     "name": "stderr",
     "output_type": "stream",
     "text": [
      "\u001b[32m[I 2021-09-21 18:35:39,754]\u001b[0m Trial 67 finished with value: 0.49376643731610914 and parameters: {'n_estimators': 1000, 'learning_rate': 0.22052464904065877, 'num_leaves': 300, 'max_depth': 5, 'min_data_in_leaf': 400, 'lambda_l1': 10, 'lambda_l2': 100, 'min_gain_to_split': 1.1087057051716074, 'bagging_fraction': 0.2, 'bagging_freq': 1, 'feature_fraction': 0.8}. Best is trial 33 with value: 0.5106251609227802.\u001b[0m\n"
     ]
    },
    {
     "name": "stdout",
     "output_type": "stream",
     "text": [
      "[LightGBM] [Warning] feature_fraction is set=0.6000000000000001, colsample_bytree=1.0 will be ignored. Current value: feature_fraction=0.6000000000000001\n",
      "[LightGBM] [Warning] min_data_in_leaf is set=2000, min_child_samples=20 will be ignored. Current value: min_data_in_leaf=2000\n",
      "[LightGBM] [Warning] min_gain_to_split is set=0.0491360838075523, min_split_gain=0.0 will be ignored. Current value: min_gain_to_split=0.0491360838075523\n",
      "[LightGBM] [Warning] lambda_l1 is set=5, reg_alpha=0.0 will be ignored. Current value: lambda_l1=5\n",
      "[LightGBM] [Warning] bagging_fraction is set=0.9, subsample=1.0 will be ignored. Current value: bagging_fraction=0.9\n",
      "[LightGBM] [Warning] lambda_l2 is set=90, reg_lambda=0.0 will be ignored. Current value: lambda_l2=90\n",
      "[LightGBM] [Warning] bagging_freq is set=1, subsample_freq=0 will be ignored. Current value: bagging_freq=1\n"
     ]
    },
    {
     "name": "stderr",
     "output_type": "stream",
     "text": [
      "\u001b[32m[I 2021-09-21 18:35:52,318]\u001b[0m Trial 68 finished with value: 0.49078254553134937 and parameters: {'n_estimators': 1000, 'learning_rate': 0.18984781819839963, 'num_leaves': 200, 'max_depth': 4, 'min_data_in_leaf': 2000, 'lambda_l1': 5, 'lambda_l2': 90, 'min_gain_to_split': 0.0491360838075523, 'bagging_fraction': 0.9, 'bagging_freq': 1, 'feature_fraction': 0.6000000000000001}. Best is trial 33 with value: 0.5106251609227802.\u001b[0m\n"
     ]
    },
    {
     "name": "stdout",
     "output_type": "stream",
     "text": [
      "[LightGBM] [Warning] feature_fraction is set=0.9, colsample_bytree=1.0 will be ignored. Current value: feature_fraction=0.9\n",
      "[LightGBM] [Warning] min_data_in_leaf is set=1100, min_child_samples=20 will be ignored. Current value: min_data_in_leaf=1100\n",
      "[LightGBM] [Warning] min_gain_to_split is set=2.062215872903259, min_split_gain=0.0 will be ignored. Current value: min_gain_to_split=2.062215872903259\n",
      "[LightGBM] [Warning] lambda_l1 is set=60, reg_alpha=0.0 will be ignored. Current value: lambda_l1=60\n",
      "[LightGBM] [Warning] bagging_fraction is set=0.7, subsample=1.0 will be ignored. Current value: bagging_fraction=0.7\n",
      "[LightGBM] [Warning] lambda_l2 is set=85, reg_lambda=0.0 will be ignored. Current value: lambda_l2=85\n",
      "[LightGBM] [Warning] bagging_freq is set=1, subsample_freq=0 will be ignored. Current value: bagging_freq=1\n"
     ]
    },
    {
     "name": "stderr",
     "output_type": "stream",
     "text": [
      "\u001b[32m[I 2021-09-21 18:36:02,094]\u001b[0m Trial 69 finished with value: 0.4992886315356458 and parameters: {'n_estimators': 1000, 'learning_rate': 0.24624019527135738, 'num_leaves': 350, 'max_depth': 5, 'min_data_in_leaf': 1100, 'lambda_l1': 60, 'lambda_l2': 85, 'min_gain_to_split': 2.062215872903259, 'bagging_fraction': 0.7, 'bagging_freq': 1, 'feature_fraction': 0.9}. Best is trial 33 with value: 0.5106251609227802.\u001b[0m\n"
     ]
    },
    {
     "name": "stdout",
     "output_type": "stream",
     "text": [
      "[LightGBM] [Warning] feature_fraction is set=0.7, colsample_bytree=1.0 will be ignored. Current value: feature_fraction=0.7\n",
      "[LightGBM] [Warning] min_data_in_leaf is set=2400, min_child_samples=20 will be ignored. Current value: min_data_in_leaf=2400\n",
      "[LightGBM] [Warning] min_gain_to_split is set=2.46843643435273, min_split_gain=0.0 will be ignored. Current value: min_gain_to_split=2.46843643435273\n",
      "[LightGBM] [Warning] lambda_l1 is set=25, reg_alpha=0.0 will be ignored. Current value: lambda_l1=25\n",
      "[LightGBM] [Warning] bagging_fraction is set=0.9, subsample=1.0 will be ignored. Current value: bagging_fraction=0.9\n",
      "[LightGBM] [Warning] lambda_l2 is set=75, reg_lambda=0.0 will be ignored. Current value: lambda_l2=75\n",
      "[LightGBM] [Warning] bagging_freq is set=1, subsample_freq=0 will be ignored. Current value: bagging_freq=1\n"
     ]
    },
    {
     "name": "stderr",
     "output_type": "stream",
     "text": [
      "\u001b[32m[I 2021-09-21 18:36:11,722]\u001b[0m Trial 70 finished with value: 0.49254162478667024 and parameters: {'n_estimators': 1000, 'learning_rate': 0.21289898251043698, 'num_leaves': 400, 'max_depth': 5, 'min_data_in_leaf': 2400, 'lambda_l1': 25, 'lambda_l2': 75, 'min_gain_to_split': 2.46843643435273, 'bagging_fraction': 0.9, 'bagging_freq': 1, 'feature_fraction': 0.7}. Best is trial 33 with value: 0.5106251609227802.\u001b[0m\n"
     ]
    },
    {
     "name": "stdout",
     "output_type": "stream",
     "text": [
      "[LightGBM] [Warning] feature_fraction is set=0.8, colsample_bytree=1.0 will be ignored. Current value: feature_fraction=0.8\n",
      "[LightGBM] [Warning] min_data_in_leaf is set=600, min_child_samples=20 will be ignored. Current value: min_data_in_leaf=600\n",
      "[LightGBM] [Warning] min_gain_to_split is set=1.737612880423692, min_split_gain=0.0 will be ignored. Current value: min_gain_to_split=1.737612880423692\n",
      "[LightGBM] [Warning] lambda_l1 is set=0, reg_alpha=0.0 will be ignored. Current value: lambda_l1=0\n",
      "[LightGBM] [Warning] bagging_fraction is set=0.8, subsample=1.0 will be ignored. Current value: bagging_fraction=0.8\n",
      "[LightGBM] [Warning] lambda_l2 is set=90, reg_lambda=0.0 will be ignored. Current value: lambda_l2=90\n",
      "[LightGBM] [Warning] bagging_freq is set=1, subsample_freq=0 will be ignored. Current value: bagging_freq=1\n"
     ]
    },
    {
     "name": "stderr",
     "output_type": "stream",
     "text": [
      "\u001b[32m[I 2021-09-21 18:36:24,209]\u001b[0m Trial 71 finished with value: 0.503795957152576 and parameters: {'n_estimators': 1000, 'learning_rate': 0.2013293105216108, 'num_leaves': 600, 'max_depth': 5, 'min_data_in_leaf': 600, 'lambda_l1': 0, 'lambda_l2': 90, 'min_gain_to_split': 1.737612880423692, 'bagging_fraction': 0.8, 'bagging_freq': 1, 'feature_fraction': 0.8}. Best is trial 33 with value: 0.5106251609227802.\u001b[0m\n"
     ]
    },
    {
     "name": "stdout",
     "output_type": "stream",
     "text": [
      "[LightGBM] [Warning] feature_fraction is set=0.8, colsample_bytree=1.0 will be ignored. Current value: feature_fraction=0.8\n",
      "[LightGBM] [Warning] min_data_in_leaf is set=800, min_child_samples=20 will be ignored. Current value: min_data_in_leaf=800\n",
      "[LightGBM] [Warning] min_gain_to_split is set=0.4403765599143973, min_split_gain=0.0 will be ignored. Current value: min_gain_to_split=0.4403765599143973\n",
      "[LightGBM] [Warning] lambda_l1 is set=0, reg_alpha=0.0 will be ignored. Current value: lambda_l1=0\n",
      "[LightGBM] [Warning] bagging_fraction is set=0.8, subsample=1.0 will be ignored. Current value: bagging_fraction=0.8\n",
      "[LightGBM] [Warning] lambda_l2 is set=95, reg_lambda=0.0 will be ignored. Current value: lambda_l2=95\n",
      "[LightGBM] [Warning] bagging_freq is set=1, subsample_freq=0 will be ignored. Current value: bagging_freq=1\n"
     ]
    },
    {
     "name": "stderr",
     "output_type": "stream",
     "text": [
      "\u001b[32m[I 2021-09-21 18:36:38,941]\u001b[0m Trial 72 finished with value: 0.504827624398152 and parameters: {'n_estimators': 1000, 'learning_rate': 0.20132408896334011, 'num_leaves': 700, 'max_depth': 5, 'min_data_in_leaf': 800, 'lambda_l1': 0, 'lambda_l2': 95, 'min_gain_to_split': 0.4403765599143973, 'bagging_fraction': 0.8, 'bagging_freq': 1, 'feature_fraction': 0.8}. Best is trial 33 with value: 0.5106251609227802.\u001b[0m\n"
     ]
    },
    {
     "name": "stdout",
     "output_type": "stream",
     "text": [
      "[LightGBM] [Warning] feature_fraction is set=0.8, colsample_bytree=1.0 will be ignored. Current value: feature_fraction=0.8\n",
      "[LightGBM] [Warning] min_data_in_leaf is set=700, min_child_samples=20 will be ignored. Current value: min_data_in_leaf=700\n",
      "[LightGBM] [Warning] min_gain_to_split is set=0.49254744876958173, min_split_gain=0.0 will be ignored. Current value: min_gain_to_split=0.49254744876958173\n",
      "[LightGBM] [Warning] lambda_l1 is set=0, reg_alpha=0.0 will be ignored. Current value: lambda_l1=0\n",
      "[LightGBM] [Warning] bagging_fraction is set=0.7, subsample=1.0 will be ignored. Current value: bagging_fraction=0.7\n",
      "[LightGBM] [Warning] lambda_l2 is set=95, reg_lambda=0.0 will be ignored. Current value: lambda_l2=95\n",
      "[LightGBM] [Warning] bagging_freq is set=1, subsample_freq=0 will be ignored. Current value: bagging_freq=1\n"
     ]
    },
    {
     "name": "stderr",
     "output_type": "stream",
     "text": [
      "\u001b[32m[I 2021-09-21 18:36:52,755]\u001b[0m Trial 73 finished with value: 0.4984277248686309 and parameters: {'n_estimators': 1000, 'learning_rate': 0.20198138353761186, 'num_leaves': 750, 'max_depth': 5, 'min_data_in_leaf': 700, 'lambda_l1': 0, 'lambda_l2': 95, 'min_gain_to_split': 0.49254744876958173, 'bagging_fraction': 0.7, 'bagging_freq': 1, 'feature_fraction': 0.8}. Best is trial 33 with value: 0.5106251609227802.\u001b[0m\n"
     ]
    },
    {
     "name": "stdout",
     "output_type": "stream",
     "text": [
      "[LightGBM] [Warning] feature_fraction is set=0.9, colsample_bytree=1.0 will be ignored. Current value: feature_fraction=0.9\n",
      "[LightGBM] [Warning] min_data_in_leaf is set=100, min_child_samples=20 will be ignored. Current value: min_data_in_leaf=100\n",
      "[LightGBM] [Warning] min_gain_to_split is set=1.6942550130215166, min_split_gain=0.0 will be ignored. Current value: min_gain_to_split=1.6942550130215166\n",
      "[LightGBM] [Warning] lambda_l1 is set=0, reg_alpha=0.0 will be ignored. Current value: lambda_l1=0\n",
      "[LightGBM] [Warning] bagging_fraction is set=0.8, subsample=1.0 will be ignored. Current value: bagging_fraction=0.8\n",
      "[LightGBM] [Warning] lambda_l2 is set=90, reg_lambda=0.0 will be ignored. Current value: lambda_l2=90\n",
      "[LightGBM] [Warning] bagging_freq is set=1, subsample_freq=0 will be ignored. Current value: bagging_freq=1\n"
     ]
    },
    {
     "name": "stderr",
     "output_type": "stream",
     "text": [
      "\u001b[32m[I 2021-09-21 18:37:06,565]\u001b[0m Trial 74 finished with value: 0.5029951113279252 and parameters: {'n_estimators': 1000, 'learning_rate': 0.17491999750692577, 'num_leaves': 700, 'max_depth': 5, 'min_data_in_leaf': 100, 'lambda_l1': 0, 'lambda_l2': 90, 'min_gain_to_split': 1.6942550130215166, 'bagging_fraction': 0.8, 'bagging_freq': 1, 'feature_fraction': 0.9}. Best is trial 33 with value: 0.5106251609227802.\u001b[0m\n"
     ]
    },
    {
     "name": "stdout",
     "output_type": "stream",
     "text": [
      "[LightGBM] [Warning] feature_fraction is set=0.8, colsample_bytree=1.0 will be ignored. Current value: feature_fraction=0.8\n",
      "[LightGBM] [Warning] min_data_in_leaf is set=800, min_child_samples=20 will be ignored. Current value: min_data_in_leaf=800\n",
      "[LightGBM] [Warning] min_gain_to_split is set=0.8876607782193062, min_split_gain=0.0 will be ignored. Current value: min_gain_to_split=0.8876607782193062\n",
      "[LightGBM] [Warning] lambda_l1 is set=5, reg_alpha=0.0 will be ignored. Current value: lambda_l1=5\n",
      "[LightGBM] [Warning] bagging_fraction is set=0.9, subsample=1.0 will be ignored. Current value: bagging_fraction=0.9\n",
      "[LightGBM] [Warning] lambda_l2 is set=100, reg_lambda=0.0 will be ignored. Current value: lambda_l2=100\n",
      "[LightGBM] [Warning] bagging_freq is set=1, subsample_freq=0 will be ignored. Current value: bagging_freq=1\n"
     ]
    },
    {
     "name": "stderr",
     "output_type": "stream",
     "text": [
      "\u001b[32m[I 2021-09-21 18:37:20,902]\u001b[0m Trial 75 finished with value: 0.5019103138594476 and parameters: {'n_estimators': 1000, 'learning_rate': 0.19908990474291471, 'num_leaves': 600, 'max_depth': 5, 'min_data_in_leaf': 800, 'lambda_l1': 5, 'lambda_l2': 100, 'min_gain_to_split': 0.8876607782193062, 'bagging_fraction': 0.9, 'bagging_freq': 1, 'feature_fraction': 0.8}. Best is trial 33 with value: 0.5106251609227802.\u001b[0m\n"
     ]
    },
    {
     "name": "stdout",
     "output_type": "stream",
     "text": [
      "[LightGBM] [Warning] feature_fraction is set=0.8, colsample_bytree=1.0 will be ignored. Current value: feature_fraction=0.8\n",
      "[LightGBM] [Warning] min_data_in_leaf is set=1200, min_child_samples=20 will be ignored. Current value: min_data_in_leaf=1200\n",
      "[LightGBM] [Warning] min_gain_to_split is set=0.3681552502801479, min_split_gain=0.0 will be ignored. Current value: min_gain_to_split=0.3681552502801479\n",
      "[LightGBM] [Warning] lambda_l1 is set=45, reg_alpha=0.0 will be ignored. Current value: lambda_l1=45\n",
      "[LightGBM] [Warning] bagging_fraction is set=0.8, subsample=1.0 will be ignored. Current value: bagging_fraction=0.8\n",
      "[LightGBM] [Warning] lambda_l2 is set=80, reg_lambda=0.0 will be ignored. Current value: lambda_l2=80\n",
      "[LightGBM] [Warning] bagging_freq is set=1, subsample_freq=0 will be ignored. Current value: bagging_freq=1\n"
     ]
    },
    {
     "name": "stderr",
     "output_type": "stream",
     "text": [
      "\u001b[32m[I 2021-09-21 18:37:33,254]\u001b[0m Trial 76 finished with value: 0.5060230878135462 and parameters: {'n_estimators': 1000, 'learning_rate': 0.1553687232305346, 'num_leaves': 700, 'max_depth': 5, 'min_data_in_leaf': 1200, 'lambda_l1': 45, 'lambda_l2': 80, 'min_gain_to_split': 0.3681552502801479, 'bagging_fraction': 0.8, 'bagging_freq': 1, 'feature_fraction': 0.8}. Best is trial 33 with value: 0.5106251609227802.\u001b[0m\n"
     ]
    },
    {
     "name": "stdout",
     "output_type": "stream",
     "text": [
      "[LightGBM] [Warning] feature_fraction is set=0.7, colsample_bytree=1.0 will be ignored. Current value: feature_fraction=0.7\n",
      "[LightGBM] [Warning] min_data_in_leaf is set=1200, min_child_samples=20 will be ignored. Current value: min_data_in_leaf=1200\n",
      "[LightGBM] [Warning] min_gain_to_split is set=0.0033591578451323545, min_split_gain=0.0 will be ignored. Current value: min_gain_to_split=0.0033591578451323545\n",
      "[LightGBM] [Warning] lambda_l1 is set=45, reg_alpha=0.0 will be ignored. Current value: lambda_l1=45\n",
      "[LightGBM] [Warning] bagging_fraction is set=0.9, subsample=1.0 will be ignored. Current value: bagging_fraction=0.9\n",
      "[LightGBM] [Warning] lambda_l2 is set=80, reg_lambda=0.0 will be ignored. Current value: lambda_l2=80\n",
      "[LightGBM] [Warning] bagging_freq is set=1, subsample_freq=0 will be ignored. Current value: bagging_freq=1\n"
     ]
    },
    {
     "name": "stderr",
     "output_type": "stream",
     "text": [
      "\u001b[32m[I 2021-09-21 18:37:48,841]\u001b[0m Trial 77 finished with value: 0.5008485560409117 and parameters: {'n_estimators': 1000, 'learning_rate': 0.15454300315933722, 'num_leaves': 950, 'max_depth': 5, 'min_data_in_leaf': 1200, 'lambda_l1': 45, 'lambda_l2': 80, 'min_gain_to_split': 0.0033591578451323545, 'bagging_fraction': 0.9, 'bagging_freq': 1, 'feature_fraction': 0.7}. Best is trial 33 with value: 0.5106251609227802.\u001b[0m\n"
     ]
    },
    {
     "name": "stdout",
     "output_type": "stream",
     "text": [
      "[LightGBM] [Warning] feature_fraction is set=0.9, colsample_bytree=1.0 will be ignored. Current value: feature_fraction=0.9\n",
      "[LightGBM] [Warning] min_data_in_leaf is set=1500, min_child_samples=20 will be ignored. Current value: min_data_in_leaf=1500\n",
      "[LightGBM] [Warning] min_gain_to_split is set=0.39044108074571326, min_split_gain=0.0 will be ignored. Current value: min_gain_to_split=0.39044108074571326\n",
      "[LightGBM] [Warning] lambda_l1 is set=80, reg_alpha=0.0 will be ignored. Current value: lambda_l1=80\n",
      "[LightGBM] [Warning] bagging_fraction is set=0.8, subsample=1.0 will be ignored. Current value: bagging_fraction=0.8\n",
      "[LightGBM] [Warning] lambda_l2 is set=70, reg_lambda=0.0 will be ignored. Current value: lambda_l2=70\n",
      "[LightGBM] [Warning] bagging_freq is set=1, subsample_freq=0 will be ignored. Current value: bagging_freq=1\n"
     ]
    },
    {
     "name": "stderr",
     "output_type": "stream",
     "text": [
      "\u001b[32m[I 2021-09-21 18:38:00,332]\u001b[0m Trial 78 finished with value: 0.4917844920006359 and parameters: {'n_estimators': 1000, 'learning_rate': 0.16154458853784429, 'num_leaves': 800, 'max_depth': 5, 'min_data_in_leaf': 1500, 'lambda_l1': 80, 'lambda_l2': 70, 'min_gain_to_split': 0.39044108074571326, 'bagging_fraction': 0.8, 'bagging_freq': 1, 'feature_fraction': 0.9}. Best is trial 33 with value: 0.5106251609227802.\u001b[0m\n"
     ]
    },
    {
     "name": "stdout",
     "output_type": "stream",
     "text": [
      "[LightGBM] [Warning] feature_fraction is set=0.7, colsample_bytree=1.0 will be ignored. Current value: feature_fraction=0.7\n",
      "[LightGBM] [Warning] min_data_in_leaf is set=300, min_child_samples=20 will be ignored. Current value: min_data_in_leaf=300\n",
      "[LightGBM] [Warning] min_gain_to_split is set=1.2885111069764363, min_split_gain=0.0 will be ignored. Current value: min_gain_to_split=1.2885111069764363\n",
      "[LightGBM] [Warning] lambda_l1 is set=10, reg_alpha=0.0 will be ignored. Current value: lambda_l1=10\n",
      "[LightGBM] [Warning] bagging_fraction is set=0.9, subsample=1.0 will be ignored. Current value: bagging_fraction=0.9\n",
      "[LightGBM] [Warning] lambda_l2 is set=85, reg_lambda=0.0 will be ignored. Current value: lambda_l2=85\n",
      "[LightGBM] [Warning] bagging_freq is set=1, subsample_freq=0 will be ignored. Current value: bagging_freq=1\n"
     ]
    },
    {
     "name": "stderr",
     "output_type": "stream",
     "text": [
      "\u001b[32m[I 2021-09-21 18:38:12,912]\u001b[0m Trial 79 finished with value: 0.5085319182570729 and parameters: {'n_estimators': 1000, 'learning_rate': 0.14343838034361944, 'num_leaves': 700, 'max_depth': 6, 'min_data_in_leaf': 300, 'lambda_l1': 10, 'lambda_l2': 85, 'min_gain_to_split': 1.2885111069764363, 'bagging_fraction': 0.9, 'bagging_freq': 1, 'feature_fraction': 0.7}. Best is trial 33 with value: 0.5106251609227802.\u001b[0m\n"
     ]
    },
    {
     "name": "stdout",
     "output_type": "stream",
     "text": [
      "[LightGBM] [Warning] feature_fraction is set=0.5, colsample_bytree=1.0 will be ignored. Current value: feature_fraction=0.5\n",
      "[LightGBM] [Warning] min_data_in_leaf is set=3400, min_child_samples=20 will be ignored. Current value: min_data_in_leaf=3400\n",
      "[LightGBM] [Warning] min_gain_to_split is set=3.115835367742495, min_split_gain=0.0 will be ignored. Current value: min_gain_to_split=3.115835367742495\n",
      "[LightGBM] [Warning] lambda_l1 is set=15, reg_alpha=0.0 will be ignored. Current value: lambda_l1=15\n",
      "[LightGBM] [Warning] bagging_fraction is set=0.9, subsample=1.0 will be ignored. Current value: bagging_fraction=0.9\n",
      "[LightGBM] [Warning] lambda_l2 is set=80, reg_lambda=0.0 will be ignored. Current value: lambda_l2=80\n",
      "[LightGBM] [Warning] bagging_freq is set=1, subsample_freq=0 will be ignored. Current value: bagging_freq=1\n"
     ]
    },
    {
     "name": "stderr",
     "output_type": "stream",
     "text": [
      "\u001b[32m[I 2021-09-21 18:38:21,434]\u001b[0m Trial 80 finished with value: 0.45259765001185925 and parameters: {'n_estimators': 1000, 'learning_rate': 0.11987490985296784, 'num_leaves': 850, 'max_depth': 6, 'min_data_in_leaf': 3400, 'lambda_l1': 15, 'lambda_l2': 80, 'min_gain_to_split': 3.115835367742495, 'bagging_fraction': 0.9, 'bagging_freq': 1, 'feature_fraction': 0.5}. Best is trial 33 with value: 0.5106251609227802.\u001b[0m\n"
     ]
    },
    {
     "name": "stdout",
     "output_type": "stream",
     "text": [
      "[LightGBM] [Warning] feature_fraction is set=0.7, colsample_bytree=1.0 will be ignored. Current value: feature_fraction=0.7\n",
      "[LightGBM] [Warning] min_data_in_leaf is set=400, min_child_samples=20 will be ignored. Current value: min_data_in_leaf=400\n",
      "[LightGBM] [Warning] min_gain_to_split is set=1.2860723361173831, min_split_gain=0.0 will be ignored. Current value: min_gain_to_split=1.2860723361173831\n",
      "[LightGBM] [Warning] lambda_l1 is set=10, reg_alpha=0.0 will be ignored. Current value: lambda_l1=10\n",
      "[LightGBM] [Warning] bagging_fraction is set=0.9, subsample=1.0 will be ignored. Current value: bagging_fraction=0.9\n",
      "[LightGBM] [Warning] lambda_l2 is set=85, reg_lambda=0.0 will be ignored. Current value: lambda_l2=85\n",
      "[LightGBM] [Warning] bagging_freq is set=1, subsample_freq=0 will be ignored. Current value: bagging_freq=1\n"
     ]
    },
    {
     "name": "stderr",
     "output_type": "stream",
     "text": [
      "\u001b[32m[I 2021-09-21 18:38:34,780]\u001b[0m Trial 81 finished with value: 0.5053842308807038 and parameters: {'n_estimators': 1000, 'learning_rate': 0.11226129800198367, 'num_leaves': 700, 'max_depth': 6, 'min_data_in_leaf': 400, 'lambda_l1': 10, 'lambda_l2': 85, 'min_gain_to_split': 1.2860723361173831, 'bagging_fraction': 0.9, 'bagging_freq': 1, 'feature_fraction': 0.7}. Best is trial 33 with value: 0.5106251609227802.\u001b[0m\n"
     ]
    },
    {
     "name": "stdout",
     "output_type": "stream",
     "text": [
      "[LightGBM] [Warning] feature_fraction is set=0.6000000000000001, colsample_bytree=1.0 will be ignored. Current value: feature_fraction=0.6000000000000001\n",
      "[LightGBM] [Warning] min_data_in_leaf is set=300, min_child_samples=20 will be ignored. Current value: min_data_in_leaf=300\n",
      "[LightGBM] [Warning] min_gain_to_split is set=1.3571126588345814, min_split_gain=0.0 will be ignored. Current value: min_gain_to_split=1.3571126588345814\n",
      "[LightGBM] [Warning] lambda_l1 is set=35, reg_alpha=0.0 will be ignored. Current value: lambda_l1=35\n",
      "[LightGBM] [Warning] bagging_fraction is set=0.9, subsample=1.0 will be ignored. Current value: bagging_fraction=0.9\n",
      "[LightGBM] [Warning] lambda_l2 is set=85, reg_lambda=0.0 will be ignored. Current value: lambda_l2=85\n",
      "[LightGBM] [Warning] bagging_freq is set=1, subsample_freq=0 will be ignored. Current value: bagging_freq=1\n"
     ]
    },
    {
     "name": "stderr",
     "output_type": "stream",
     "text": [
      "\u001b[32m[I 2021-09-21 18:38:45,247]\u001b[0m Trial 82 finished with value: 0.5018078261486023 and parameters: {'n_estimators': 1000, 'learning_rate': 0.10306633243969451, 'num_leaves': 650, 'max_depth': 6, 'min_data_in_leaf': 300, 'lambda_l1': 35, 'lambda_l2': 85, 'min_gain_to_split': 1.3571126588345814, 'bagging_fraction': 0.9, 'bagging_freq': 1, 'feature_fraction': 0.6000000000000001}. Best is trial 33 with value: 0.5106251609227802.\u001b[0m\n"
     ]
    },
    {
     "name": "stdout",
     "output_type": "stream",
     "text": [
      "[LightGBM] [Warning] feature_fraction is set=0.7, colsample_bytree=1.0 will be ignored. Current value: feature_fraction=0.7\n",
      "[LightGBM] [Warning] min_data_in_leaf is set=300, min_child_samples=20 will be ignored. Current value: min_data_in_leaf=300\n",
      "[LightGBM] [Warning] min_gain_to_split is set=1.256807631184501, min_split_gain=0.0 will be ignored. Current value: min_gain_to_split=1.256807631184501\n",
      "[LightGBM] [Warning] lambda_l1 is set=10, reg_alpha=0.0 will be ignored. Current value: lambda_l1=10\n",
      "[LightGBM] [Warning] bagging_fraction is set=0.9, subsample=1.0 will be ignored. Current value: bagging_fraction=0.9\n",
      "[LightGBM] [Warning] lambda_l2 is set=75, reg_lambda=0.0 will be ignored. Current value: lambda_l2=75\n",
      "[LightGBM] [Warning] bagging_freq is set=1, subsample_freq=0 will be ignored. Current value: bagging_freq=1\n"
     ]
    },
    {
     "name": "stderr",
     "output_type": "stream",
     "text": [
      "\u001b[32m[I 2021-09-21 18:38:58,864]\u001b[0m Trial 83 finished with value: 0.5010437391418873 and parameters: {'n_estimators': 1000, 'learning_rate': 0.10204952064541367, 'num_leaves': 700, 'max_depth': 6, 'min_data_in_leaf': 300, 'lambda_l1': 10, 'lambda_l2': 75, 'min_gain_to_split': 1.256807631184501, 'bagging_fraction': 0.9, 'bagging_freq': 1, 'feature_fraction': 0.7}. Best is trial 33 with value: 0.5106251609227802.\u001b[0m\n"
     ]
    },
    {
     "name": "stdout",
     "output_type": "stream",
     "text": [
      "[LightGBM] [Warning] feature_fraction is set=0.7, colsample_bytree=1.0 will be ignored. Current value: feature_fraction=0.7\n",
      "[LightGBM] [Warning] min_data_in_leaf is set=1000, min_child_samples=20 will be ignored. Current value: min_data_in_leaf=1000\n",
      "[LightGBM] [Warning] min_gain_to_split is set=0.8831894804246732, min_split_gain=0.0 will be ignored. Current value: min_gain_to_split=0.8831894804246732\n",
      "[LightGBM] [Warning] lambda_l1 is set=10, reg_alpha=0.0 will be ignored. Current value: lambda_l1=10\n",
      "[LightGBM] [Warning] bagging_fraction is set=0.9, subsample=1.0 will be ignored. Current value: bagging_fraction=0.9\n",
      "[LightGBM] [Warning] lambda_l2 is set=85, reg_lambda=0.0 will be ignored. Current value: lambda_l2=85\n",
      "[LightGBM] [Warning] bagging_freq is set=1, subsample_freq=0 will be ignored. Current value: bagging_freq=1\n"
     ]
    },
    {
     "name": "stderr",
     "output_type": "stream",
     "text": [
      "\u001b[32m[I 2021-09-21 18:39:12,568]\u001b[0m Trial 84 finished with value: 0.5062128190842642 and parameters: {'n_estimators': 1000, 'learning_rate': 0.14253993006498003, 'num_leaves': 800, 'max_depth': 6, 'min_data_in_leaf': 1000, 'lambda_l1': 10, 'lambda_l2': 85, 'min_gain_to_split': 0.8831894804246732, 'bagging_fraction': 0.9, 'bagging_freq': 1, 'feature_fraction': 0.7}. Best is trial 33 with value: 0.5106251609227802.\u001b[0m\n"
     ]
    },
    {
     "name": "stdout",
     "output_type": "stream",
     "text": [
      "[LightGBM] [Warning] feature_fraction is set=0.6000000000000001, colsample_bytree=1.0 will be ignored. Current value: feature_fraction=0.6000000000000001\n",
      "[LightGBM] [Warning] min_data_in_leaf is set=1000, min_child_samples=20 will be ignored. Current value: min_data_in_leaf=1000\n",
      "[LightGBM] [Warning] min_gain_to_split is set=0.8423595465465934, min_split_gain=0.0 will be ignored. Current value: min_gain_to_split=0.8423595465465934\n",
      "[LightGBM] [Warning] lambda_l1 is set=5, reg_alpha=0.0 will be ignored. Current value: lambda_l1=5\n",
      "[LightGBM] [Warning] bagging_fraction is set=0.9, subsample=1.0 will be ignored. Current value: bagging_fraction=0.9\n",
      "[LightGBM] [Warning] lambda_l2 is set=80, reg_lambda=0.0 will be ignored. Current value: lambda_l2=80\n",
      "[LightGBM] [Warning] bagging_freq is set=1, subsample_freq=0 will be ignored. Current value: bagging_freq=1\n"
     ]
    },
    {
     "name": "stderr",
     "output_type": "stream",
     "text": [
      "\u001b[32m[I 2021-09-21 18:39:26,243]\u001b[0m Trial 85 finished with value: 0.5036606100057207 and parameters: {'n_estimators': 1000, 'learning_rate': 0.14171245083449072, 'num_leaves': 850, 'max_depth': 6, 'min_data_in_leaf': 1000, 'lambda_l1': 5, 'lambda_l2': 80, 'min_gain_to_split': 0.8423595465465934, 'bagging_fraction': 0.9, 'bagging_freq': 1, 'feature_fraction': 0.6000000000000001}. Best is trial 33 with value: 0.5106251609227802.\u001b[0m\n"
     ]
    },
    {
     "name": "stdout",
     "output_type": "stream",
     "text": [
      "[LightGBM] [Warning] feature_fraction is set=0.7, colsample_bytree=1.0 will be ignored. Current value: feature_fraction=0.7\n",
      "[LightGBM] [Warning] min_data_in_leaf is set=1200, min_child_samples=20 will be ignored. Current value: min_data_in_leaf=1200\n",
      "[LightGBM] [Warning] min_gain_to_split is set=1.9608400899276637, min_split_gain=0.0 will be ignored. Current value: min_gain_to_split=1.9608400899276637\n",
      "[LightGBM] [Warning] lambda_l1 is set=20, reg_alpha=0.0 will be ignored. Current value: lambda_l1=20\n",
      "[LightGBM] [Warning] bagging_fraction is set=0.9, subsample=1.0 will be ignored. Current value: bagging_fraction=0.9\n",
      "[LightGBM] [Warning] lambda_l2 is set=85, reg_lambda=0.0 will be ignored. Current value: lambda_l2=85\n",
      "[LightGBM] [Warning] bagging_freq is set=1, subsample_freq=0 will be ignored. Current value: bagging_freq=1\n"
     ]
    },
    {
     "name": "stderr",
     "output_type": "stream",
     "text": [
      "\u001b[32m[I 2021-09-21 18:39:37,041]\u001b[0m Trial 86 finished with value: 0.5006877415075509 and parameters: {'n_estimators': 1000, 'learning_rate': 0.1418256583919174, 'num_leaves': 800, 'max_depth': 6, 'min_data_in_leaf': 1200, 'lambda_l1': 20, 'lambda_l2': 85, 'min_gain_to_split': 1.9608400899276637, 'bagging_fraction': 0.9, 'bagging_freq': 1, 'feature_fraction': 0.7}. Best is trial 33 with value: 0.5106251609227802.\u001b[0m\n"
     ]
    },
    {
     "name": "stdout",
     "output_type": "stream",
     "text": [
      "[LightGBM] [Warning] feature_fraction is set=0.6000000000000001, colsample_bytree=1.0 will be ignored. Current value: feature_fraction=0.6000000000000001\n",
      "[LightGBM] [Warning] min_data_in_leaf is set=2100, min_child_samples=20 will be ignored. Current value: min_data_in_leaf=2100\n",
      "[LightGBM] [Warning] min_gain_to_split is set=0.3373886402233912, min_split_gain=0.0 will be ignored. Current value: min_gain_to_split=0.3373886402233912\n",
      "[LightGBM] [Warning] lambda_l1 is set=5, reg_alpha=0.0 will be ignored. Current value: lambda_l1=5\n",
      "[LightGBM] [Warning] bagging_fraction is set=0.9, subsample=1.0 will be ignored. Current value: bagging_fraction=0.9\n",
      "[LightGBM] [Warning] lambda_l2 is set=80, reg_lambda=0.0 will be ignored. Current value: lambda_l2=80\n",
      "[LightGBM] [Warning] bagging_freq is set=1, subsample_freq=0 will be ignored. Current value: bagging_freq=1\n"
     ]
    },
    {
     "name": "stderr",
     "output_type": "stream",
     "text": [
      "\u001b[32m[I 2021-09-21 18:39:51,979]\u001b[0m Trial 87 finished with value: 0.4939489783922527 and parameters: {'n_estimators': 1000, 'learning_rate': 0.16929065455219558, 'num_leaves': 800, 'max_depth': 6, 'min_data_in_leaf': 2100, 'lambda_l1': 5, 'lambda_l2': 80, 'min_gain_to_split': 0.3373886402233912, 'bagging_fraction': 0.9, 'bagging_freq': 1, 'feature_fraction': 0.6000000000000001}. Best is trial 33 with value: 0.5106251609227802.\u001b[0m\n"
     ]
    },
    {
     "name": "stdout",
     "output_type": "stream",
     "text": [
      "[LightGBM] [Warning] feature_fraction is set=0.8, colsample_bytree=1.0 will be ignored. Current value: feature_fraction=0.8\n",
      "[LightGBM] [Warning] min_data_in_leaf is set=100, min_child_samples=20 will be ignored. Current value: min_data_in_leaf=100\n",
      "[LightGBM] [Warning] min_gain_to_split is set=0.9001366379674703, min_split_gain=0.0 will be ignored. Current value: min_gain_to_split=0.9001366379674703\n",
      "[LightGBM] [Warning] lambda_l1 is set=15, reg_alpha=0.0 will be ignored. Current value: lambda_l1=15\n",
      "[LightGBM] [Warning] bagging_fraction is set=0.4, subsample=1.0 will be ignored. Current value: bagging_fraction=0.4\n",
      "[LightGBM] [Warning] lambda_l2 is set=75, reg_lambda=0.0 will be ignored. Current value: lambda_l2=75\n",
      "[LightGBM] [Warning] bagging_freq is set=1, subsample_freq=0 will be ignored. Current value: bagging_freq=1\n"
     ]
    },
    {
     "name": "stderr",
     "output_type": "stream",
     "text": [
      "\u001b[32m[I 2021-09-21 18:40:03,773]\u001b[0m Trial 88 finished with value: 0.486273858489365 and parameters: {'n_estimators': 1000, 'learning_rate': 0.157260365889595, 'num_leaves': 850, 'max_depth': 6, 'min_data_in_leaf': 100, 'lambda_l1': 15, 'lambda_l2': 75, 'min_gain_to_split': 0.9001366379674703, 'bagging_fraction': 0.4, 'bagging_freq': 1, 'feature_fraction': 0.8}. Best is trial 33 with value: 0.5106251609227802.\u001b[0m\n"
     ]
    },
    {
     "name": "stdout",
     "output_type": "stream",
     "text": [
      "[LightGBM] [Warning] feature_fraction is set=0.5, colsample_bytree=1.0 will be ignored. Current value: feature_fraction=0.5\n",
      "[LightGBM] [Warning] min_data_in_leaf is set=600, min_child_samples=20 will be ignored. Current value: min_data_in_leaf=600\n",
      "[LightGBM] [Warning] min_gain_to_split is set=2.4466758170950165, min_split_gain=0.0 will be ignored. Current value: min_gain_to_split=2.4466758170950165\n",
      "[LightGBM] [Warning] lambda_l1 is set=45, reg_alpha=0.0 will be ignored. Current value: lambda_l1=45\n",
      "[LightGBM] [Warning] bagging_fraction is set=0.9, subsample=1.0 will be ignored. Current value: bagging_fraction=0.9\n",
      "[LightGBM] [Warning] lambda_l2 is set=85, reg_lambda=0.0 will be ignored. Current value: lambda_l2=85\n",
      "[LightGBM] [Warning] bagging_freq is set=1, subsample_freq=0 will be ignored. Current value: bagging_freq=1\n"
     ]
    },
    {
     "name": "stderr",
     "output_type": "stream",
     "text": [
      "\u001b[32m[I 2021-09-21 18:40:12,090]\u001b[0m Trial 89 finished with value: 0.4916639365451088 and parameters: {'n_estimators': 1000, 'learning_rate': 0.14533075184736832, 'num_leaves': 900, 'max_depth': 6, 'min_data_in_leaf': 600, 'lambda_l1': 45, 'lambda_l2': 85, 'min_gain_to_split': 2.4466758170950165, 'bagging_fraction': 0.9, 'bagging_freq': 1, 'feature_fraction': 0.5}. Best is trial 33 with value: 0.5106251609227802.\u001b[0m\n"
     ]
    },
    {
     "name": "stdout",
     "output_type": "stream",
     "text": [
      "[LightGBM] [Warning] feature_fraction is set=0.7, colsample_bytree=1.0 will be ignored. Current value: feature_fraction=0.7\n",
      "[LightGBM] [Warning] min_data_in_leaf is set=1400, min_child_samples=20 will be ignored. Current value: min_data_in_leaf=1400\n",
      "[LightGBM] [Warning] min_gain_to_split is set=5.125300354129144, min_split_gain=0.0 will be ignored. Current value: min_gain_to_split=5.125300354129144\n",
      "[LightGBM] [Warning] lambda_l1 is set=55, reg_alpha=0.0 will be ignored. Current value: lambda_l1=55\n",
      "[LightGBM] [Warning] bagging_fraction is set=0.9, subsample=1.0 will be ignored. Current value: bagging_fraction=0.9\n",
      "[LightGBM] [Warning] lambda_l2 is set=90, reg_lambda=0.0 will be ignored. Current value: lambda_l2=90\n",
      "[LightGBM] [Warning] bagging_freq is set=1, subsample_freq=0 will be ignored. Current value: bagging_freq=1\n"
     ]
    },
    {
     "name": "stderr",
     "output_type": "stream",
     "text": [
      "\u001b[32m[I 2021-09-21 18:40:20,658]\u001b[0m Trial 90 finished with value: 0.4858893434485365 and parameters: {'n_estimators': 1000, 'learning_rate': 0.15270001078357764, 'num_leaves': 350, 'max_depth': 5, 'min_data_in_leaf': 1400, 'lambda_l1': 55, 'lambda_l2': 90, 'min_gain_to_split': 5.125300354129144, 'bagging_fraction': 0.9, 'bagging_freq': 1, 'feature_fraction': 0.7}. Best is trial 33 with value: 0.5106251609227802.\u001b[0m\n"
     ]
    },
    {
     "name": "stdout",
     "output_type": "stream",
     "text": [
      "[LightGBM] [Warning] feature_fraction is set=0.7, colsample_bytree=1.0 will be ignored. Current value: feature_fraction=0.7\n",
      "[LightGBM] [Warning] min_data_in_leaf is set=400, min_child_samples=20 will be ignored. Current value: min_data_in_leaf=400\n",
      "[LightGBM] [Warning] min_gain_to_split is set=1.3933678040215434, min_split_gain=0.0 will be ignored. Current value: min_gain_to_split=1.3933678040215434\n",
      "[LightGBM] [Warning] lambda_l1 is set=10, reg_alpha=0.0 will be ignored. Current value: lambda_l1=10\n",
      "[LightGBM] [Warning] bagging_fraction is set=0.9, subsample=1.0 will be ignored. Current value: bagging_fraction=0.9\n",
      "[LightGBM] [Warning] lambda_l2 is set=85, reg_lambda=0.0 will be ignored. Current value: lambda_l2=85\n",
      "[LightGBM] [Warning] bagging_freq is set=1, subsample_freq=0 will be ignored. Current value: bagging_freq=1\n"
     ]
    },
    {
     "name": "stderr",
     "output_type": "stream",
     "text": [
      "\u001b[32m[I 2021-09-21 18:40:34,308]\u001b[0m Trial 91 finished with value: 0.5037915591169484 and parameters: {'n_estimators': 1000, 'learning_rate': 0.10259170852012828, 'num_leaves': 750, 'max_depth': 6, 'min_data_in_leaf': 400, 'lambda_l1': 10, 'lambda_l2': 85, 'min_gain_to_split': 1.3933678040215434, 'bagging_fraction': 0.9, 'bagging_freq': 1, 'feature_fraction': 0.7}. Best is trial 33 with value: 0.5106251609227802.\u001b[0m\n"
     ]
    },
    {
     "name": "stdout",
     "output_type": "stream",
     "text": [
      "[LightGBM] [Warning] feature_fraction is set=0.7, colsample_bytree=1.0 will be ignored. Current value: feature_fraction=0.7\n",
      "[LightGBM] [Warning] min_data_in_leaf is set=900, min_child_samples=20 will be ignored. Current value: min_data_in_leaf=900\n",
      "[LightGBM] [Warning] min_gain_to_split is set=0.3880160398301111, min_split_gain=0.0 will be ignored. Current value: min_gain_to_split=0.3880160398301111\n",
      "[LightGBM] [Warning] lambda_l1 is set=10, reg_alpha=0.0 will be ignored. Current value: lambda_l1=10\n",
      "[LightGBM] [Warning] bagging_fraction is set=0.9, subsample=1.0 will be ignored. Current value: bagging_fraction=0.9\n",
      "[LightGBM] [Warning] lambda_l2 is set=80, reg_lambda=0.0 will be ignored. Current value: lambda_l2=80\n",
      "[LightGBM] [Warning] bagging_freq is set=1, subsample_freq=0 will be ignored. Current value: bagging_freq=1\n"
     ]
    },
    {
     "name": "stderr",
     "output_type": "stream",
     "text": [
      "\u001b[32m[I 2021-09-21 18:40:51,717]\u001b[0m Trial 92 finished with value: 0.49799094652467646 and parameters: {'n_estimators': 1000, 'learning_rate': 0.06648788302475542, 'num_leaves': 700, 'max_depth': 6, 'min_data_in_leaf': 900, 'lambda_l1': 10, 'lambda_l2': 80, 'min_gain_to_split': 0.3880160398301111, 'bagging_fraction': 0.9, 'bagging_freq': 1, 'feature_fraction': 0.7}. Best is trial 33 with value: 0.5106251609227802.\u001b[0m\n"
     ]
    },
    {
     "name": "stdout",
     "output_type": "stream",
     "text": [
      "[LightGBM] [Warning] feature_fraction is set=0.8, colsample_bytree=1.0 will be ignored. Current value: feature_fraction=0.8\n",
      "[LightGBM] [Warning] min_data_in_leaf is set=300, min_child_samples=20 will be ignored. Current value: min_data_in_leaf=300\n",
      "[LightGBM] [Warning] min_gain_to_split is set=0.9195454234182696, min_split_gain=0.0 will be ignored. Current value: min_gain_to_split=0.9195454234182696\n",
      "[LightGBM] [Warning] lambda_l1 is set=5, reg_alpha=0.0 will be ignored. Current value: lambda_l1=5\n",
      "[LightGBM] [Warning] bagging_fraction is set=0.9, subsample=1.0 will be ignored. Current value: bagging_fraction=0.9\n",
      "[LightGBM] [Warning] lambda_l2 is set=85, reg_lambda=0.0 will be ignored. Current value: lambda_l2=85\n",
      "[LightGBM] [Warning] bagging_freq is set=1, subsample_freq=0 will be ignored. Current value: bagging_freq=1\n"
     ]
    },
    {
     "name": "stderr",
     "output_type": "stream",
     "text": [
      "\u001b[32m[I 2021-09-21 18:41:08,347]\u001b[0m Trial 93 finished with value: 0.5068512354567122 and parameters: {'n_estimators': 1000, 'learning_rate': 0.12782103389129315, 'num_leaves': 750, 'max_depth': 6, 'min_data_in_leaf': 300, 'lambda_l1': 5, 'lambda_l2': 85, 'min_gain_to_split': 0.9195454234182696, 'bagging_fraction': 0.9, 'bagging_freq': 1, 'feature_fraction': 0.8}. Best is trial 33 with value: 0.5106251609227802.\u001b[0m\n"
     ]
    },
    {
     "name": "stdout",
     "output_type": "stream",
     "text": [
      "[LightGBM] [Warning] feature_fraction is set=0.8, colsample_bytree=1.0 will be ignored. Current value: feature_fraction=0.8\n",
      "[LightGBM] [Warning] min_data_in_leaf is set=600, min_child_samples=20 will be ignored. Current value: min_data_in_leaf=600\n",
      "[LightGBM] [Warning] min_gain_to_split is set=0.9225820519299989, min_split_gain=0.0 will be ignored. Current value: min_gain_to_split=0.9225820519299989\n",
      "[LightGBM] [Warning] lambda_l1 is set=5, reg_alpha=0.0 will be ignored. Current value: lambda_l1=5\n",
      "[LightGBM] [Warning] bagging_fraction is set=0.9, subsample=1.0 will be ignored. Current value: bagging_fraction=0.9\n",
      "[LightGBM] [Warning] lambda_l2 is set=90, reg_lambda=0.0 will be ignored. Current value: lambda_l2=90\n",
      "[LightGBM] [Warning] bagging_freq is set=1, subsample_freq=0 will be ignored. Current value: bagging_freq=1\n"
     ]
    },
    {
     "name": "stderr",
     "output_type": "stream",
     "text": [
      "\u001b[32m[I 2021-09-21 18:41:24,453]\u001b[0m Trial 94 finished with value: 0.5040661021583965 and parameters: {'n_estimators': 1000, 'learning_rate': 0.13399348092561658, 'num_leaves': 750, 'max_depth': 6, 'min_data_in_leaf': 600, 'lambda_l1': 5, 'lambda_l2': 90, 'min_gain_to_split': 0.9225820519299989, 'bagging_fraction': 0.9, 'bagging_freq': 1, 'feature_fraction': 0.8}. Best is trial 33 with value: 0.5106251609227802.\u001b[0m\n"
     ]
    },
    {
     "name": "stdout",
     "output_type": "stream",
     "text": [
      "[LightGBM] [Warning] feature_fraction is set=0.8, colsample_bytree=1.0 will be ignored. Current value: feature_fraction=0.8\n",
      "[LightGBM] [Warning] min_data_in_leaf is set=200, min_child_samples=20 will be ignored. Current value: min_data_in_leaf=200\n",
      "[LightGBM] [Warning] min_gain_to_split is set=0.007977582874613698, min_split_gain=0.0 will be ignored. Current value: min_gain_to_split=0.007977582874613698\n",
      "[LightGBM] [Warning] lambda_l1 is set=70, reg_alpha=0.0 will be ignored. Current value: lambda_l1=70\n",
      "[LightGBM] [Warning] bagging_fraction is set=0.9, subsample=1.0 will be ignored. Current value: bagging_fraction=0.9\n",
      "[LightGBM] [Warning] lambda_l2 is set=50, reg_lambda=0.0 will be ignored. Current value: lambda_l2=50\n",
      "[LightGBM] [Warning] bagging_freq is set=1, subsample_freq=0 will be ignored. Current value: bagging_freq=1\n"
     ]
    },
    {
     "name": "stderr",
     "output_type": "stream",
     "text": [
      "\u001b[32m[I 2021-09-21 18:41:39,511]\u001b[0m Trial 95 finished with value: 0.5028694279331685 and parameters: {'n_estimators': 1000, 'learning_rate': 0.12574225330480737, 'num_leaves': 250, 'max_depth': 6, 'min_data_in_leaf': 200, 'lambda_l1': 70, 'lambda_l2': 50, 'min_gain_to_split': 0.007977582874613698, 'bagging_fraction': 0.9, 'bagging_freq': 1, 'feature_fraction': 0.8}. Best is trial 33 with value: 0.5106251609227802.\u001b[0m\n"
     ]
    },
    {
     "name": "stdout",
     "output_type": "stream",
     "text": [
      "[LightGBM] [Warning] feature_fraction is set=0.8, colsample_bytree=1.0 will be ignored. Current value: feature_fraction=0.8\n",
      "[LightGBM] [Warning] min_data_in_leaf is set=1700, min_child_samples=20 will be ignored. Current value: min_data_in_leaf=1700\n",
      "[LightGBM] [Warning] min_gain_to_split is set=2.0502982421670337, min_split_gain=0.0 will be ignored. Current value: min_gain_to_split=2.0502982421670337\n",
      "[LightGBM] [Warning] lambda_l1 is set=5, reg_alpha=0.0 will be ignored. Current value: lambda_l1=5\n",
      "[LightGBM] [Warning] bagging_fraction is set=0.8, subsample=1.0 will be ignored. Current value: bagging_fraction=0.8\n",
      "[LightGBM] [Warning] lambda_l2 is set=95, reg_lambda=0.0 will be ignored. Current value: lambda_l2=95\n",
      "[LightGBM] [Warning] bagging_freq is set=1, subsample_freq=0 will be ignored. Current value: bagging_freq=1\n"
     ]
    },
    {
     "name": "stderr",
     "output_type": "stream",
     "text": [
      "\u001b[32m[I 2021-09-21 18:41:53,062]\u001b[0m Trial 96 finished with value: 0.49541816311500597 and parameters: {'n_estimators': 1000, 'learning_rate': 0.1733817602750346, 'num_leaves': 650, 'max_depth': 5, 'min_data_in_leaf': 1700, 'lambda_l1': 5, 'lambda_l2': 95, 'min_gain_to_split': 2.0502982421670337, 'bagging_fraction': 0.8, 'bagging_freq': 1, 'feature_fraction': 0.8}. Best is trial 33 with value: 0.5106251609227802.\u001b[0m\n"
     ]
    },
    {
     "name": "stdout",
     "output_type": "stream",
     "text": [
      "[LightGBM] [Warning] feature_fraction is set=0.8, colsample_bytree=1.0 will be ignored. Current value: feature_fraction=0.8\n",
      "[LightGBM] [Warning] min_data_in_leaf is set=1100, min_child_samples=20 will be ignored. Current value: min_data_in_leaf=1100\n",
      "[LightGBM] [Warning] min_gain_to_split is set=0.5256926805397129, min_split_gain=0.0 will be ignored. Current value: min_gain_to_split=0.5256926805397129\n",
      "[LightGBM] [Warning] lambda_l1 is set=15, reg_alpha=0.0 will be ignored. Current value: lambda_l1=15\n",
      "[LightGBM] [Warning] bagging_fraction is set=0.9, subsample=1.0 will be ignored. Current value: bagging_fraction=0.9\n",
      "[LightGBM] [Warning] lambda_l2 is set=70, reg_lambda=0.0 will be ignored. Current value: lambda_l2=70\n",
      "[LightGBM] [Warning] bagging_freq is set=1, subsample_freq=0 will be ignored. Current value: bagging_freq=1\n"
     ]
    },
    {
     "name": "stderr",
     "output_type": "stream",
     "text": [
      "\u001b[32m[I 2021-09-21 18:42:07,258]\u001b[0m Trial 97 finished with value: 0.48974053832522374 and parameters: {'n_estimators': 1000, 'learning_rate': 0.18173703705495425, 'num_leaves': 300, 'max_depth': 3, 'min_data_in_leaf': 1100, 'lambda_l1': 15, 'lambda_l2': 70, 'min_gain_to_split': 0.5256926805397129, 'bagging_fraction': 0.9, 'bagging_freq': 1, 'feature_fraction': 0.8}. Best is trial 33 with value: 0.5106251609227802.\u001b[0m\n"
     ]
    },
    {
     "name": "stdout",
     "output_type": "stream",
     "text": [
      "[LightGBM] [Warning] feature_fraction is set=0.9, colsample_bytree=1.0 will be ignored. Current value: feature_fraction=0.9\n",
      "[LightGBM] [Warning] min_data_in_leaf is set=800, min_child_samples=20 will be ignored. Current value: min_data_in_leaf=800\n",
      "[LightGBM] [Warning] min_gain_to_split is set=2.586765551842029, min_split_gain=0.0 will be ignored. Current value: min_gain_to_split=2.586765551842029\n",
      "[LightGBM] [Warning] lambda_l1 is set=0, reg_alpha=0.0 will be ignored. Current value: lambda_l1=0\n",
      "[LightGBM] [Warning] bagging_fraction is set=0.9, subsample=1.0 will be ignored. Current value: bagging_fraction=0.9\n",
      "[LightGBM] [Warning] lambda_l2 is set=85, reg_lambda=0.0 will be ignored. Current value: lambda_l2=85\n",
      "[LightGBM] [Warning] bagging_freq is set=1, subsample_freq=0 will be ignored. Current value: bagging_freq=1\n"
     ]
    },
    {
     "name": "stderr",
     "output_type": "stream",
     "text": [
      "\u001b[32m[I 2021-09-21 18:42:21,579]\u001b[0m Trial 98 finished with value: 0.504541577630349 and parameters: {'n_estimators': 1000, 'learning_rate': 0.16388175661950072, 'num_leaves': 450, 'max_depth': 5, 'min_data_in_leaf': 800, 'lambda_l1': 0, 'lambda_l2': 85, 'min_gain_to_split': 2.586765551842029, 'bagging_fraction': 0.9, 'bagging_freq': 1, 'feature_fraction': 0.9}. Best is trial 33 with value: 0.5106251609227802.\u001b[0m\n"
     ]
    },
    {
     "name": "stdout",
     "output_type": "stream",
     "text": [
      "[LightGBM] [Warning] feature_fraction is set=0.9, colsample_bytree=1.0 will be ignored. Current value: feature_fraction=0.9\n",
      "[LightGBM] [Warning] min_data_in_leaf is set=9400, min_child_samples=20 will be ignored. Current value: min_data_in_leaf=9400\n",
      "[LightGBM] [Warning] min_gain_to_split is set=1.6079064127895046, min_split_gain=0.0 will be ignored. Current value: min_gain_to_split=1.6079064127895046\n",
      "[LightGBM] [Warning] lambda_l1 is set=20, reg_alpha=0.0 will be ignored. Current value: lambda_l1=20\n",
      "[LightGBM] [Warning] bagging_fraction is set=0.8, subsample=1.0 will be ignored. Current value: bagging_fraction=0.8\n",
      "[LightGBM] [Warning] lambda_l2 is set=75, reg_lambda=0.0 will be ignored. Current value: lambda_l2=75\n",
      "[LightGBM] [Warning] bagging_freq is set=1, subsample_freq=0 will be ignored. Current value: bagging_freq=1\n"
     ]
    },
    {
     "name": "stderr",
     "output_type": "stream",
     "text": [
      "\u001b[32m[I 2021-09-21 18:42:32,881]\u001b[0m Trial 99 finished with value: 0.46990110188215817 and parameters: {'n_estimators': 1000, 'learning_rate': 0.1897494453510221, 'num_leaves': 800, 'max_depth': 5, 'min_data_in_leaf': 9400, 'lambda_l1': 20, 'lambda_l2': 75, 'min_gain_to_split': 1.6079064127895046, 'bagging_fraction': 0.8, 'bagging_freq': 1, 'feature_fraction': 0.9}. Best is trial 33 with value: 0.5106251609227802.\u001b[0m\n"
     ]
    }
   ],
   "source": [
    "study = optuna.create_study(direction=\"maximize\", study_name=\"LGBM Classifier\")\n",
    "func = lambda trial: objective(trial)\n",
    "study.optimize(func, n_trials=100)"
   ]
  },
  {
   "cell_type": "code",
   "execution_count": 92,
   "id": "24c02ec2",
   "metadata": {
    "scrolled": true
   },
   "outputs": [
    {
     "name": "stdout",
     "output_type": "stream",
     "text": [
      "\tBest value (Metric): 0.51063\n",
      "\tBest params:\n",
      "\t\tn_estimators: 1000\n",
      "\t\tlearning_rate: 0.19827083979545124\n",
      "\t\tnum_leaves: 400\n",
      "\t\tmax_depth: 5\n",
      "\t\tmin_data_in_leaf: 500\n",
      "\t\tlambda_l1: 5\n",
      "\t\tlambda_l2: 80\n",
      "\t\tmin_gain_to_split: 0.4683095555760728\n",
      "\t\tbagging_fraction: 0.9\n",
      "\t\tbagging_freq: 1\n",
      "\t\tfeature_fraction: 0.8\n"
     ]
    }
   ],
   "source": [
    "best_config = dict(study.best_params.items())\n",
    "\n",
    "print(f\"\\tBest value (Metric): {study.best_value:.5f}\")\n",
    "print(f\"\\tBest params:\")\n",
    "\n",
    "for key, value in study.best_params.items():\n",
    "    print(f\"\\t\\t{key}: {value}\")"
   ]
  },
  {
   "cell_type": "code",
   "execution_count": 93,
   "id": "d8cc10e6",
   "metadata": {},
   "outputs": [
    {
     "name": "stderr",
     "output_type": "stream",
     "text": [
      "A column-vector y was passed when a 1d array was expected. Please change the shape of y to (n_samples, ), for example using ravel().\n"
     ]
    },
    {
     "name": "stdout",
     "output_type": "stream",
     "text": [
      "[LightGBM] [Warning] feature_fraction is set=0.8, colsample_bytree=1.0 will be ignored. Current value: feature_fraction=0.8\n",
      "[LightGBM] [Warning] min_data_in_leaf is set=500, min_child_samples=20 will be ignored. Current value: min_data_in_leaf=500\n",
      "[LightGBM] [Warning] min_gain_to_split is set=0.4683095555760728, min_split_gain=0.0 will be ignored. Current value: min_gain_to_split=0.4683095555760728\n",
      "[LightGBM] [Warning] lambda_l1 is set=5, reg_alpha=0.0 will be ignored. Current value: lambda_l1=5\n",
      "[LightGBM] [Warning] bagging_fraction is set=0.9, subsample=1.0 will be ignored. Current value: bagging_fraction=0.9\n",
      "[LightGBM] [Warning] lambda_l2 is set=80, reg_lambda=0.0 will be ignored. Current value: lambda_l2=80\n",
      "[LightGBM] [Warning] bagging_freq is set=1, subsample_freq=0 will be ignored. Current value: bagging_freq=1\n",
      "LightGBM Model accuracy score: 0.5462\n",
      "Wall time: 16.5 s\n"
     ]
    }
   ],
   "source": [
    "%%time\n",
    "clf = lgb.LGBMClassifier(**best_config)\n",
    "clf.fit(X_train, y_train)\n",
    "y_pred=clf.predict(X_test)\n",
    "\n",
    "accuracy=accuracy_score(y_pred, y_test)\n",
    "print('LightGBM Model accuracy score: {0:0.4f}'.format(accuracy_score(y_test, y_pred)))"
   ]
  },
  {
   "cell_type": "code",
   "execution_count": 94,
   "id": "b1f59d89",
   "metadata": {},
   "outputs": [
    {
     "name": "stdout",
     "output_type": "stream",
     "text": [
      "\n",
      "True Positives(TP) =  20682\n",
      "\n",
      "True Negatives(TN) =  7010\n",
      "\n",
      "False Positives(FP) =  7801\n",
      "\n",
      "False Negatives(FN) =  15205\n",
      "#####################################\n",
      "              precision    recall  f1-score   support\n",
      "\n",
      "         0.0       0.58      0.73      0.64     28483\n",
      "         1.0       0.47      0.32      0.38     22215\n",
      "\n",
      "    accuracy                           0.55     50698\n",
      "   macro avg       0.52      0.52      0.51     50698\n",
      "weighted avg       0.53      0.55      0.53     50698\n",
      "\n"
     ]
    },
    {
     "data": {
      "text/plain": [
       "<AxesSubplot:>"
      ]
     },
     "execution_count": 94,
     "metadata": {},
     "output_type": "execute_result"
    },
    {
     "data": {
      "image/png": "[encoded data removed]",
      "text/plain": [
       "<Figure size 432x288 with 2 Axes>"
      ]
     },
     "metadata": {
      "needs_background": "light"
     },
     "output_type": "display_data"
    }
   ],
   "source": [
    "cm = confusion_matrix(y_test, y_pred)\n",
    "print('\\nTrue Positives(TP) = ', cm[0,0])\n",
    "print('\\nTrue Negatives(TN) = ', cm[1,1])\n",
    "print('\\nFalse Positives(FP) = ', cm[0,1])\n",
    "print('\\nFalse Negatives(FN) = ', cm[1,0])\n",
    "print('#####################################')\n",
    "print(classification_report(y_test, y_pred))\n",
    "\n",
    "cm_matrix = pd.DataFrame(data=cm, columns=['Actual Positive:0', 'Actual Negative:1'], \n",
    "                                 index=['Predict Positive:0', 'Predict Negative:1'])\n",
    "\n",
    "sns.heatmap(cm_matrix, annot=True, fmt='d', cmap='YlGnBu')"
   ]
  },
  {
   "cell_type": "markdown",
   "id": "404ecd5e",
   "metadata": {},
   "source": [
    "# Benchmark DataFrame"
   ]
  },
  {
   "cell_type": "code",
   "execution_count": 95,
   "id": "4fc06d6b",
   "metadata": {},
   "outputs": [
    {
     "data": {
      "text/html": [
       "<div>\n",
       "<style scoped>\n",
       "    .dataframe tbody tr th:only-of-type {\n",
       "        vertical-align: middle;\n",
       "    }\n",
       "\n",
       "    .dataframe tbody tr th {\n",
       "        vertical-align: top;\n",
       "    }\n",
       "\n",
       "    .dataframe thead th {\n",
       "        text-align: right;\n",
       "    }\n",
       "</style>\n",
       "<table border=\"1\" class=\"dataframe\">\n",
       "  <thead>\n",
       "    <tr style=\"text-align: right;\">\n",
       "      <th></th>\n",
       "      <th></th>\n",
       "      <th>accoci</th>\n",
       "      <th>assets</th>\n",
       "      <th>assetsavg</th>\n",
       "      <th>assetsc</th>\n",
       "      <th>assetsnc</th>\n",
       "      <th>assetturnover</th>\n",
       "      <th>bvps</th>\n",
       "      <th>capex</th>\n",
       "      <th>cashneq</th>\n",
       "      <th>cashnequsd</th>\n",
       "      <th>...</th>\n",
       "      <th>rolling_ros_3M</th>\n",
       "      <th>rolling_ros_6M</th>\n",
       "      <th>rolling_ros_9M</th>\n",
       "      <th>rolling_ros_12M</th>\n",
       "      <th>rolling_sbcomp_1M</th>\n",
       "      <th>rolling_sbcomp_2M</th>\n",
       "      <th>rolling_sbcomp_3M</th>\n",
       "      <th>rolling_sbcomp_6M</th>\n",
       "      <th>rolling_sbcomp_9M</th>\n",
       "      <th>rolling_sbcomp_12M</th>\n",
       "    </tr>\n",
       "    <tr>\n",
       "      <th>date</th>\n",
       "      <th>ticker</th>\n",
       "      <th></th>\n",
       "      <th></th>\n",
       "      <th></th>\n",
       "      <th></th>\n",
       "      <th></th>\n",
       "      <th></th>\n",
       "      <th></th>\n",
       "      <th></th>\n",
       "      <th></th>\n",
       "      <th></th>\n",
       "      <th></th>\n",
       "      <th></th>\n",
       "      <th></th>\n",
       "      <th></th>\n",
       "      <th></th>\n",
       "      <th></th>\n",
       "      <th></th>\n",
       "      <th></th>\n",
       "      <th></th>\n",
       "      <th></th>\n",
       "      <th></th>\n",
       "    </tr>\n",
       "  </thead>\n",
       "  <tbody>\n",
       "    <tr>\n",
       "      <th rowspan=\"5\" valign=\"top\">2012-06-30</th>\n",
       "      <th>A</th>\n",
       "      <td>-3.500000e+07</td>\n",
       "      <td>9.757000e+09</td>\n",
       "      <td>9.331500e+09</td>\n",
       "      <td>4.211000e+09</td>\n",
       "      <td>5.546000e+09</td>\n",
       "      <td>0.731</td>\n",
       "      <td>13.994</td>\n",
       "      <td>-4.900000e+07</td>\n",
       "      <td>1.923000e+09</td>\n",
       "      <td>1.923000e+09</td>\n",
       "      <td>...</td>\n",
       "      <td>-0.033520</td>\n",
       "      <td>0.023669</td>\n",
       "      <td>0.023669</td>\n",
       "      <td>0.042169</td>\n",
       "      <td>-0.774648</td>\n",
       "      <td>-0.774648</td>\n",
       "      <td>-0.774648</td>\n",
       "      <td>-0.407407</td>\n",
       "      <td>-0.777778</td>\n",
       "      <td>0.142857</td>\n",
       "    </tr>\n",
       "    <tr>\n",
       "      <th>AAPL</th>\n",
       "      <td>5.320000e+08</td>\n",
       "      <td>1.628960e+11</td>\n",
       "      <td>1.422205e+11</td>\n",
       "      <td>5.194300e+10</td>\n",
       "      <td>1.109530e+11</td>\n",
       "      <td>1.046</td>\n",
       "      <td>4.261</td>\n",
       "      <td>-2.963000e+09</td>\n",
       "      <td>7.945000e+09</td>\n",
       "      <td>7.945000e+09</td>\n",
       "      <td>...</td>\n",
       "      <td>0.000000</td>\n",
       "      <td>0.142405</td>\n",
       "      <td>0.142405</td>\n",
       "      <td>0.172078</td>\n",
       "      <td>0.056604</td>\n",
       "      <td>0.056604</td>\n",
       "      <td>0.056604</td>\n",
       "      <td>-0.616438</td>\n",
       "      <td>-0.616438</td>\n",
       "      <td>0.577465</td>\n",
       "    </tr>\n",
       "    <tr>\n",
       "      <th>ABC</th>\n",
       "      <td>-4.325300e+07</td>\n",
       "      <td>1.574759e+10</td>\n",
       "      <td>1.558839e+10</td>\n",
       "      <td>1.117042e+10</td>\n",
       "      <td>4.577170e+09</td>\n",
       "      <td>5.171</td>\n",
       "      <td>11.621</td>\n",
       "      <td>-1.671680e+08</td>\n",
       "      <td>1.655748e+09</td>\n",
       "      <td>1.655748e+09</td>\n",
       "      <td>...</td>\n",
       "      <td>0.000000</td>\n",
       "      <td>0.000000</td>\n",
       "      <td>0.000000</td>\n",
       "      <td>0.000000</td>\n",
       "      <td>-0.066405</td>\n",
       "      <td>-0.066405</td>\n",
       "      <td>-0.066405</td>\n",
       "      <td>3.100191</td>\n",
       "      <td>3.531829</td>\n",
       "      <td>1.709256</td>\n",
       "    </tr>\n",
       "    <tr>\n",
       "      <th>ABT</th>\n",
       "      <td>-3.543531e+09</td>\n",
       "      <td>6.185979e+10</td>\n",
       "      <td>6.104516e+10</td>\n",
       "      <td>2.625749e+10</td>\n",
       "      <td>3.560230e+10</td>\n",
       "      <td>0.646</td>\n",
       "      <td>15.630</td>\n",
       "      <td>-4.251160e+08</td>\n",
       "      <td>1.100214e+10</td>\n",
       "      <td>1.100214e+10</td>\n",
       "      <td>...</td>\n",
       "      <td>-0.465798</td>\n",
       "      <td>0.115646</td>\n",
       "      <td>0.131034</td>\n",
       "      <td>-0.006061</td>\n",
       "      <td>-0.565298</td>\n",
       "      <td>-0.565298</td>\n",
       "      <td>-0.565298</td>\n",
       "      <td>-0.775785</td>\n",
       "      <td>-0.772484</td>\n",
       "      <td>-0.775054</td>\n",
       "    </tr>\n",
       "    <tr>\n",
       "      <th>ACN</th>\n",
       "      <td>-5.965540e+08</td>\n",
       "      <td>1.553592e+10</td>\n",
       "      <td>1.559159e+10</td>\n",
       "      <td>1.145803e+10</td>\n",
       "      <td>4.077889e+09</td>\n",
       "      <td>1.903</td>\n",
       "      <td>6.358</td>\n",
       "      <td>-8.973300e+07</td>\n",
       "      <td>5.628659e+09</td>\n",
       "      <td>5.628659e+09</td>\n",
       "      <td>...</td>\n",
       "      <td>0.016667</td>\n",
       "      <td>0.025210</td>\n",
       "      <td>0.025210</td>\n",
       "      <td>NaN</td>\n",
       "      <td>-0.694261</td>\n",
       "      <td>-0.694261</td>\n",
       "      <td>-0.694261</td>\n",
       "      <td>-0.664831</td>\n",
       "      <td>-0.664831</td>\n",
       "      <td>NaN</td>\n",
       "    </tr>\n",
       "    <tr>\n",
       "      <th>...</th>\n",
       "      <th>...</th>\n",
       "      <td>...</td>\n",
       "      <td>...</td>\n",
       "      <td>...</td>\n",
       "      <td>...</td>\n",
       "      <td>...</td>\n",
       "      <td>...</td>\n",
       "      <td>...</td>\n",
       "      <td>...</td>\n",
       "      <td>...</td>\n",
       "      <td>...</td>\n",
       "      <td>...</td>\n",
       "      <td>...</td>\n",
       "      <td>...</td>\n",
       "      <td>...</td>\n",
       "      <td>...</td>\n",
       "      <td>...</td>\n",
       "      <td>...</td>\n",
       "      <td>...</td>\n",
       "      <td>...</td>\n",
       "      <td>...</td>\n",
       "      <td>...</td>\n",
       "    </tr>\n",
       "    <tr>\n",
       "      <th rowspan=\"5\" valign=\"top\">2021-09-30</th>\n",
       "      <th>YUM</th>\n",
       "      <td>NaN</td>\n",
       "      <td>NaN</td>\n",
       "      <td>NaN</td>\n",
       "      <td>NaN</td>\n",
       "      <td>NaN</td>\n",
       "      <td>NaN</td>\n",
       "      <td>NaN</td>\n",
       "      <td>NaN</td>\n",
       "      <td>NaN</td>\n",
       "      <td>NaN</td>\n",
       "      <td>...</td>\n",
       "      <td>0.000000</td>\n",
       "      <td>0.021739</td>\n",
       "      <td>0.187726</td>\n",
       "      <td>0.146341</td>\n",
       "      <td>0.000000</td>\n",
       "      <td>0.000000</td>\n",
       "      <td>0.000000</td>\n",
       "      <td>4.047619</td>\n",
       "      <td>0.092784</td>\n",
       "      <td>0.827586</td>\n",
       "    </tr>\n",
       "    <tr>\n",
       "      <th>ZBH</th>\n",
       "      <td>NaN</td>\n",
       "      <td>NaN</td>\n",
       "      <td>NaN</td>\n",
       "      <td>NaN</td>\n",
       "      <td>NaN</td>\n",
       "      <td>NaN</td>\n",
       "      <td>NaN</td>\n",
       "      <td>NaN</td>\n",
       "      <td>NaN</td>\n",
       "      <td>NaN</td>\n",
       "      <td>...</td>\n",
       "      <td>0.000000</td>\n",
       "      <td>0.440860</td>\n",
       "      <td>-15.888889</td>\n",
       "      <td>32.500000</td>\n",
       "      <td>0.000000</td>\n",
       "      <td>0.000000</td>\n",
       "      <td>0.000000</td>\n",
       "      <td>0.148148</td>\n",
       "      <td>-0.688833</td>\n",
       "      <td>0.046414</td>\n",
       "    </tr>\n",
       "    <tr>\n",
       "      <th>ZBRA</th>\n",
       "      <td>NaN</td>\n",
       "      <td>NaN</td>\n",
       "      <td>NaN</td>\n",
       "      <td>NaN</td>\n",
       "      <td>NaN</td>\n",
       "      <td>NaN</td>\n",
       "      <td>NaN</td>\n",
       "      <td>NaN</td>\n",
       "      <td>NaN</td>\n",
       "      <td>NaN</td>\n",
       "      <td>...</td>\n",
       "      <td>0.000000</td>\n",
       "      <td>0.068323</td>\n",
       "      <td>0.202797</td>\n",
       "      <td>0.246377</td>\n",
       "      <td>0.000000</td>\n",
       "      <td>0.000000</td>\n",
       "      <td>0.000000</td>\n",
       "      <td>-0.633333</td>\n",
       "      <td>-0.568627</td>\n",
       "      <td>0.692308</td>\n",
       "    </tr>\n",
       "    <tr>\n",
       "      <th>ZION</th>\n",
       "      <td>NaN</td>\n",
       "      <td>NaN</td>\n",
       "      <td>NaN</td>\n",
       "      <td>NaN</td>\n",
       "      <td>NaN</td>\n",
       "      <td>NaN</td>\n",
       "      <td>NaN</td>\n",
       "      <td>NaN</td>\n",
       "      <td>NaN</td>\n",
       "      <td>NaN</td>\n",
       "      <td>...</td>\n",
       "      <td>0.000000</td>\n",
       "      <td>0.191601</td>\n",
       "      <td>0.604240</td>\n",
       "      <td>0.907563</td>\n",
       "      <td>0.000000</td>\n",
       "      <td>0.000000</td>\n",
       "      <td>0.000000</td>\n",
       "      <td>-0.814815</td>\n",
       "      <td>-0.807692</td>\n",
       "      <td>-0.807692</td>\n",
       "    </tr>\n",
       "    <tr>\n",
       "      <th>ZTS</th>\n",
       "      <td>NaN</td>\n",
       "      <td>NaN</td>\n",
       "      <td>NaN</td>\n",
       "      <td>NaN</td>\n",
       "      <td>NaN</td>\n",
       "      <td>NaN</td>\n",
       "      <td>NaN</td>\n",
       "      <td>NaN</td>\n",
       "      <td>NaN</td>\n",
       "      <td>NaN</td>\n",
       "      <td>...</td>\n",
       "      <td>0.000000</td>\n",
       "      <td>0.005780</td>\n",
       "      <td>0.041916</td>\n",
       "      <td>0.014577</td>\n",
       "      <td>0.000000</td>\n",
       "      <td>0.000000</td>\n",
       "      <td>0.000000</td>\n",
       "      <td>3.307692</td>\n",
       "      <td>3.307692</td>\n",
       "      <td>3.000000</td>\n",
       "    </tr>\n",
       "  </tbody>\n",
       "</table>\n",
       "<p>56751 rows × 401 columns</p>\n",
       "</div>"
      ],
      "text/plain": [
       "                         accoci        assets     assetsavg       assetsc  \\\n",
       "date       ticker                                                           \n",
       "2012-06-30 A      -3.500000e+07  9.757000e+09  9.331500e+09  4.211000e+09   \n",
       "           AAPL    5.320000e+08  1.628960e+11  1.422205e+11  5.194300e+10   \n",
       "           ABC    -4.325300e+07  1.574759e+10  1.558839e+10  1.117042e+10   \n",
       "           ABT    -3.543531e+09  6.185979e+10  6.104516e+10  2.625749e+10   \n",
       "           ACN    -5.965540e+08  1.553592e+10  1.559159e+10  1.145803e+10   \n",
       "...                         ...           ...           ...           ...   \n",
       "2021-09-30 YUM              NaN           NaN           NaN           NaN   \n",
       "           ZBH              NaN           NaN           NaN           NaN   \n",
       "           ZBRA             NaN           NaN           NaN           NaN   \n",
       "           ZION             NaN           NaN           NaN           NaN   \n",
       "           ZTS              NaN           NaN           NaN           NaN   \n",
       "\n",
       "                       assetsnc  assetturnover    bvps         capex  \\\n",
       "date       ticker                                                      \n",
       "2012-06-30 A       5.546000e+09          0.731  13.994 -4.900000e+07   \n",
       "           AAPL    1.109530e+11          1.046   4.261 -2.963000e+09   \n",
       "           ABC     4.577170e+09          5.171  11.621 -1.671680e+08   \n",
       "           ABT     3.560230e+10          0.646  15.630 -4.251160e+08   \n",
       "           ACN     4.077889e+09          1.903   6.358 -8.973300e+07   \n",
       "...                         ...            ...     ...           ...   \n",
       "2021-09-30 YUM              NaN            NaN     NaN           NaN   \n",
       "           ZBH              NaN            NaN     NaN           NaN   \n",
       "           ZBRA             NaN            NaN     NaN           NaN   \n",
       "           ZION             NaN            NaN     NaN           NaN   \n",
       "           ZTS              NaN            NaN     NaN           NaN   \n",
       "\n",
       "                        cashneq    cashnequsd  ...  rolling_ros_3M  \\\n",
       "date       ticker                              ...                   \n",
       "2012-06-30 A       1.923000e+09  1.923000e+09  ...       -0.033520   \n",
       "           AAPL    7.945000e+09  7.945000e+09  ...        0.000000   \n",
       "           ABC     1.655748e+09  1.655748e+09  ...        0.000000   \n",
       "           ABT     1.100214e+10  1.100214e+10  ...       -0.465798   \n",
       "           ACN     5.628659e+09  5.628659e+09  ...        0.016667   \n",
       "...                         ...           ...  ...             ...   \n",
       "2021-09-30 YUM              NaN           NaN  ...        0.000000   \n",
       "           ZBH              NaN           NaN  ...        0.000000   \n",
       "           ZBRA             NaN           NaN  ...        0.000000   \n",
       "           ZION             NaN           NaN  ...        0.000000   \n",
       "           ZTS              NaN           NaN  ...        0.000000   \n",
       "\n",
       "                   rolling_ros_6M  rolling_ros_9M  rolling_ros_12M  \\\n",
       "date       ticker                                                    \n",
       "2012-06-30 A             0.023669        0.023669         0.042169   \n",
       "           AAPL          0.142405        0.142405         0.172078   \n",
       "           ABC           0.000000        0.000000         0.000000   \n",
       "           ABT           0.115646        0.131034        -0.006061   \n",
       "           ACN           0.025210        0.025210              NaN   \n",
       "...                           ...             ...              ...   \n",
       "2021-09-30 YUM           0.021739        0.187726         0.146341   \n",
       "           ZBH           0.440860      -15.888889        32.500000   \n",
       "           ZBRA          0.068323        0.202797         0.246377   \n",
       "           ZION          0.191601        0.604240         0.907563   \n",
       "           ZTS           0.005780        0.041916         0.014577   \n",
       "\n",
       "                   rolling_sbcomp_1M  rolling_sbcomp_2M  rolling_sbcomp_3M  \\\n",
       "date       ticker                                                            \n",
       "2012-06-30 A               -0.774648          -0.774648          -0.774648   \n",
       "           AAPL             0.056604           0.056604           0.056604   \n",
       "           ABC             -0.066405          -0.066405          -0.066405   \n",
       "           ABT             -0.565298          -0.565298          -0.565298   \n",
       "           ACN             -0.694261          -0.694261          -0.694261   \n",
       "...                              ...                ...                ...   \n",
       "2021-09-30 YUM              0.000000           0.000000           0.000000   \n",
       "           ZBH              0.000000           0.000000           0.000000   \n",
       "           ZBRA             0.000000           0.000000           0.000000   \n",
       "           ZION             0.000000           0.000000           0.000000   \n",
       "           ZTS              0.000000           0.000000           0.000000   \n",
       "\n",
       "                   rolling_sbcomp_6M  rolling_sbcomp_9M  rolling_sbcomp_12M  \n",
       "date       ticker                                                            \n",
       "2012-06-30 A               -0.407407          -0.777778            0.142857  \n",
       "           AAPL            -0.616438          -0.616438            0.577465  \n",
       "           ABC              3.100191           3.531829            1.709256  \n",
       "           ABT             -0.775785          -0.772484           -0.775054  \n",
       "           ACN             -0.664831          -0.664831                 NaN  \n",
       "...                              ...                ...                 ...  \n",
       "2021-09-30 YUM              4.047619           0.092784            0.827586  \n",
       "           ZBH              0.148148          -0.688833            0.046414  \n",
       "           ZBRA            -0.633333          -0.568627            0.692308  \n",
       "           ZION            -0.814815          -0.807692           -0.807692  \n",
       "           ZTS              3.307692           3.307692            3.000000  \n",
       "\n",
       "[56751 rows x 401 columns]"
      ]
     },
     "execution_count": 95,
     "metadata": {},
     "output_type": "execute_result"
    }
   ],
   "source": [
    "X_backtest = df_combined.copy()\n",
    "X_backtest = X_backtest.drop('close', axis=1)\n",
    "if enable_val:\n",
    "    X_backtest = X_backtest.loc[y_date_index_list[val_split]:]\n",
    "else:\n",
    "    X_backtest = X_backtest.loc[y_date_index_list[train_split]:]\n",
    "X_backtest"
   ]
  },
  {
   "cell_type": "code",
   "execution_count": 96,
   "id": "ce50414f",
   "metadata": {},
   "outputs": [],
   "source": [
    "S = sec_master_raw.index.tolist()\n",
    "probs = clf.predict_proba(X_backtest)\n",
    "proba_df = pd.DataFrame(probs, columns=['0','1'], index=X_backtest.index)\n",
    "proba_df = proba_df.drop('0', axis=1)\n",
    "proba_df.rename(columns={'1':'probs'},inplace=True)"
   ]
  },
  {
   "cell_type": "code",
   "execution_count": 97,
   "id": "8b282f01",
   "metadata": {},
   "outputs": [],
   "source": [
    "benchmark_weights = pd.DataFrame(index=X_backtest.index)\n",
    "benchmark_weights = benchmark_weights.join(X['marketcap'].groupby(level=0).apply(lambda x: x/x.sum()), how='left')\n",
    "benchmark_weights = benchmark_weights.fillna(0)\n",
    "# benchmark_weights = benchmark_weights.unstack()\n",
    "# benchmark_weights.columns = benchmark_weights.columns.map(''.join)\n",
    "# benchmark_weights = benchmark_weights.stack()\n",
    "# benchmark_weights = benchmark_weights[benchmark_weights!=0]\n",
    "\n",
    "forward_1m_change = df_combined['close'].unstack().pct_change(1).shift(-1)\n",
    "benchmark_df = pd.DataFrame(index=df_combined.index)\n",
    "benchmark_df = benchmark_df.join(forward_1m_change.stack().to_frame('forward_rets'), how='left')\n",
    "benchmark_df = benchmark_df.loc[:benchmark_df.index.get_level_values(0).unique()[-2]]"
   ]
  },
  {
   "cell_type": "markdown",
   "id": "d24cad59",
   "metadata": {},
   "source": [
    "# Portfolio Optimisation"
   ]
  },
  {
   "cell_type": "code",
   "execution_count": 98,
   "id": "e8c0ccee",
   "metadata": {},
   "outputs": [],
   "source": [
    "def optimisation_model(S,\n",
    "                       proba_df,\n",
    "                       benchmark_weights,\n",
    "                       current_weights,\n",
    "                       L_turnover,\n",
    "                       L_security\n",
    "                       ):\n",
    "    \n",
    "    M = ConcreteModel()\n",
    "    M.w = Var(S, within=NonNegativeReals, bounds=(0,1), initialize=0)    \n",
    "    M.Objective = Objective(\n",
    "        expr=sum(proba_df[s]*M.w[s] for s in S),\n",
    "        sense=maximize\n",
    "    )\n",
    "        \n",
    "    @M.Constraint()\n",
    "    def portfolio_sum_to_one(M):\n",
    "        return(sum(M.w[s] for s in S)==1)\n",
    "    \n",
    "    @M.Constraint(S)\n",
    "    def proper_weights(M, s):\n",
    "        return(0, M.w[s], 1)\n",
    "    \n",
    "#     @M.Constraint()\n",
    "#     def turnover_constraint(M):\n",
    "#         return(-L_turnover, sum(M.w[s] - current_weights[s] for s in S), L_turnover)\n",
    "    \n",
    "    \n",
    "    @M.Constraint(S)\n",
    "    def active_security_bet(M, s):\n",
    "        return(-L_security, M.w[s] - benchmark_weights[s], L_security)\n",
    "    \n",
    "    return M"
   ]
  },
  {
   "cell_type": "code",
   "execution_count": 148,
   "id": "fabb1687",
   "metadata": {},
   "outputs": [
    {
     "name": "stdout",
     "output_type": "stream",
     "text": [
      "Simulating for 2012-06-30 00:00:00, 2012-07-31 00:00:00, 2012-08-31 00:00:00, 2012-09-30 00:00:00, 2012-10-31 00:00:00, 2012-11-30 00:00:00, 2012-12-31 00:00:00, 2013-01-31 00:00:00, 2013-02-28 00:00:00, 2013-03-31 00:00:00, 2013-04-30 00:00:00, 2013-05-31 00:00:00, 2013-06-30 00:00:00, 2013-07-31 00:00:00, 2013-08-31 00:00:00, 2013-09-30 00:00:00, 2013-10-31 00:00:00, 2013-11-30 00:00:00, 2013-12-31 00:00:00, 2014-01-31 00:00:00, 2014-02-28 00:00:00, 2014-03-31 00:00:00, 2014-04-30 00:00:00, 2014-05-31 00:00:00, 2014-06-30 00:00:00, 2014-07-31 00:00:00, 2014-08-31 00:00:00, 2014-09-30 00:00:00, 2014-10-31 00:00:00, 2014-11-30 00:00:00, 2014-12-31 00:00:00, 2015-01-31 00:00:00, 2015-02-28 00:00:00, 2015-03-31 00:00:00, 2015-04-30 00:00:00, 2015-05-31 00:00:00, 2015-06-30 00:00:00, 2015-07-31 00:00:00, 2015-08-31 00:00:00, 2015-09-30 00:00:00, 2015-10-31 00:00:00, 2015-11-30 00:00:00, 2015-12-31 00:00:00, 2016-01-31 00:00:00, 2016-02-29 00:00:00, 2016-03-31 00:00:00, 2016-04-30 00:00:00, 2016-05-31 00:00:00, 2016-06-30 00:00:00, 2016-07-31 00:00:00, 2016-08-31 00:00:00, 2016-09-30 00:00:00, 2016-10-31 00:00:00, 2016-11-30 00:00:00, 2016-12-31 00:00:00, 2017-01-31 00:00:00, 2017-02-28 00:00:00, 2017-03-31 00:00:00, 2017-04-30 00:00:00, 2017-05-31 00:00:00, 2017-06-30 00:00:00, 2017-07-31 00:00:00, 2017-08-31 00:00:00, 2017-09-30 00:00:00, 2017-10-31 00:00:00, 2017-11-30 00:00:00, 2017-12-31 00:00:00, 2018-01-31 00:00:00, 2018-02-28 00:00:00, 2018-03-31 00:00:00, 2018-04-30 00:00:00, 2018-05-31 00:00:00, 2018-06-30 00:00:00, 2018-07-31 00:00:00, 2018-08-31 00:00:00, 2018-09-30 00:00:00, 2018-10-31 00:00:00, 2018-11-30 00:00:00, 2018-12-31 00:00:00, 2019-01-31 00:00:00, 2019-02-28 00:00:00, 2019-03-31 00:00:00, 2019-04-30 00:00:00, 2019-05-31 00:00:00, 2019-06-30 00:00:00, 2019-07-31 00:00:00, 2019-08-31 00:00:00, 2019-09-30 00:00:00, 2019-10-31 00:00:00, 2019-11-30 00:00:00, 2019-12-31 00:00:00, 2020-01-31 00:00:00, 2020-02-29 00:00:00, 2020-03-31 00:00:00, 2020-04-30 00:00:00, 2020-05-31 00:00:00, 2020-06-30 00:00:00, 2020-07-31 00:00:00, 2020-08-31 00:00:00, 2020-09-30 00:00:00, 2020-10-31 00:00:00, 2020-11-30 00:00:00, 2020-12-31 00:00:00, 2021-01-31 00:00:00, 2021-02-28 00:00:00, 2021-03-31 00:00:00, 2021-04-30 00:00:00, 2021-05-31 00:00:00, 2021-06-30 00:00:00, 2021-07-31 00:00:00, 2021-08-31 00:00:00, Simulation complete\n"
     ]
    }
   ],
   "source": [
    "solvername='glpk'\n",
    "solverpath_folder='C:\\\\glpk\\\\w64' #does not need to be directly on c drive\n",
    "solverpath_exe='C:\\\\glpk\\\\w64\\\\glpsol' #does not need to be directly on c drive\n",
    "\n",
    "L_turnover = 0.5\n",
    "L_security = 0.01\n",
    "\n",
    "# proba_df = proba_df.unstack()\n",
    "# proba_df = proba_df.reset_index()\n",
    "# proba_df.columns = proba_df.columns.map(''.join)\n",
    "# proba_df = proba_df.set_index('date')\n",
    "# for col in proba_df.columns:\n",
    "#     proba_df.rename(columns={col:col[1:]},inplace=True)\n",
    "\n",
    "opt = SolverFactory(solvername,executable=solverpath_exe)\n",
    "\n",
    "T_list = proba_df.index.get_level_values(0).unique().tolist()\n",
    "df_limits_ref = pd.DataFrame(index=T_list)\n",
    "df_portfolio_weights_before_rebalancing = pd.DataFrame().reindex_like(proba_df).fillna(0)\n",
    "df_portfolio_weights_after_rebalancing = pd.DataFrame().reindex_like(proba_df).fillna(0)\n",
    "\n",
    "df_limits_ref['L_turnover'] = L_turnover\n",
    "df_limits_ref['L_security'] = L_security\n",
    "df_limits_ref.loc[df_limits_ref.index[0], 'L_turnover'] = 999\n",
    "df_portfolio_weights_before_rebalancing['weights'] = 0\n",
    "df_portfolio_weights_after_rebalancing['weights'] = 0\n",
    "\n",
    "df_portfolio_weights_before_rebalancing = df_portfolio_weights_before_rebalancing.drop('probs', axis=1)\n",
    "df_portfolio_weights_after_rebalancing = df_portfolio_weights_after_rebalancing.drop('probs', axis=1)\n",
    "df_portfolio_weights_before_rebalancing = df_portfolio_weights_before_rebalancing.unstack().shift(1).iloc[1:].stack()\n",
    "\n",
    "\n",
    "print('Simulating for ', end='')\n",
    "init=True\n",
    "for t, t_next in windowed(T_list,2):\n",
    "    state = True\n",
    "    while state:\n",
    "        print(f'{t}, ', end='')\n",
    "        benchmark_weight_ref = benchmark_weights.loc[t, 'marketcap'].to_dict()\n",
    "        proba_ref = proba_df.loc[t, 'probs'].fillna(-1).to_dict()\n",
    "        S_ref = proba_df[proba_df>0].loc[t].index.to_list()\n",
    "        \n",
    "        if init:\n",
    "            current_weight_ref = df_portfolio_weights_after_rebalancing.loc[t,'weights'].to_dict()\n",
    "        else:\n",
    "            current_weight_ref = df_portfolio_weights_before_rebalancing.loc[t,'weights'].to_dict()\n",
    "            \n",
    "        for key in benchmark_weight_ref.keys():\n",
    "            if key not in current_weight_ref.keys():\n",
    "                current_weight_ref[key] = 0\n",
    "                \n",
    "        L_turnover_ref = df_limits_ref.loc[t,'L_turnover']\n",
    "        L_security_ref = df_limits_ref.loc[t,'L_security']\n",
    "\n",
    "        M = optimisation_model(S_ref,\n",
    "                               proba_ref,\n",
    "                               benchmark_weight_ref,\n",
    "                               current_weight_ref,\n",
    "                               L_turnover_ref,\n",
    "                               L_security_ref\n",
    "                               )\n",
    "\n",
    "        opt_results = opt.solve(M, tee=False)\n",
    "\n",
    "        if (opt_results.solver.status == SolverStatus.ok) and (opt_results.solver.termination_condition == TerminationCondition.optimal):\n",
    "            pass\n",
    "        else:\n",
    "            current_turnover = df_limits_ref.loc[t, 'L_turnover']\n",
    "            df_limits_ref.loc[t, 'L_turnover'] += 0.05\n",
    "            print(f'WARNING: Unable to find solution with L_turnover of {current_turnover}')\n",
    "            continue\n",
    "        \n",
    "        df_weight_output_at_t = pd.DataFrame.from_dict(M.w.extract_values(), orient='index', columns=[str(M.w)])  \n",
    "        \n",
    "        if np.allclose(df_weight_output_at_t.min(axis=1), 0.0):\n",
    "            df_weight_output_at_t[df_weight_output_at_t<0] = 0\n",
    "        \n",
    "        df_portfolio_weights_after_rebalancing.loc[t, :] = df_weight_output_at_t['w'].values\n",
    "        \n",
    "        if t_next is not None:\n",
    "            drifted_weights = (benchmark_df.loc[t]+1).mul(df_weight_output_at_t['w'],axis=0)\n",
    "            drifted_weights = drifted_weights/ drifted_weights.sum()\n",
    "            df_portfolio_weights_before_rebalancing.loc[t_next, :] = drifted_weights['forward_rets'].values\n",
    "        state = False\n",
    "        init=False\n",
    "print('Simulation complete')"
   ]
  },
  {
   "cell_type": "markdown",
   "id": "59c7a7e7",
   "metadata": {},
   "source": [
    "# Backtest"
   ]
  },
  {
   "cell_type": "code",
   "execution_count": 162,
   "id": "54664aa4",
   "metadata": {},
   "outputs": [
    {
     "data": {
      "application/vnd.plotly.v1+json": {
       "config": {
        "plotlyServerURL": "https://plot.ly"
       },
       "data": [
        {
         "hovertemplate": "variable=portfolio<br>date=%{x}<br>value=%{y}<extra></extra>",
         "legendgroup": "portfolio",
         "line": {
          "color": "#636efa",
          "dash": "solid"
         },
         "mode": "lines",
         "name": "portfolio",
         "orientation": "v",
         "showlegend": true,
         "type": "scatter",
         "x": [
          "2012-06-30T00:00:00",
          "2012-07-31T00:00:00",
          "2012-08-31T00:00:00",
          "2012-09-30T00:00:00",
          "2012-10-31T00:00:00",
          "2012-11-30T00:00:00",
          "2012-12-31T00:00:00",
          "2013-01-31T00:00:00",
          "2013-02-28T00:00:00",
          "2013-03-31T00:00:00",
          "2013-04-30T00:00:00",
          "2013-05-31T00:00:00",
          "2013-06-30T00:00:00",
          "2013-07-31T00:00:00",
          "2013-08-31T00:00:00",
          "2013-09-30T00:00:00",
          "2013-10-31T00:00:00",
          "2013-11-30T00:00:00",
          "2013-12-31T00:00:00",
          "2014-01-31T00:00:00",
          "2014-02-28T00:00:00",
          "2014-03-31T00:00:00",
          "2014-04-30T00:00:00",
          "2014-05-31T00:00:00",
          "2014-06-30T00:00:00",
          "2014-07-31T00:00:00",
          "2014-08-31T00:00:00",
          "2014-09-30T00:00:00",
          "2014-10-31T00:00:00",
          "2014-11-30T00:00:00",
          "2014-12-31T00:00:00",
          "2015-01-31T00:00:00",
          "2015-02-28T00:00:00",
          "2015-03-31T00:00:00",
          "2015-04-30T00:00:00",
          "2015-05-31T00:00:00",
          "2015-06-30T00:00:00",
          "2015-07-31T00:00:00",
          "2015-08-31T00:00:00",
          "2015-09-30T00:00:00",
          "2015-10-31T00:00:00",
          "2015-11-30T00:00:00",
          "2015-12-31T00:00:00",
          "2016-01-31T00:00:00",
          "2016-02-29T00:00:00",
          "2016-03-31T00:00:00",
          "2016-04-30T00:00:00",
          "2016-05-31T00:00:00",
          "2016-06-30T00:00:00",
          "2016-07-31T00:00:00",
          "2016-08-31T00:00:00",
          "2016-09-30T00:00:00",
          "2016-10-31T00:00:00",
          "2016-11-30T00:00:00",
          "2016-12-31T00:00:00",
          "2017-01-31T00:00:00",
          "2017-02-28T00:00:00",
          "2017-03-31T00:00:00",
          "2017-04-30T00:00:00",
          "2017-05-31T00:00:00",
          "2017-06-30T00:00:00",
          "2017-07-31T00:00:00",
          "2017-08-31T00:00:00",
          "2017-09-30T00:00:00",
          "2017-10-31T00:00:00",
          "2017-11-30T00:00:00",
          "2017-12-31T00:00:00",
          "2018-01-31T00:00:00",
          "2018-02-28T00:00:00",
          "2018-03-31T00:00:00",
          "2018-04-30T00:00:00",
          "2018-05-31T00:00:00",
          "2018-06-30T00:00:00",
          "2018-07-31T00:00:00",
          "2018-08-31T00:00:00",
          "2018-09-30T00:00:00",
          "2018-10-31T00:00:00",
          "2018-11-30T00:00:00",
          "2018-12-31T00:00:00",
          "2019-01-31T00:00:00",
          "2019-02-28T00:00:00",
          "2019-03-31T00:00:00",
          "2019-04-30T00:00:00",
          "2019-05-31T00:00:00",
          "2019-06-30T00:00:00",
          "2019-07-31T00:00:00",
          "2019-08-31T00:00:00",
          "2019-09-30T00:00:00",
          "2019-10-31T00:00:00",
          "2019-11-30T00:00:00",
          "2019-12-31T00:00:00",
          "2020-01-31T00:00:00",
          "2020-02-29T00:00:00",
          "2020-03-31T00:00:00",
          "2020-04-30T00:00:00",
          "2020-05-31T00:00:00",
          "2020-06-30T00:00:00",
          "2020-07-31T00:00:00",
          "2020-08-31T00:00:00",
          "2020-09-30T00:00:00",
          "2020-10-31T00:00:00",
          "2020-11-30T00:00:00",
          "2020-12-31T00:00:00",
          "2021-01-31T00:00:00",
          "2021-02-28T00:00:00",
          "2021-03-31T00:00:00",
          "2021-04-30T00:00:00",
          "2021-05-31T00:00:00",
          "2021-06-30T00:00:00",
          "2021-07-31T00:00:00",
          "2021-08-31T00:00:00",
          "2021-09-30T00:00:00"
         ],
         "xaxis": "x",
         "y": [
          1,
          1.031945053815274,
          1.0916843556354894,
          1.1207124371232828,
          1.1083497698562557,
          1.1406195120307483,
          1.163648040615598,
          1.2280184633856794,
          1.2378325966235517,
          1.2798125528323159,
          1.3036807804615809,
          1.3462085986427608,
          1.3159856638250518,
          1.386870874761242,
          1.3488961954600438,
          1.3959426779967408,
          1.4575950079694084,
          1.4993442444544107,
          1.5430934379255132,
          1.4847847514978372,
          1.5723761458057761,
          1.5701849303834001,
          1.585581550516895,
          1.6301947888997668,
          1.6656086508111363,
          1.6635962124219805,
          1.7465333713392743,
          1.682384864552396,
          1.7344784303279435,
          1.7616629030450566,
          1.7502990090629635,
          1.6907575426108725,
          1.8092769655581342,
          1.7799504120941902,
          1.8523545847533531,
          1.8428560108633913,
          1.8050070368279112,
          1.8038593298895822,
          1.6949458130275954,
          1.5766777207919003,
          1.7220243378350335,
          1.713757584425435,
          1.6473423166907506,
          1.5701229582575762,
          1.6153037280221922,
          1.7626951407503741,
          1.8094754416299383,
          1.8157595678036114,
          1.8126425357832008,
          1.9275064917828468,
          1.9402686962992424,
          1.934565602486666,
          1.8906604684346173,
          1.9726389696915927,
          1.9754152129046,
          2.053656873627853,
          2.1108195816335225,
          2.1126163940771923,
          2.125645776658634,
          2.0956744143943173,
          2.145715414408942,
          2.1811830533777865,
          2.1235307423161696,
          2.2143946557112337,
          2.2078309455026366,
          2.322555035698887,
          2.39239625508323,
          2.5151264887035567,
          2.4104238884798748,
          2.394558943966522,
          2.465947599406333,
          2.4957717179484935,
          2.5302831267181753,
          2.629675809654347,
          2.680228459861679,
          2.6881128659587037,
          2.537887580076513,
          2.6074093377375953,
          2.2918823470098153,
          2.5771284307200815,
          2.6588101988009782,
          2.682398486983629,
          2.821608765435232,
          2.5865488048746057,
          2.825839067529275,
          2.8629759176979173,
          2.6728742812322794,
          2.8088948519360857,
          2.8809415708599206,
          3.009503837343378,
          3.1428903308518215,
          3.1149279010626922,
          2.8312791216530884,
          2.1033155561442824,
          2.4993440173415182,
          2.5838229088314395,
          2.650235797215816,
          2.7844378830520964,
          2.951441224415072,
          2.850091467491454,
          2.8325914100811573,
          3.4683324137508773,
          3.6262133874882783,
          3.6340950507540053,
          3.903748395422285,
          4.142722631754325,
          4.358493056571935,
          4.426495140937857,
          4.4861567772539575,
          4.491754719703841,
          4.510482759567235,
          4.45759423475247
         ],
         "yaxis": "y"
        },
        {
         "hovertemplate": "variable=benchmark<br>date=%{x}<br>value=%{y}<extra></extra>",
         "legendgroup": "benchmark",
         "line": {
          "color": "#EF553B",
          "dash": "solid"
         },
         "mode": "lines",
         "name": "benchmark",
         "orientation": "v",
         "showlegend": true,
         "type": "scatter",
         "x": [
          "2012-06-30T00:00:00",
          "2012-07-31T00:00:00",
          "2012-08-31T00:00:00",
          "2012-09-30T00:00:00",
          "2012-10-31T00:00:00",
          "2012-11-30T00:00:00",
          "2012-12-31T00:00:00",
          "2013-01-31T00:00:00",
          "2013-02-28T00:00:00",
          "2013-03-31T00:00:00",
          "2013-04-30T00:00:00",
          "2013-05-31T00:00:00",
          "2013-06-30T00:00:00",
          "2013-07-31T00:00:00",
          "2013-08-31T00:00:00",
          "2013-09-30T00:00:00",
          "2013-10-31T00:00:00",
          "2013-11-30T00:00:00",
          "2013-12-31T00:00:00",
          "2014-01-31T00:00:00",
          "2014-02-28T00:00:00",
          "2014-03-31T00:00:00",
          "2014-04-30T00:00:00",
          "2014-05-31T00:00:00",
          "2014-06-30T00:00:00",
          "2014-07-31T00:00:00",
          "2014-08-31T00:00:00",
          "2014-09-30T00:00:00",
          "2014-10-31T00:00:00",
          "2014-11-30T00:00:00",
          "2014-12-31T00:00:00",
          "2015-01-31T00:00:00",
          "2015-02-28T00:00:00",
          "2015-03-31T00:00:00",
          "2015-04-30T00:00:00",
          "2015-05-31T00:00:00",
          "2015-06-30T00:00:00",
          "2015-07-31T00:00:00",
          "2015-08-31T00:00:00",
          "2015-09-30T00:00:00",
          "2015-10-31T00:00:00",
          "2015-11-30T00:00:00",
          "2015-12-31T00:00:00",
          "2016-01-31T00:00:00",
          "2016-02-29T00:00:00",
          "2016-03-31T00:00:00",
          "2016-04-30T00:00:00",
          "2016-05-31T00:00:00",
          "2016-06-30T00:00:00",
          "2016-07-31T00:00:00",
          "2016-08-31T00:00:00",
          "2016-09-30T00:00:00",
          "2016-10-31T00:00:00",
          "2016-11-30T00:00:00",
          "2016-12-31T00:00:00",
          "2017-01-31T00:00:00",
          "2017-02-28T00:00:00",
          "2017-03-31T00:00:00",
          "2017-04-30T00:00:00",
          "2017-05-31T00:00:00",
          "2017-06-30T00:00:00",
          "2017-07-31T00:00:00",
          "2017-08-31T00:00:00",
          "2017-09-30T00:00:00",
          "2017-10-31T00:00:00",
          "2017-11-30T00:00:00",
          "2017-12-31T00:00:00",
          "2018-01-31T00:00:00",
          "2018-02-28T00:00:00",
          "2018-03-31T00:00:00",
          "2018-04-30T00:00:00",
          "2018-05-31T00:00:00",
          "2018-06-30T00:00:00",
          "2018-07-31T00:00:00",
          "2018-08-31T00:00:00",
          "2018-09-30T00:00:00",
          "2018-10-31T00:00:00",
          "2018-11-30T00:00:00",
          "2018-12-31T00:00:00",
          "2019-01-31T00:00:00",
          "2019-02-28T00:00:00",
          "2019-03-31T00:00:00",
          "2019-04-30T00:00:00",
          "2019-05-31T00:00:00",
          "2019-06-30T00:00:00",
          "2019-07-31T00:00:00",
          "2019-08-31T00:00:00",
          "2019-09-30T00:00:00",
          "2019-10-31T00:00:00",
          "2019-11-30T00:00:00",
          "2019-12-31T00:00:00",
          "2020-01-31T00:00:00",
          "2020-02-29T00:00:00",
          "2020-03-31T00:00:00",
          "2020-04-30T00:00:00",
          "2020-05-31T00:00:00",
          "2020-06-30T00:00:00",
          "2020-07-31T00:00:00",
          "2020-08-31T00:00:00",
          "2020-09-30T00:00:00",
          "2020-10-31T00:00:00",
          "2020-11-30T00:00:00",
          "2020-12-31T00:00:00",
          "2021-01-31T00:00:00",
          "2021-02-28T00:00:00",
          "2021-03-31T00:00:00",
          "2021-04-30T00:00:00",
          "2021-05-31T00:00:00",
          "2021-06-30T00:00:00",
          "2021-07-31T00:00:00",
          "2021-08-31T00:00:00",
          "2021-09-30T00:00:00"
         ],
         "xaxis": "x",
         "y": [
          1,
          1.0125976390438713,
          1.0326099723967814,
          1.0576364010101604,
          1.0367064074704881,
          1.0396576026311155,
          1.0470062254067072,
          1.099804721912257,
          1.111969225347977,
          1.151986550772303,
          1.1728211076525519,
          1.197172138368474,
          1.1792153638339111,
          1.2375418453045168,
          1.1988092441416578,
          1.234473189639984,
          1.2895254595642223,
          1.3256959534856412,
          1.3569331062430263,
          1.3086494978563463,
          1.3650745874199808,
          1.3745374992658723,
          1.3830607270805197,
          1.4121468843601344,
          1.4390600223174963,
          1.4173591942209438,
          1.4707303106830332,
          1.4479136077993777,
          1.4815073119163684,
          1.5178539965936457,
          1.5114964468197571,
          1.4645783167909792,
          1.544972690432842,
          1.5180962588829505,
          1.5310315968755506,
          1.5470943207846362,
          1.5145871263287722,
          1.5444881658542318,
          1.4478328537029426,
          1.4095480707112236,
          1.526516708756681,
          1.527287543313561,
          1.5005138897045873,
          1.424384800610795,
          1.418504434134023,
          1.5121131144652613,
          1.51619486697598,
          1.539437364186293,
          1.5408322076701715,
          1.5957009455570568,
          1.5937555059611208,
          1.5917880425207027,
          1.5608665648675637,
          1.6142083162036767,
          1.6435881247430553,
          1.672982615845422,
          1.7352146590708875,
          1.7345392611734305,
          1.750308333822752,
          1.770570270746462,
          1.779093498561109,
          1.813516767486933,
          1.8145078404886361,
          1.849533094496976,
          1.8905708580489817,
          1.9436630058142956,
          1.9627723615434318,
          2.073038409584778,
          1.9922989957126924,
          1.9387370059317561,
          1.9440080460445186,
          1.986014858753745,
          1.9956319375110128,
          2.0675177659012167,
          2.1300875080754107,
          2.1392347448170566,
          1.9907646678804263,
          2.0263184941563415,
          1.8403491513478605,
          1.9851559288189358,
          2.0441724907499865,
          2.080812826687028,
          2.1626167263757576,
          2.020364714864628,
          2.15962882480766,
          2.187980853937865,
          2.1483966641216905,
          2.1853086274740128,
          2.2299583015211146,
          2.3058818347330723,
          2.371806542550069,
          2.367945028484174,
          2.1687760615493055,
          1.8974202736829757,
          2.138096846185472,
          2.2349136665296316,
          2.2760101603335903,
          2.40142127209726,
          2.569676102660483,
          2.4688729664650286,
          2.4005696834439445,
          2.6587405297468756,
          2.757436718153524,
          2.7267281376637134,
          2.7978724966230137,
          2.9166103835085484,
          3.069514594467614,
          3.086355494215074,
          3.1549157220884516,
          3.2266840899747504,
          3.3202266987725424,
          3.25438274505198
         ],
         "yaxis": "y"
        }
       ],
       "layout": {
        "legend": {
         "title": {
          "text": "variable"
         },
         "tracegroupgap": 0
        },
        "margin": {
         "t": 60
        },
        "shapes": [
         {
          "line": {
           "dash": "dash"
          },
          "type": "line",
          "x0": "2020-09-30T00:00:00",
          "x1": "2020-09-30T00:00:00",
          "xref": "x",
          "y0": 0,
          "y1": 1,
          "yref": "y domain"
         }
        ],
        "template": {
         "data": {
          "bar": [
           {
            "error_x": {
             "color": "#2a3f5f"
            },
            "error_y": {
             "color": "#2a3f5f"
            },
            "marker": {
             "line": {
              "color": "#E5ECF6",
              "width": 0.5
             },
             "pattern": {
              "fillmode": "overlay",
              "size": 10,
              "solidity": 0.2
             }
            },
            "type": "bar"
           }
          ],
          "barpolar": [
           {
            "marker": {
             "line": {
              "color": "#E5ECF6",
              "width": 0.5
             },
             "pattern": {
              "fillmode": "overlay",
              "size": 10,
              "solidity": 0.2
             }
            },
            "type": "barpolar"
           }
          ],
          "carpet": [
           {
            "aaxis": {
             "endlinecolor": "#2a3f5f",
             "gridcolor": "white",
             "linecolor": "white",
             "minorgridcolor": "white",
             "startlinecolor": "#2a3f5f"
            },
            "baxis": {
             "endlinecolor": "#2a3f5f",
             "gridcolor": "white",
             "linecolor": "white",
             "minorgridcolor": "white",
             "startlinecolor": "#2a3f5f"
            },
            "type": "carpet"
           }
          ],
          "choropleth": [
           {
            "colorbar": {
             "outlinewidth": 0,
             "ticks": ""
            },
            "type": "choropleth"
           }
          ],
          "contour": [
           {
            "colorbar": {
             "outlinewidth": 0,
             "ticks": ""
            },
            "colorscale": [
             [
              0,
              "#0d0887"
             ],
             [
              0.1111111111111111,
              "#46039f"
             ],
             [
              0.2222222222222222,
              "#7201a8"
             ],
             [
              0.3333333333333333,
              "#9c179e"
             ],
             [
              0.4444444444444444,
              "#bd3786"
             ],
             [
              0.5555555555555556,
              "#d8576b"
             ],
             [
              0.6666666666666666,
              "#ed7953"
             ],
             [
              0.7777777777777778,
              "#fb9f3a"
             ],
             [
              0.8888888888888888,
              "#fdca26"
             ],
             [
              1,
              "#f0f921"
             ]
            ],
            "type": "contour"
           }
          ],
          "contourcarpet": [
           {
            "colorbar": {
             "outlinewidth": 0,
             "ticks": ""
            },
            "type": "contourcarpet"
           }
          ],
          "heatmap": [
           {
            "colorbar": {
             "outlinewidth": 0,
             "ticks": ""
            },
            "colorscale": [
             [
              0,
              "#0d0887"
             ],
             [
              0.1111111111111111,
              "#46039f"
             ],
             [
              0.2222222222222222,
              "#7201a8"
             ],
             [
              0.3333333333333333,
              "#9c179e"
             ],
             [
              0.4444444444444444,
              "#bd3786"
             ],
             [
              0.5555555555555556,
              "#d8576b"
             ],
             [
              0.6666666666666666,
              "#ed7953"
             ],
             [
              0.7777777777777778,
              "#fb9f3a"
             ],
             [
              0.8888888888888888,
              "#fdca26"
             ],
             [
              1,
              "#f0f921"
             ]
            ],
            "type": "heatmap"
           }
          ],
          "heatmapgl": [
           {
            "colorbar": {
             "outlinewidth": 0,
             "ticks": ""
            },
            "colorscale": [
             [
              0,
              "#0d0887"
             ],
             [
              0.1111111111111111,
              "#46039f"
             ],
             [
              0.2222222222222222,
              "#7201a8"
             ],
             [
              0.3333333333333333,
              "#9c179e"
             ],
             [
              0.4444444444444444,
              "#bd3786"
             ],
             [
              0.5555555555555556,
              "#d8576b"
             ],
             [
              0.6666666666666666,
              "#ed7953"
             ],
             [
              0.7777777777777778,
              "#fb9f3a"
             ],
             [
              0.8888888888888888,
              "#fdca26"
             ],
             [
              1,
              "#f0f921"
             ]
            ],
            "type": "heatmapgl"
           }
          ],
          "histogram": [
           {
            "marker": {
             "pattern": {
              "fillmode": "overlay",
              "size": 10,
              "solidity": 0.2
             }
            },
            "type": "histogram"
           }
          ],
          "histogram2d": [
           {
            "colorbar": {
             "outlinewidth": 0,
             "ticks": ""
            },
            "colorscale": [
             [
              0,
              "#0d0887"
             ],
             [
              0.1111111111111111,
              "#46039f"
             ],
             [
              0.2222222222222222,
              "#7201a8"
             ],
             [
              0.3333333333333333,
              "#9c179e"
             ],
             [
              0.4444444444444444,
              "#bd3786"
             ],
             [
              0.5555555555555556,
              "#d8576b"
             ],
             [
              0.6666666666666666,
              "#ed7953"
             ],
             [
              0.7777777777777778,
              "#fb9f3a"
             ],
             [
              0.8888888888888888,
              "#fdca26"
             ],
             [
              1,
              "#f0f921"
             ]
            ],
            "type": "histogram2d"
           }
          ],
          "histogram2dcontour": [
           {
            "colorbar": {
             "outlinewidth": 0,
             "ticks": ""
            },
            "colorscale": [
             [
              0,
              "#0d0887"
             ],
             [
              0.1111111111111111,
              "#46039f"
             ],
             [
              0.2222222222222222,
              "#7201a8"
             ],
             [
              0.3333333333333333,
              "#9c179e"
             ],
             [
              0.4444444444444444,
              "#bd3786"
             ],
             [
              0.5555555555555556,
              "#d8576b"
             ],
             [
              0.6666666666666666,
              "#ed7953"
             ],
             [
              0.7777777777777778,
              "#fb9f3a"
             ],
             [
              0.8888888888888888,
              "#fdca26"
             ],
             [
              1,
              "#f0f921"
             ]
            ],
            "type": "histogram2dcontour"
           }
          ],
          "mesh3d": [
           {
            "colorbar": {
             "outlinewidth": 0,
             "ticks": ""
            },
            "type": "mesh3d"
           }
          ],
          "parcoords": [
           {
            "line": {
             "colorbar": {
              "outlinewidth": 0,
              "ticks": ""
             }
            },
            "type": "parcoords"
           }
          ],
          "pie": [
           {
            "automargin": true,
            "type": "pie"
           }
          ],
          "scatter": [
           {
            "marker": {
             "colorbar": {
              "outlinewidth": 0,
              "ticks": ""
             }
            },
            "type": "scatter"
           }
          ],
          "scatter3d": [
           {
            "line": {
             "colorbar": {
              "outlinewidth": 0,
              "ticks": ""
             }
            },
            "marker": {
             "colorbar": {
              "outlinewidth": 0,
              "ticks": ""
             }
            },
            "type": "scatter3d"
           }
          ],
          "scattercarpet": [
           {
            "marker": {
             "colorbar": {
              "outlinewidth": 0,
              "ticks": ""
             }
            },
            "type": "scattercarpet"
           }
          ],
          "scattergeo": [
           {
            "marker": {
             "colorbar": {
              "outlinewidth": 0,
              "ticks": ""
             }
            },
            "type": "scattergeo"
           }
          ],
          "scattergl": [
           {
            "marker": {
             "colorbar": {
              "outlinewidth": 0,
              "ticks": ""
             }
            },
            "type": "scattergl"
           }
          ],
          "scattermapbox": [
           {
            "marker": {
             "colorbar": {
              "outlinewidth": 0,
              "ticks": ""
             }
            },
            "type": "scattermapbox"
           }
          ],
          "scatterpolar": [
           {
            "marker": {
             "colorbar": {
              "outlinewidth": 0,
              "ticks": ""
             }
            },
            "type": "scatterpolar"
           }
          ],
          "scatterpolargl": [
           {
            "marker": {
             "colorbar": {
              "outlinewidth": 0,
              "ticks": ""
             }
            },
            "type": "scatterpolargl"
           }
          ],
          "scatterternary": [
           {
            "marker": {
             "colorbar": {
              "outlinewidth": 0,
              "ticks": ""
             }
            },
            "type": "scatterternary"
           }
          ],
          "surface": [
           {
            "colorbar": {
             "outlinewidth": 0,
             "ticks": ""
            },
            "colorscale": [
             [
              0,
              "#0d0887"
             ],
             [
              0.1111111111111111,
              "#46039f"
             ],
             [
              0.2222222222222222,
              "#7201a8"
             ],
             [
              0.3333333333333333,
              "#9c179e"
             ],
             [
              0.4444444444444444,
              "#bd3786"
             ],
             [
              0.5555555555555556,
              "#d8576b"
             ],
             [
              0.6666666666666666,
              "#ed7953"
             ],
             [
              0.7777777777777778,
              "#fb9f3a"
             ],
             [
              0.8888888888888888,
              "#fdca26"
             ],
             [
              1,
              "#f0f921"
             ]
            ],
            "type": "surface"
           }
          ],
          "table": [
           {
            "cells": {
             "fill": {
              "color": "#EBF0F8"
             },
             "line": {
              "color": "white"
             }
            },
            "header": {
             "fill": {
              "color": "#C8D4E3"
             },
             "line": {
              "color": "white"
             }
            },
            "type": "table"
           }
          ]
         },
         "layout": {
          "annotationdefaults": {
           "arrowcolor": "#2a3f5f",
           "arrowhead": 0,
           "arrowwidth": 1
          },
          "autotypenumbers": "strict",
          "coloraxis": {
           "colorbar": {
            "outlinewidth": 0,
            "ticks": ""
           }
          },
          "colorscale": {
           "diverging": [
            [
             0,
             "#8e0152"
            ],
            [
             0.1,
             "#c51b7d"
            ],
            [
             0.2,
             "#de77ae"
            ],
            [
             0.3,
             "#f1b6da"
            ],
            [
             0.4,
             "#fde0ef"
            ],
            [
             0.5,
             "#f7f7f7"
            ],
            [
             0.6,
             "#e6f5d0"
            ],
            [
             0.7,
             "#b8e186"
            ],
            [
             0.8,
             "#7fbc41"
            ],
            [
             0.9,
             "#4d9221"
            ],
            [
             1,
             "#276419"
            ]
           ],
           "sequential": [
            [
             0,
             "#0d0887"
            ],
            [
             0.1111111111111111,
             "#46039f"
            ],
            [
             0.2222222222222222,
             "#7201a8"
            ],
            [
             0.3333333333333333,
             "#9c179e"
            ],
            [
             0.4444444444444444,
             "#bd3786"
            ],
            [
             0.5555555555555556,
             "#d8576b"
            ],
            [
             0.6666666666666666,
             "#ed7953"
            ],
            [
             0.7777777777777778,
             "#fb9f3a"
            ],
            [
             0.8888888888888888,
             "#fdca26"
            ],
            [
             1,
             "#f0f921"
            ]
           ],
           "sequentialminus": [
            [
             0,
             "#0d0887"
            ],
            [
             0.1111111111111111,
             "#46039f"
            ],
            [
             0.2222222222222222,
             "#7201a8"
            ],
            [
             0.3333333333333333,
             "#9c179e"
            ],
            [
             0.4444444444444444,
             "#bd3786"
            ],
            [
             0.5555555555555556,
             "#d8576b"
            ],
            [
             0.6666666666666666,
             "#ed7953"
            ],
            [
             0.7777777777777778,
             "#fb9f3a"
            ],
            [
             0.8888888888888888,
             "#fdca26"
            ],
            [
             1,
             "#f0f921"
            ]
           ]
          },
          "colorway": [
           "#636efa",
           "#EF553B",
           "#00cc96",
           "#ab63fa",
           "#FFA15A",
           "#19d3f3",
           "#FF6692",
           "#B6E880",
           "#FF97FF",
           "#FECB52"
          ],
          "font": {
           "color": "#2a3f5f"
          },
          "geo": {
           "bgcolor": "white",
           "lakecolor": "white",
           "landcolor": "#E5ECF6",
           "showlakes": true,
           "showland": true,
           "subunitcolor": "white"
          },
          "hoverlabel": {
           "align": "left"
          },
          "hovermode": "closest",
          "mapbox": {
           "style": "light"
          },
          "paper_bgcolor": "white",
          "plot_bgcolor": "#E5ECF6",
          "polar": {
           "angularaxis": {
            "gridcolor": "white",
            "linecolor": "white",
            "ticks": ""
           },
           "bgcolor": "#E5ECF6",
           "radialaxis": {
            "gridcolor": "white",
            "linecolor": "white",
            "ticks": ""
           }
          },
          "scene": {
           "xaxis": {
            "backgroundcolor": "#E5ECF6",
            "gridcolor": "white",
            "gridwidth": 2,
            "linecolor": "white",
            "showbackground": true,
            "ticks": "",
            "zerolinecolor": "white"
           },
           "yaxis": {
            "backgroundcolor": "#E5ECF6",
            "gridcolor": "white",
            "gridwidth": 2,
            "linecolor": "white",
            "showbackground": true,
            "ticks": "",
            "zerolinecolor": "white"
           },
           "zaxis": {
            "backgroundcolor": "#E5ECF6",
            "gridcolor": "white",
            "gridwidth": 2,
            "linecolor": "white",
            "showbackground": true,
            "ticks": "",
            "zerolinecolor": "white"
           }
          },
          "shapedefaults": {
           "line": {
            "color": "#2a3f5f"
           }
          },
          "ternary": {
           "aaxis": {
            "gridcolor": "white",
            "linecolor": "white",
            "ticks": ""
           },
           "baxis": {
            "gridcolor": "white",
            "linecolor": "white",
            "ticks": ""
           },
           "bgcolor": "#E5ECF6",
           "caxis": {
            "gridcolor": "white",
            "linecolor": "white",
            "ticks": ""
           }
          },
          "title": {
           "x": 0.05
          },
          "xaxis": {
           "automargin": true,
           "gridcolor": "white",
           "linecolor": "white",
           "ticks": "",
           "title": {
            "standoff": 15
           },
           "zerolinecolor": "white",
           "zerolinewidth": 2
          },
          "yaxis": {
           "automargin": true,
           "gridcolor": "white",
           "linecolor": "white",
           "ticks": "",
           "title": {
            "standoff": 15
           },
           "zerolinecolor": "white",
           "zerolinewidth": 2
          }
         }
        },
        "xaxis": {
         "anchor": "y",
         "domain": [
          0,
          1
         ],
         "title": {
          "text": "date"
         }
        },
        "yaxis": {
         "anchor": "x",
         "domain": [
          0,
          1
         ],
         "title": {
          "text": "value"
         }
        }
       }
      },
      "text/html": [
       "<div>                            <div id=\"93175dd9-c999-4be9-9577-6b9f3fc6c7d9\" class=\"plotly-graph-div\" style=\"height:525px; width:100%;\"></div>            <script type=\"text/javascript\">                require([\"plotly\"], function(Plotly) {                    window.PLOTLYENV=window.PLOTLYENV || {};                                    if (document.getElementById(\"93175dd9-c999-4be9-9577-6b9f3fc6c7d9\")) {                    Plotly.newPlot(                        \"93175dd9-c999-4be9-9577-6b9f3fc6c7d9\",                        [{\"hovertemplate\":\"variable=portfolio<br>date=%{x}<br>value=%{y}<extra></extra>\",\"legendgroup\":\"portfolio\",\"line\":{\"color\":\"#636efa\",\"dash\":\"solid\"},\"mode\":\"lines\",\"name\":\"portfolio\",\"orientation\":\"v\",\"showlegend\":true,\"type\":\"scatter\",\"x\":[\"2012-06-30T00:00:00\",\"2012-07-31T00:00:00\",\"2012-08-31T00:00:00\",\"2012-09-30T00:00:00\",\"2012-10-31T00:00:00\",\"2012-11-30T00:00:00\",\"2012-12-31T00:00:00\",\"2013-01-31T00:00:00\",\"2013-02-28T00:00:00\",\"2013-03-31T00:00:00\",\"2013-04-30T00:00:00\",\"2013-05-31T00:00:00\",\"2013-06-30T00:00:00\",\"2013-07-31T00:00:00\",\"2013-08-31T00:00:00\",\"2013-09-30T00:00:00\",\"2013-10-31T00:00:00\",\"2013-11-30T00:00:00\",\"2013-12-31T00:00:00\",\"2014-01-31T00:00:00\",\"2014-02-28T00:00:00\",\"2014-03-31T00:00:00\",\"2014-04-30T00:00:00\",\"2014-05-31T00:00:00\",\"2014-06-30T00:00:00\",\"2014-07-31T00:00:00\",\"2014-08-31T00:00:00\",\"2014-09-30T00:00:00\",\"2014-10-31T00:00:00\",\"2014-11-30T00:00:00\",\"2014-12-31T00:00:00\",\"2015-01-31T00:00:00\",\"2015-02-28T00:00:00\",\"2015-03-31T00:00:00\",\"2015-04-30T00:00:00\",\"2015-05-31T00:00:00\",\"2015-06-30T00:00:00\",\"2015-07-31T00:00:00\",\"2015-08-31T00:00:00\",\"2015-09-30T00:00:00\",\"2015-10-31T00:00:00\",\"2015-11-30T00:00:00\",\"2015-12-31T00:00:00\",\"2016-01-31T00:00:00\",\"2016-02-29T00:00:00\",\"2016-03-31T00:00:00\",\"2016-04-30T00:00:00\",\"2016-05-31T00:00:00\",\"2016-06-30T00:00:00\",\"2016-07-31T00:00:00\",\"2016-08-31T00:00:00\",\"2016-09-30T00:00:00\",\"2016-10-31T00:00:00\",\"2016-11-30T00:00:00\",\"2016-12-31T00:00:00\",\"2017-01-31T00:00:00\",\"2017-02-28T00:00:00\",\"2017-03-31T00:00:00\",\"2017-04-30T00:00:00\",\"2017-05-31T00:00:00\",\"2017-06-30T00:00:00\",\"2017-07-31T00:00:00\",\"2017-08-31T00:00:00\",\"2017-09-30T00:00:00\",\"2017-10-31T00:00:00\",\"2017-11-30T00:00:00\",\"2017-12-31T00:00:00\",\"2018-01-31T00:00:00\",\"2018-02-28T00:00:00\",\"2018-03-31T00:00:00\",\"2018-04-30T00:00:00\",\"2018-05-31T00:00:00\",\"2018-06-30T00:00:00\",\"2018-07-31T00:00:00\",\"2018-08-31T00:00:00\",\"2018-09-30T00:00:00\",\"2018-10-31T00:00:00\",\"2018-11-30T00:00:00\",\"2018-12-31T00:00:00\",\"2019-01-31T00:00:00\",\"2019-02-28T00:00:00\",\"2019-03-31T00:00:00\",\"2019-04-30T00:00:00\",\"2019-05-31T00:00:00\",\"2019-06-30T00:00:00\",\"2019-07-31T00:00:00\",\"2019-08-31T00:00:00\",\"2019-09-30T00:00:00\",\"2019-10-31T00:00:00\",\"2019-11-30T00:00:00\",\"2019-12-31T00:00:00\",\"2020-01-31T00:00:00\",\"2020-02-29T00:00:00\",\"2020-03-31T00:00:00\",\"2020-04-30T00:00:00\",\"2020-05-31T00:00:00\",\"2020-06-30T00:00:00\",\"2020-07-31T00:00:00\",\"2020-08-31T00:00:00\",\"2020-09-30T00:00:00\",\"2020-10-31T00:00:00\",\"2020-11-30T00:00:00\",\"2020-12-31T00:00:00\",\"2021-01-31T00:00:00\",\"2021-02-28T00:00:00\",\"2021-03-31T00:00:00\",\"2021-04-30T00:00:00\",\"2021-05-31T00:00:00\",\"2021-06-30T00:00:00\",\"2021-07-31T00:00:00\",\"2021-08-31T00:00:00\",\"2021-09-30T00:00:00\"],\"xaxis\":\"x\",\"y\":[1.0,1.031945053815274,1.0916843556354894,1.1207124371232828,1.1083497698562557,1.1406195120307483,1.163648040615598,1.2280184633856794,1.2378325966235517,1.2798125528323159,1.3036807804615809,1.3462085986427608,1.3159856638250518,1.386870874761242,1.3488961954600438,1.3959426779967408,1.4575950079694084,1.4993442444544107,1.5430934379255132,1.4847847514978372,1.5723761458057761,1.5701849303834001,1.585581550516895,1.6301947888997668,1.6656086508111363,1.6635962124219805,1.7465333713392743,1.682384864552396,1.7344784303279435,1.7616629030450566,1.7502990090629635,1.6907575426108725,1.8092769655581342,1.7799504120941902,1.8523545847533531,1.8428560108633913,1.8050070368279112,1.8038593298895822,1.6949458130275954,1.5766777207919003,1.7220243378350335,1.713757584425435,1.6473423166907506,1.5701229582575762,1.6153037280221922,1.7626951407503741,1.8094754416299383,1.8157595678036114,1.8126425357832008,1.9275064917828468,1.9402686962992424,1.934565602486666,1.8906604684346173,1.9726389696915927,1.9754152129046,2.053656873627853,2.1108195816335225,2.1126163940771923,2.125645776658634,2.0956744143943173,2.145715414408942,2.1811830533777865,2.1235307423161696,2.2143946557112337,2.2078309455026366,2.322555035698887,2.39239625508323,2.5151264887035567,2.4104238884798748,2.394558943966522,2.465947599406333,2.4957717179484935,2.5302831267181753,2.629675809654347,2.680228459861679,2.6881128659587037,2.537887580076513,2.6074093377375953,2.2918823470098153,2.5771284307200815,2.6588101988009782,2.682398486983629,2.821608765435232,2.5865488048746057,2.825839067529275,2.8629759176979173,2.6728742812322794,2.8088948519360857,2.8809415708599206,3.009503837343378,3.1428903308518215,3.1149279010626922,2.8312791216530884,2.1033155561442824,2.4993440173415182,2.5838229088314395,2.650235797215816,2.7844378830520964,2.951441224415072,2.850091467491454,2.8325914100811573,3.4683324137508773,3.6262133874882783,3.6340950507540053,3.903748395422285,4.142722631754325,4.358493056571935,4.426495140937857,4.4861567772539575,4.491754719703841,4.510482759567235,4.45759423475247],\"yaxis\":\"y\"},{\"hovertemplate\":\"variable=benchmark<br>date=%{x}<br>value=%{y}<extra></extra>\",\"legendgroup\":\"benchmark\",\"line\":{\"color\":\"#EF553B\",\"dash\":\"solid\"},\"mode\":\"lines\",\"name\":\"benchmark\",\"orientation\":\"v\",\"showlegend\":true,\"type\":\"scatter\",\"x\":[\"2012-06-30T00:00:00\",\"2012-07-31T00:00:00\",\"2012-08-31T00:00:00\",\"2012-09-30T00:00:00\",\"2012-10-31T00:00:00\",\"2012-11-30T00:00:00\",\"2012-12-31T00:00:00\",\"2013-01-31T00:00:00\",\"2013-02-28T00:00:00\",\"2013-03-31T00:00:00\",\"2013-04-30T00:00:00\",\"2013-05-31T00:00:00\",\"2013-06-30T00:00:00\",\"2013-07-31T00:00:00\",\"2013-08-31T00:00:00\",\"2013-09-30T00:00:00\",\"2013-10-31T00:00:00\",\"2013-11-30T00:00:00\",\"2013-12-31T00:00:00\",\"2014-01-31T00:00:00\",\"2014-02-28T00:00:00\",\"2014-03-31T00:00:00\",\"2014-04-30T00:00:00\",\"2014-05-31T00:00:00\",\"2014-06-30T00:00:00\",\"2014-07-31T00:00:00\",\"2014-08-31T00:00:00\",\"2014-09-30T00:00:00\",\"2014-10-31T00:00:00\",\"2014-11-30T00:00:00\",\"2014-12-31T00:00:00\",\"2015-01-31T00:00:00\",\"2015-02-28T00:00:00\",\"2015-03-31T00:00:00\",\"2015-04-30T00:00:00\",\"2015-05-31T00:00:00\",\"2015-06-30T00:00:00\",\"2015-07-31T00:00:00\",\"2015-08-31T00:00:00\",\"2015-09-30T00:00:00\",\"2015-10-31T00:00:00\",\"2015-11-30T00:00:00\",\"2015-12-31T00:00:00\",\"2016-01-31T00:00:00\",\"2016-02-29T00:00:00\",\"2016-03-31T00:00:00\",\"2016-04-30T00:00:00\",\"2016-05-31T00:00:00\",\"2016-06-30T00:00:00\",\"2016-07-31T00:00:00\",\"2016-08-31T00:00:00\",\"2016-09-30T00:00:00\",\"2016-10-31T00:00:00\",\"2016-11-30T00:00:00\",\"2016-12-31T00:00:00\",\"2017-01-31T00:00:00\",\"2017-02-28T00:00:00\",\"2017-03-31T00:00:00\",\"2017-04-30T00:00:00\",\"2017-05-31T00:00:00\",\"2017-06-30T00:00:00\",\"2017-07-31T00:00:00\",\"2017-08-31T00:00:00\",\"2017-09-30T00:00:00\",\"2017-10-31T00:00:00\",\"2017-11-30T00:00:00\",\"2017-12-31T00:00:00\",\"2018-01-31T00:00:00\",\"2018-02-28T00:00:00\",\"2018-03-31T00:00:00\",\"2018-04-30T00:00:00\",\"2018-05-31T00:00:00\",\"2018-06-30T00:00:00\",\"2018-07-31T00:00:00\",\"2018-08-31T00:00:00\",\"2018-09-30T00:00:00\",\"2018-10-31T00:00:00\",\"2018-11-30T00:00:00\",\"2018-12-31T00:00:00\",\"2019-01-31T00:00:00\",\"2019-02-28T00:00:00\",\"2019-03-31T00:00:00\",\"2019-04-30T00:00:00\",\"2019-05-31T00:00:00\",\"2019-06-30T00:00:00\",\"2019-07-31T00:00:00\",\"2019-08-31T00:00:00\",\"2019-09-30T00:00:00\",\"2019-10-31T00:00:00\",\"2019-11-30T00:00:00\",\"2019-12-31T00:00:00\",\"2020-01-31T00:00:00\",\"2020-02-29T00:00:00\",\"2020-03-31T00:00:00\",\"2020-04-30T00:00:00\",\"2020-05-31T00:00:00\",\"2020-06-30T00:00:00\",\"2020-07-31T00:00:00\",\"2020-08-31T00:00:00\",\"2020-09-30T00:00:00\",\"2020-10-31T00:00:00\",\"2020-11-30T00:00:00\",\"2020-12-31T00:00:00\",\"2021-01-31T00:00:00\",\"2021-02-28T00:00:00\",\"2021-03-31T00:00:00\",\"2021-04-30T00:00:00\",\"2021-05-31T00:00:00\",\"2021-06-30T00:00:00\",\"2021-07-31T00:00:00\",\"2021-08-31T00:00:00\",\"2021-09-30T00:00:00\"],\"xaxis\":\"x\",\"y\":[1.0,1.0125976390438713,1.0326099723967814,1.0576364010101604,1.0367064074704881,1.0396576026311155,1.0470062254067072,1.099804721912257,1.111969225347977,1.151986550772303,1.1728211076525519,1.197172138368474,1.1792153638339111,1.2375418453045168,1.1988092441416578,1.234473189639984,1.2895254595642223,1.3256959534856412,1.3569331062430263,1.3086494978563463,1.3650745874199808,1.3745374992658723,1.3830607270805197,1.4121468843601344,1.4390600223174963,1.4173591942209438,1.4707303106830332,1.4479136077993777,1.4815073119163684,1.5178539965936457,1.5114964468197571,1.4645783167909792,1.544972690432842,1.5180962588829505,1.5310315968755506,1.5470943207846362,1.5145871263287722,1.5444881658542318,1.4478328537029426,1.4095480707112236,1.526516708756681,1.527287543313561,1.5005138897045873,1.424384800610795,1.418504434134023,1.5121131144652613,1.51619486697598,1.539437364186293,1.5408322076701715,1.5957009455570568,1.5937555059611208,1.5917880425207027,1.5608665648675637,1.6142083162036767,1.6435881247430553,1.672982615845422,1.7352146590708875,1.7345392611734305,1.750308333822752,1.770570270746462,1.779093498561109,1.813516767486933,1.8145078404886361,1.849533094496976,1.8905708580489817,1.9436630058142956,1.9627723615434318,2.073038409584778,1.9922989957126924,1.9387370059317561,1.9440080460445186,1.986014858753745,1.9956319375110128,2.0675177659012167,2.1300875080754107,2.1392347448170566,1.9907646678804263,2.0263184941563415,1.8403491513478605,1.9851559288189358,2.0441724907499865,2.080812826687028,2.1626167263757576,2.020364714864628,2.15962882480766,2.187980853937865,2.1483966641216905,2.1853086274740128,2.2299583015211146,2.3058818347330723,2.371806542550069,2.367945028484174,2.1687760615493055,1.8974202736829757,2.138096846185472,2.2349136665296316,2.2760101603335903,2.40142127209726,2.569676102660483,2.4688729664650286,2.4005696834439445,2.6587405297468756,2.757436718153524,2.7267281376637134,2.7978724966230137,2.9166103835085484,3.069514594467614,3.086355494215074,3.1549157220884516,3.2266840899747504,3.3202266987725424,3.25438274505198],\"yaxis\":\"y\"}],                        {\"legend\":{\"title\":{\"text\":\"variable\"},\"tracegroupgap\":0},\"margin\":{\"t\":60},\"shapes\":[{\"line\":{\"dash\":\"dash\"},\"type\":\"line\",\"x0\":\"2020-09-30T00:00:00\",\"x1\":\"2020-09-30T00:00:00\",\"xref\":\"x\",\"y0\":0,\"y1\":1,\"yref\":\"y domain\"}],\"template\":{\"data\":{\"bar\":[{\"error_x\":{\"color\":\"#2a3f5f\"},\"error_y\":{\"color\":\"#2a3f5f\"},\"marker\":{\"line\":{\"color\":\"#E5ECF6\",\"width\":0.5},\"pattern\":{\"fillmode\":\"overlay\",\"size\":10,\"solidity\":0.2}},\"type\":\"bar\"}],\"barpolar\":[{\"marker\":{\"line\":{\"color\":\"#E5ECF6\",\"width\":0.5},\"pattern\":{\"fillmode\":\"overlay\",\"size\":10,\"solidity\":0.2}},\"type\":\"barpolar\"}],\"carpet\":[{\"aaxis\":{\"endlinecolor\":\"#2a3f5f\",\"gridcolor\":\"white\",\"linecolor\":\"white\",\"minorgridcolor\":\"white\",\"startlinecolor\":\"#2a3f5f\"},\"baxis\":{\"endlinecolor\":\"#2a3f5f\",\"gridcolor\":\"white\",\"linecolor\":\"white\",\"minorgridcolor\":\"white\",\"startlinecolor\":\"#2a3f5f\"},\"type\":\"carpet\"}],\"choropleth\":[{\"colorbar\":{\"outlinewidth\":0,\"ticks\":\"\"},\"type\":\"choropleth\"}],\"contour\":[{\"colorbar\":{\"outlinewidth\":0,\"ticks\":\"\"},\"colorscale\":[[0.0,\"#0d0887\"],[0.1111111111111111,\"#46039f\"],[0.2222222222222222,\"#7201a8\"],[0.3333333333333333,\"#9c179e\"],[0.4444444444444444,\"#bd3786\"],[0.5555555555555556,\"#d8576b\"],[0.6666666666666666,\"#ed7953\"],[0.7777777777777778,\"#fb9f3a\"],[0.8888888888888888,\"#fdca26\"],[1.0,\"#f0f921\"]],\"type\":\"contour\"}],\"contourcarpet\":[{\"colorbar\":{\"outlinewidth\":0,\"ticks\":\"\"},\"type\":\"contourcarpet\"}],\"heatmap\":[{\"colorbar\":{\"outlinewidth\":0,\"ticks\":\"\"},\"colorscale\":[[0.0,\"#0d0887\"],[0.1111111111111111,\"#46039f\"],[0.2222222222222222,\"#7201a8\"],[0.3333333333333333,\"#9c179e\"],[0.4444444444444444,\"#bd3786\"],[0.5555555555555556,\"#d8576b\"],[0.6666666666666666,\"#ed7953\"],[0.7777777777777778,\"#fb9f3a\"],[0.8888888888888888,\"#fdca26\"],[1.0,\"#f0f921\"]],\"type\":\"heatmap\"}],\"heatmapgl\":[{\"colorbar\":{\"outlinewidth\":0,\"ticks\":\"\"},\"colorscale\":[[0.0,\"#0d0887\"],[0.1111111111111111,\"#46039f\"],[0.2222222222222222,\"#7201a8\"],[0.3333333333333333,\"#9c179e\"],[0.4444444444444444,\"#bd3786\"],[0.5555555555555556,\"#d8576b\"],[0.6666666666666666,\"#ed7953\"],[0.7777777777777778,\"#fb9f3a\"],[0.8888888888888888,\"#fdca26\"],[1.0,\"#f0f921\"]],\"type\":\"heatmapgl\"}],\"histogram\":[{\"marker\":{\"pattern\":{\"fillmode\":\"overlay\",\"size\":10,\"solidity\":0.2}},\"type\":\"histogram\"}],\"histogram2d\":[{\"colorbar\":{\"outlinewidth\":0,\"ticks\":\"\"},\"colorscale\":[[0.0,\"#0d0887\"],[0.1111111111111111,\"#46039f\"],[0.2222222222222222,\"#7201a8\"],[0.3333333333333333,\"#9c179e\"],[0.4444444444444444,\"#bd3786\"],[0.5555555555555556,\"#d8576b\"],[0.6666666666666666,\"#ed7953\"],[0.7777777777777778,\"#fb9f3a\"],[0.8888888888888888,\"#fdca26\"],[1.0,\"#f0f921\"]],\"type\":\"histogram2d\"}],\"histogram2dcontour\":[{\"colorbar\":{\"outlinewidth\":0,\"ticks\":\"\"},\"colorscale\":[[0.0,\"#0d0887\"],[0.1111111111111111,\"#46039f\"],[0.2222222222222222,\"#7201a8\"],[0.3333333333333333,\"#9c179e\"],[0.4444444444444444,\"#bd3786\"],[0.5555555555555556,\"#d8576b\"],[0.6666666666666666,\"#ed7953\"],[0.7777777777777778,\"#fb9f3a\"],[0.8888888888888888,\"#fdca26\"],[1.0,\"#f0f921\"]],\"type\":\"histogram2dcontour\"}],\"mesh3d\":[{\"colorbar\":{\"outlinewidth\":0,\"ticks\":\"\"},\"type\":\"mesh3d\"}],\"parcoords\":[{\"line\":{\"colorbar\":{\"outlinewidth\":0,\"ticks\":\"\"}},\"type\":\"parcoords\"}],\"pie\":[{\"automargin\":true,\"type\":\"pie\"}],\"scatter\":[{\"marker\":{\"colorbar\":{\"outlinewidth\":0,\"ticks\":\"\"}},\"type\":\"scatter\"}],\"scatter3d\":[{\"line\":{\"colorbar\":{\"outlinewidth\":0,\"ticks\":\"\"}},\"marker\":{\"colorbar\":{\"outlinewidth\":0,\"ticks\":\"\"}},\"type\":\"scatter3d\"}],\"scattercarpet\":[{\"marker\":{\"colorbar\":{\"outlinewidth\":0,\"ticks\":\"\"}},\"type\":\"scattercarpet\"}],\"scattergeo\":[{\"marker\":{\"colorbar\":{\"outlinewidth\":0,\"ticks\":\"\"}},\"type\":\"scattergeo\"}],\"scattergl\":[{\"marker\":{\"colorbar\":{\"outlinewidth\":0,\"ticks\":\"\"}},\"type\":\"scattergl\"}],\"scattermapbox\":[{\"marker\":{\"colorbar\":{\"outlinewidth\":0,\"ticks\":\"\"}},\"type\":\"scattermapbox\"}],\"scatterpolar\":[{\"marker\":{\"colorbar\":{\"outlinewidth\":0,\"ticks\":\"\"}},\"type\":\"scatterpolar\"}],\"scatterpolargl\":[{\"marker\":{\"colorbar\":{\"outlinewidth\":0,\"ticks\":\"\"}},\"type\":\"scatterpolargl\"}],\"scatterternary\":[{\"marker\":{\"colorbar\":{\"outlinewidth\":0,\"ticks\":\"\"}},\"type\":\"scatterternary\"}],\"surface\":[{\"colorbar\":{\"outlinewidth\":0,\"ticks\":\"\"},\"colorscale\":[[0.0,\"#0d0887\"],[0.1111111111111111,\"#46039f\"],[0.2222222222222222,\"#7201a8\"],[0.3333333333333333,\"#9c179e\"],[0.4444444444444444,\"#bd3786\"],[0.5555555555555556,\"#d8576b\"],[0.6666666666666666,\"#ed7953\"],[0.7777777777777778,\"#fb9f3a\"],[0.8888888888888888,\"#fdca26\"],[1.0,\"#f0f921\"]],\"type\":\"surface\"}],\"table\":[{\"cells\":{\"fill\":{\"color\":\"#EBF0F8\"},\"line\":{\"color\":\"white\"}},\"header\":{\"fill\":{\"color\":\"#C8D4E3\"},\"line\":{\"color\":\"white\"}},\"type\":\"table\"}]},\"layout\":{\"annotationdefaults\":{\"arrowcolor\":\"#2a3f5f\",\"arrowhead\":0,\"arrowwidth\":1},\"autotypenumbers\":\"strict\",\"coloraxis\":{\"colorbar\":{\"outlinewidth\":0,\"ticks\":\"\"}},\"colorscale\":{\"diverging\":[[0,\"#8e0152\"],[0.1,\"#c51b7d\"],[0.2,\"#de77ae\"],[0.3,\"#f1b6da\"],[0.4,\"#fde0ef\"],[0.5,\"#f7f7f7\"],[0.6,\"#e6f5d0\"],[0.7,\"#b8e186\"],[0.8,\"#7fbc41\"],[0.9,\"#4d9221\"],[1,\"#276419\"]],\"sequential\":[[0.0,\"#0d0887\"],[0.1111111111111111,\"#46039f\"],[0.2222222222222222,\"#7201a8\"],[0.3333333333333333,\"#9c179e\"],[0.4444444444444444,\"#bd3786\"],[0.5555555555555556,\"#d8576b\"],[0.6666666666666666,\"#ed7953\"],[0.7777777777777778,\"#fb9f3a\"],[0.8888888888888888,\"#fdca26\"],[1.0,\"#f0f921\"]],\"sequentialminus\":[[0.0,\"#0d0887\"],[0.1111111111111111,\"#46039f\"],[0.2222222222222222,\"#7201a8\"],[0.3333333333333333,\"#9c179e\"],[0.4444444444444444,\"#bd3786\"],[0.5555555555555556,\"#d8576b\"],[0.6666666666666666,\"#ed7953\"],[0.7777777777777778,\"#fb9f3a\"],[0.8888888888888888,\"#fdca26\"],[1.0,\"#f0f921\"]]},\"colorway\":[\"#636efa\",\"#EF553B\",\"#00cc96\",\"#ab63fa\",\"#FFA15A\",\"#19d3f3\",\"#FF6692\",\"#B6E880\",\"#FF97FF\",\"#FECB52\"],\"font\":{\"color\":\"#2a3f5f\"},\"geo\":{\"bgcolor\":\"white\",\"lakecolor\":\"white\",\"landcolor\":\"#E5ECF6\",\"showlakes\":true,\"showland\":true,\"subunitcolor\":\"white\"},\"hoverlabel\":{\"align\":\"left\"},\"hovermode\":\"closest\",\"mapbox\":{\"style\":\"light\"},\"paper_bgcolor\":\"white\",\"plot_bgcolor\":\"#E5ECF6\",\"polar\":{\"angularaxis\":{\"gridcolor\":\"white\",\"linecolor\":\"white\",\"ticks\":\"\"},\"bgcolor\":\"#E5ECF6\",\"radialaxis\":{\"gridcolor\":\"white\",\"linecolor\":\"white\",\"ticks\":\"\"}},\"scene\":{\"xaxis\":{\"backgroundcolor\":\"#E5ECF6\",\"gridcolor\":\"white\",\"gridwidth\":2,\"linecolor\":\"white\",\"showbackground\":true,\"ticks\":\"\",\"zerolinecolor\":\"white\"},\"yaxis\":{\"backgroundcolor\":\"#E5ECF6\",\"gridcolor\":\"white\",\"gridwidth\":2,\"linecolor\":\"white\",\"showbackground\":true,\"ticks\":\"\",\"zerolinecolor\":\"white\"},\"zaxis\":{\"backgroundcolor\":\"#E5ECF6\",\"gridcolor\":\"white\",\"gridwidth\":2,\"linecolor\":\"white\",\"showbackground\":true,\"ticks\":\"\",\"zerolinecolor\":\"white\"}},\"shapedefaults\":{\"line\":{\"color\":\"#2a3f5f\"}},\"ternary\":{\"aaxis\":{\"gridcolor\":\"white\",\"linecolor\":\"white\",\"ticks\":\"\"},\"baxis\":{\"gridcolor\":\"white\",\"linecolor\":\"white\",\"ticks\":\"\"},\"bgcolor\":\"#E5ECF6\",\"caxis\":{\"gridcolor\":\"white\",\"linecolor\":\"white\",\"ticks\":\"\"}},\"title\":{\"x\":0.05},\"xaxis\":{\"automargin\":true,\"gridcolor\":\"white\",\"linecolor\":\"white\",\"ticks\":\"\",\"title\":{\"standoff\":15},\"zerolinecolor\":\"white\",\"zerolinewidth\":2},\"yaxis\":{\"automargin\":true,\"gridcolor\":\"white\",\"linecolor\":\"white\",\"ticks\":\"\",\"title\":{\"standoff\":15},\"zerolinecolor\":\"white\",\"zerolinewidth\":2}}},\"xaxis\":{\"anchor\":\"y\",\"domain\":[0.0,1.0],\"title\":{\"text\":\"date\"}},\"yaxis\":{\"anchor\":\"x\",\"domain\":[0.0,1.0],\"title\":{\"text\":\"value\"}}},                        {\"responsive\": true}                    ).then(function(){\n",
       "                            \n",
       "var gd = document.getElementById('93175dd9-c999-4be9-9577-6b9f3fc6c7d9');\n",
       "var x = new MutationObserver(function (mutations, observer) {{\n",
       "        var display = window.getComputedStyle(gd).display;\n",
       "        if (!display || display === 'none') {{\n",
       "            console.log([gd, 'removed!']);\n",
       "            Plotly.purge(gd);\n",
       "            observer.disconnect();\n",
       "        }}\n",
       "}});\n",
       "\n",
       "// Listen for the removal of the full notebook cells\n",
       "var notebookContainer = gd.closest('#notebook-container');\n",
       "if (notebookContainer) {{\n",
       "    x.observe(notebookContainer, {childList: true});\n",
       "}}\n",
       "\n",
       "// Listen for the clearing of the current output cell\n",
       "var outputEl = gd.closest('.output');\n",
       "if (outputEl) {{\n",
       "    x.observe(outputEl, {childList: true});\n",
       "}}\n",
       "\n",
       "                        })                };                });            </script>        </div>"
      ]
     },
     "metadata": {},
     "output_type": "display_data"
    }
   ],
   "source": [
    "portfolio = df_portfolio_weights_after_rebalancing.copy()\n",
    "portfolio = portfolio.join(benchmark_df, how='left')\n",
    "wealth = (portfolio['weights']*portfolio['forward_rets'].values).groupby(level=0).sum()\n",
    "wealth = wealth.shift(1)\n",
    "start_date = wealth.index[0]\n",
    "wealth.loc[start_date] = 0\n",
    "\n",
    "compare_df = pd.DataFrame(index=wealth.index)\n",
    "compare_df['portfolio'] = (wealth+1).cumprod()\n",
    "benchmark_wealth = (spx['Close'].pct_change().loc[wealth.index])\n",
    "benchmark_wealth.loc[start_date] = 0\n",
    "compare_df['benchmark'] = (benchmark_wealth+1).cumprod()\n",
    "\n",
    "final_X_test_date = X_test.index.get_level_values(0).unique()[-1]\n",
    "fig = px.line(compare_df)\n",
    "fig.add_vline(x=final_X_test_date, line_dash='dash')\n",
    "fig.show()"
   ]
  },
  {
   "cell_type": "code",
   "execution_count": 150,
   "id": "d35b9cf2",
   "metadata": {},
   "outputs": [
    {
     "data": {
      "application/vnd.plotly.v1+json": {
       "config": {
        "plotlyServerURL": "https://plot.ly"
       },
       "data": [
        {
         "hovertemplate": "variable=weights<br>date=%{x}<br>value=%{y}<extra></extra>",
         "legendgroup": "weights",
         "line": {
          "color": "#636efa",
          "dash": "solid"
         },
         "mode": "lines",
         "name": "weights",
         "orientation": "v",
         "showlegend": true,
         "type": "scatter",
         "x": [
          "2012-06-30T00:00:00",
          "2012-07-31T00:00:00",
          "2012-08-31T00:00:00",
          "2012-09-30T00:00:00",
          "2012-10-31T00:00:00",
          "2012-11-30T00:00:00",
          "2012-12-31T00:00:00",
          "2013-01-31T00:00:00",
          "2013-02-28T00:00:00",
          "2013-03-31T00:00:00",
          "2013-04-30T00:00:00",
          "2013-05-31T00:00:00",
          "2013-06-30T00:00:00",
          "2013-07-31T00:00:00",
          "2013-08-31T00:00:00",
          "2013-09-30T00:00:00",
          "2013-10-31T00:00:00",
          "2013-11-30T00:00:00",
          "2013-12-31T00:00:00",
          "2014-01-31T00:00:00",
          "2014-02-28T00:00:00",
          "2014-03-31T00:00:00",
          "2014-04-30T00:00:00",
          "2014-05-31T00:00:00",
          "2014-06-30T00:00:00",
          "2014-07-31T00:00:00",
          "2014-08-31T00:00:00",
          "2014-09-30T00:00:00",
          "2014-10-31T00:00:00",
          "2014-11-30T00:00:00",
          "2014-12-31T00:00:00",
          "2015-01-31T00:00:00",
          "2015-02-28T00:00:00",
          "2015-03-31T00:00:00",
          "2015-04-30T00:00:00",
          "2015-05-31T00:00:00",
          "2015-06-30T00:00:00",
          "2015-07-31T00:00:00",
          "2015-08-31T00:00:00",
          "2015-09-30T00:00:00",
          "2015-10-31T00:00:00",
          "2015-11-30T00:00:00",
          "2015-12-31T00:00:00",
          "2016-01-31T00:00:00",
          "2016-02-29T00:00:00",
          "2016-03-31T00:00:00",
          "2016-04-30T00:00:00",
          "2016-05-31T00:00:00",
          "2016-06-30T00:00:00",
          "2016-07-31T00:00:00",
          "2016-08-31T00:00:00",
          "2016-09-30T00:00:00",
          "2016-10-31T00:00:00",
          "2016-11-30T00:00:00",
          "2016-12-31T00:00:00",
          "2017-01-31T00:00:00",
          "2017-02-28T00:00:00",
          "2017-03-31T00:00:00",
          "2017-04-30T00:00:00",
          "2017-05-31T00:00:00",
          "2017-06-30T00:00:00",
          "2017-07-31T00:00:00",
          "2017-08-31T00:00:00",
          "2017-09-30T00:00:00",
          "2017-10-31T00:00:00",
          "2017-11-30T00:00:00",
          "2017-12-31T00:00:00",
          "2018-01-31T00:00:00",
          "2018-02-28T00:00:00",
          "2018-03-31T00:00:00",
          "2018-04-30T00:00:00",
          "2018-05-31T00:00:00",
          "2018-06-30T00:00:00",
          "2018-07-31T00:00:00",
          "2018-08-31T00:00:00",
          "2018-09-30T00:00:00",
          "2018-10-31T00:00:00",
          "2018-11-30T00:00:00",
          "2018-12-31T00:00:00",
          "2019-01-31T00:00:00",
          "2019-02-28T00:00:00",
          "2019-03-31T00:00:00",
          "2019-04-30T00:00:00",
          "2019-05-31T00:00:00",
          "2019-06-30T00:00:00",
          "2019-07-31T00:00:00",
          "2019-08-31T00:00:00",
          "2019-09-30T00:00:00",
          "2019-10-31T00:00:00",
          "2019-11-30T00:00:00",
          "2019-12-31T00:00:00",
          "2020-01-31T00:00:00",
          "2020-02-29T00:00:00",
          "2020-03-31T00:00:00",
          "2020-04-30T00:00:00",
          "2020-05-31T00:00:00",
          "2020-06-30T00:00:00",
          "2020-07-31T00:00:00",
          "2020-08-31T00:00:00",
          "2020-09-30T00:00:00",
          "2020-10-31T00:00:00",
          "2020-11-30T00:00:00",
          "2020-12-31T00:00:00",
          "2021-01-31T00:00:00",
          "2021-02-28T00:00:00",
          "2021-03-31T00:00:00",
          "2021-04-30T00:00:00",
          "2021-05-31T00:00:00",
          "2021-06-30T00:00:00",
          "2021-07-31T00:00:00",
          "2021-08-31T00:00:00"
         ],
         "xaxis": "x",
         "y": [
          93,
          100,
          100,
          92,
          100,
          100,
          91,
          100,
          100,
          89,
          100,
          100,
          91,
          100,
          100,
          88,
          100,
          100,
          91,
          100,
          100,
          91,
          100,
          100,
          86,
          100,
          100,
          89,
          100,
          100,
          87,
          100,
          100,
          87,
          100,
          100,
          85,
          100,
          100,
          89,
          100,
          100,
          93,
          100,
          100,
          88,
          100,
          100,
          93,
          100,
          100,
          88,
          100,
          100,
          87,
          100,
          100,
          85,
          100,
          100,
          84,
          100,
          100,
          85,
          100,
          100,
          85,
          100,
          100,
          82,
          100,
          100,
          83,
          100,
          100,
          81,
          100,
          100,
          85,
          100,
          100,
          79,
          100,
          100,
          80,
          100,
          100,
          84,
          100,
          100,
          80,
          100,
          100,
          88,
          100,
          100,
          82,
          100,
          100,
          83,
          100,
          100,
          100,
          100,
          100,
          100,
          100,
          100,
          100,
          100,
          100
         ],
         "yaxis": "y"
        }
       ],
       "layout": {
        "legend": {
         "title": {
          "text": "variable"
         },
         "tracegroupgap": 0
        },
        "margin": {
         "t": 60
        },
        "template": {
         "data": {
          "bar": [
           {
            "error_x": {
             "color": "#2a3f5f"
            },
            "error_y": {
             "color": "#2a3f5f"
            },
            "marker": {
             "line": {
              "color": "#E5ECF6",
              "width": 0.5
             },
             "pattern": {
              "fillmode": "overlay",
              "size": 10,
              "solidity": 0.2
             }
            },
            "type": "bar"
           }
          ],
          "barpolar": [
           {
            "marker": {
             "line": {
              "color": "#E5ECF6",
              "width": 0.5
             },
             "pattern": {
              "fillmode": "overlay",
              "size": 10,
              "solidity": 0.2
             }
            },
            "type": "barpolar"
           }
          ],
          "carpet": [
           {
            "aaxis": {
             "endlinecolor": "#2a3f5f",
             "gridcolor": "white",
             "linecolor": "white",
             "minorgridcolor": "white",
             "startlinecolor": "#2a3f5f"
            },
            "baxis": {
             "endlinecolor": "#2a3f5f",
             "gridcolor": "white",
             "linecolor": "white",
             "minorgridcolor": "white",
             "startlinecolor": "#2a3f5f"
            },
            "type": "carpet"
           }
          ],
          "choropleth": [
           {
            "colorbar": {
             "outlinewidth": 0,
             "ticks": ""
            },
            "type": "choropleth"
           }
          ],
          "contour": [
           {
            "colorbar": {
             "outlinewidth": 0,
             "ticks": ""
            },
            "colorscale": [
             [
              0,
              "#0d0887"
             ],
             [
              0.1111111111111111,
              "#46039f"
             ],
             [
              0.2222222222222222,
              "#7201a8"
             ],
             [
              0.3333333333333333,
              "#9c179e"
             ],
             [
              0.4444444444444444,
              "#bd3786"
             ],
             [
              0.5555555555555556,
              "#d8576b"
             ],
             [
              0.6666666666666666,
              "#ed7953"
             ],
             [
              0.7777777777777778,
              "#fb9f3a"
             ],
             [
              0.8888888888888888,
              "#fdca26"
             ],
             [
              1,
              "#f0f921"
             ]
            ],
            "type": "contour"
           }
          ],
          "contourcarpet": [
           {
            "colorbar": {
             "outlinewidth": 0,
             "ticks": ""
            },
            "type": "contourcarpet"
           }
          ],
          "heatmap": [
           {
            "colorbar": {
             "outlinewidth": 0,
             "ticks": ""
            },
            "colorscale": [
             [
              0,
              "#0d0887"
             ],
             [
              0.1111111111111111,
              "#46039f"
             ],
             [
              0.2222222222222222,
              "#7201a8"
             ],
             [
              0.3333333333333333,
              "#9c179e"
             ],
             [
              0.4444444444444444,
              "#bd3786"
             ],
             [
              0.5555555555555556,
              "#d8576b"
             ],
             [
              0.6666666666666666,
              "#ed7953"
             ],
             [
              0.7777777777777778,
              "#fb9f3a"
             ],
             [
              0.8888888888888888,
              "#fdca26"
             ],
             [
              1,
              "#f0f921"
             ]
            ],
            "type": "heatmap"
           }
          ],
          "heatmapgl": [
           {
            "colorbar": {
             "outlinewidth": 0,
             "ticks": ""
            },
            "colorscale": [
             [
              0,
              "#0d0887"
             ],
             [
              0.1111111111111111,
              "#46039f"
             ],
             [
              0.2222222222222222,
              "#7201a8"
             ],
             [
              0.3333333333333333,
              "#9c179e"
             ],
             [
              0.4444444444444444,
              "#bd3786"
             ],
             [
              0.5555555555555556,
              "#d8576b"
             ],
             [
              0.6666666666666666,
              "#ed7953"
             ],
             [
              0.7777777777777778,
              "#fb9f3a"
             ],
             [
              0.8888888888888888,
              "#fdca26"
             ],
             [
              1,
              "#f0f921"
             ]
            ],
            "type": "heatmapgl"
           }
          ],
          "histogram": [
           {
            "marker": {
             "pattern": {
              "fillmode": "overlay",
              "size": 10,
              "solidity": 0.2
             }
            },
            "type": "histogram"
           }
          ],
          "histogram2d": [
           {
            "colorbar": {
             "outlinewidth": 0,
             "ticks": ""
            },
            "colorscale": [
             [
              0,
              "#0d0887"
             ],
             [
              0.1111111111111111,
              "#46039f"
             ],
             [
              0.2222222222222222,
              "#7201a8"
             ],
             [
              0.3333333333333333,
              "#9c179e"
             ],
             [
              0.4444444444444444,
              "#bd3786"
             ],
             [
              0.5555555555555556,
              "#d8576b"
             ],
             [
              0.6666666666666666,
              "#ed7953"
             ],
             [
              0.7777777777777778,
              "#fb9f3a"
             ],
             [
              0.8888888888888888,
              "#fdca26"
             ],
             [
              1,
              "#f0f921"
             ]
            ],
            "type": "histogram2d"
           }
          ],
          "histogram2dcontour": [
           {
            "colorbar": {
             "outlinewidth": 0,
             "ticks": ""
            },
            "colorscale": [
             [
              0,
              "#0d0887"
             ],
             [
              0.1111111111111111,
              "#46039f"
             ],
             [
              0.2222222222222222,
              "#7201a8"
             ],
             [
              0.3333333333333333,
              "#9c179e"
             ],
             [
              0.4444444444444444,
              "#bd3786"
             ],
             [
              0.5555555555555556,
              "#d8576b"
             ],
             [
              0.6666666666666666,
              "#ed7953"
             ],
             [
              0.7777777777777778,
              "#fb9f3a"
             ],
             [
              0.8888888888888888,
              "#fdca26"
             ],
             [
              1,
              "#f0f921"
             ]
            ],
            "type": "histogram2dcontour"
           }
          ],
          "mesh3d": [
           {
            "colorbar": {
             "outlinewidth": 0,
             "ticks": ""
            },
            "type": "mesh3d"
           }
          ],
          "parcoords": [
           {
            "line": {
             "colorbar": {
              "outlinewidth": 0,
              "ticks": ""
             }
            },
            "type": "parcoords"
           }
          ],
          "pie": [
           {
            "automargin": true,
            "type": "pie"
           }
          ],
          "scatter": [
           {
            "marker": {
             "colorbar": {
              "outlinewidth": 0,
              "ticks": ""
             }
            },
            "type": "scatter"
           }
          ],
          "scatter3d": [
           {
            "line": {
             "colorbar": {
              "outlinewidth": 0,
              "ticks": ""
             }
            },
            "marker": {
             "colorbar": {
              "outlinewidth": 0,
              "ticks": ""
             }
            },
            "type": "scatter3d"
           }
          ],
          "scattercarpet": [
           {
            "marker": {
             "colorbar": {
              "outlinewidth": 0,
              "ticks": ""
             }
            },
            "type": "scattercarpet"
           }
          ],
          "scattergeo": [
           {
            "marker": {
             "colorbar": {
              "outlinewidth": 0,
              "ticks": ""
             }
            },
            "type": "scattergeo"
           }
          ],
          "scattergl": [
           {
            "marker": {
             "colorbar": {
              "outlinewidth": 0,
              "ticks": ""
             }
            },
            "type": "scattergl"
           }
          ],
          "scattermapbox": [
           {
            "marker": {
             "colorbar": {
              "outlinewidth": 0,
              "ticks": ""
             }
            },
            "type": "scattermapbox"
           }
          ],
          "scatterpolar": [
           {
            "marker": {
             "colorbar": {
              "outlinewidth": 0,
              "ticks": ""
             }
            },
            "type": "scatterpolar"
           }
          ],
          "scatterpolargl": [
           {
            "marker": {
             "colorbar": {
              "outlinewidth": 0,
              "ticks": ""
             }
            },
            "type": "scatterpolargl"
           }
          ],
          "scatterternary": [
           {
            "marker": {
             "colorbar": {
              "outlinewidth": 0,
              "ticks": ""
             }
            },
            "type": "scatterternary"
           }
          ],
          "surface": [
           {
            "colorbar": {
             "outlinewidth": 0,
             "ticks": ""
            },
            "colorscale": [
             [
              0,
              "#0d0887"
             ],
             [
              0.1111111111111111,
              "#46039f"
             ],
             [
              0.2222222222222222,
              "#7201a8"
             ],
             [
              0.3333333333333333,
              "#9c179e"
             ],
             [
              0.4444444444444444,
              "#bd3786"
             ],
             [
              0.5555555555555556,
              "#d8576b"
             ],
             [
              0.6666666666666666,
              "#ed7953"
             ],
             [
              0.7777777777777778,
              "#fb9f3a"
             ],
             [
              0.8888888888888888,
              "#fdca26"
             ],
             [
              1,
              "#f0f921"
             ]
            ],
            "type": "surface"
           }
          ],
          "table": [
           {
            "cells": {
             "fill": {
              "color": "#EBF0F8"
             },
             "line": {
              "color": "white"
             }
            },
            "header": {
             "fill": {
              "color": "#C8D4E3"
             },
             "line": {
              "color": "white"
             }
            },
            "type": "table"
           }
          ]
         },
         "layout": {
          "annotationdefaults": {
           "arrowcolor": "#2a3f5f",
           "arrowhead": 0,
           "arrowwidth": 1
          },
          "autotypenumbers": "strict",
          "coloraxis": {
           "colorbar": {
            "outlinewidth": 0,
            "ticks": ""
           }
          },
          "colorscale": {
           "diverging": [
            [
             0,
             "#8e0152"
            ],
            [
             0.1,
             "#c51b7d"
            ],
            [
             0.2,
             "#de77ae"
            ],
            [
             0.3,
             "#f1b6da"
            ],
            [
             0.4,
             "#fde0ef"
            ],
            [
             0.5,
             "#f7f7f7"
            ],
            [
             0.6,
             "#e6f5d0"
            ],
            [
             0.7,
             "#b8e186"
            ],
            [
             0.8,
             "#7fbc41"
            ],
            [
             0.9,
             "#4d9221"
            ],
            [
             1,
             "#276419"
            ]
           ],
           "sequential": [
            [
             0,
             "#0d0887"
            ],
            [
             0.1111111111111111,
             "#46039f"
            ],
            [
             0.2222222222222222,
             "#7201a8"
            ],
            [
             0.3333333333333333,
             "#9c179e"
            ],
            [
             0.4444444444444444,
             "#bd3786"
            ],
            [
             0.5555555555555556,
             "#d8576b"
            ],
            [
             0.6666666666666666,
             "#ed7953"
            ],
            [
             0.7777777777777778,
             "#fb9f3a"
            ],
            [
             0.8888888888888888,
             "#fdca26"
            ],
            [
             1,
             "#f0f921"
            ]
           ],
           "sequentialminus": [
            [
             0,
             "#0d0887"
            ],
            [
             0.1111111111111111,
             "#46039f"
            ],
            [
             0.2222222222222222,
             "#7201a8"
            ],
            [
             0.3333333333333333,
             "#9c179e"
            ],
            [
             0.4444444444444444,
             "#bd3786"
            ],
            [
             0.5555555555555556,
             "#d8576b"
            ],
            [
             0.6666666666666666,
             "#ed7953"
            ],
            [
             0.7777777777777778,
             "#fb9f3a"
            ],
            [
             0.8888888888888888,
             "#fdca26"
            ],
            [
             1,
             "#f0f921"
            ]
           ]
          },
          "colorway": [
           "#636efa",
           "#EF553B",
           "#00cc96",
           "#ab63fa",
           "#FFA15A",
           "#19d3f3",
           "#FF6692",
           "#B6E880",
           "#FF97FF",
           "#FECB52"
          ],
          "font": {
           "color": "#2a3f5f"
          },
          "geo": {
           "bgcolor": "white",
           "lakecolor": "white",
           "landcolor": "#E5ECF6",
           "showlakes": true,
           "showland": true,
           "subunitcolor": "white"
          },
          "hoverlabel": {
           "align": "left"
          },
          "hovermode": "closest",
          "mapbox": {
           "style": "light"
          },
          "paper_bgcolor": "white",
          "plot_bgcolor": "#E5ECF6",
          "polar": {
           "angularaxis": {
            "gridcolor": "white",
            "linecolor": "white",
            "ticks": ""
           },
           "bgcolor": "#E5ECF6",
           "radialaxis": {
            "gridcolor": "white",
            "linecolor": "white",
            "ticks": ""
           }
          },
          "scene": {
           "xaxis": {
            "backgroundcolor": "#E5ECF6",
            "gridcolor": "white",
            "gridwidth": 2,
            "linecolor": "white",
            "showbackground": true,
            "ticks": "",
            "zerolinecolor": "white"
           },
           "yaxis": {
            "backgroundcolor": "#E5ECF6",
            "gridcolor": "white",
            "gridwidth": 2,
            "linecolor": "white",
            "showbackground": true,
            "ticks": "",
            "zerolinecolor": "white"
           },
           "zaxis": {
            "backgroundcolor": "#E5ECF6",
            "gridcolor": "white",
            "gridwidth": 2,
            "linecolor": "white",
            "showbackground": true,
            "ticks": "",
            "zerolinecolor": "white"
           }
          },
          "shapedefaults": {
           "line": {
            "color": "#2a3f5f"
           }
          },
          "ternary": {
           "aaxis": {
            "gridcolor": "white",
            "linecolor": "white",
            "ticks": ""
           },
           "baxis": {
            "gridcolor": "white",
            "linecolor": "white",
            "ticks": ""
           },
           "bgcolor": "#E5ECF6",
           "caxis": {
            "gridcolor": "white",
            "linecolor": "white",
            "ticks": ""
           }
          },
          "title": {
           "x": 0.05
          },
          "xaxis": {
           "automargin": true,
           "gridcolor": "white",
           "linecolor": "white",
           "ticks": "",
           "title": {
            "standoff": 15
           },
           "zerolinecolor": "white",
           "zerolinewidth": 2
          },
          "yaxis": {
           "automargin": true,
           "gridcolor": "white",
           "linecolor": "white",
           "ticks": "",
           "title": {
            "standoff": 15
           },
           "zerolinecolor": "white",
           "zerolinewidth": 2
          }
         }
        },
        "xaxis": {
         "anchor": "y",
         "domain": [
          0,
          1
         ],
         "title": {
          "text": "date"
         }
        },
        "yaxis": {
         "anchor": "x",
         "domain": [
          0,
          1
         ],
         "title": {
          "text": "value"
         }
        }
       }
      },
      "text/html": [
       "<div>                            <div id=\"09577c94-5f73-4bec-bc1a-65171f66d542\" class=\"plotly-graph-div\" style=\"height:525px; width:100%;\"></div>            <script type=\"text/javascript\">                require([\"plotly\"], function(Plotly) {                    window.PLOTLYENV=window.PLOTLYENV || {};                                    if (document.getElementById(\"09577c94-5f73-4bec-bc1a-65171f66d542\")) {                    Plotly.newPlot(                        \"09577c94-5f73-4bec-bc1a-65171f66d542\",                        [{\"hovertemplate\":\"variable=weights<br>date=%{x}<br>value=%{y}<extra></extra>\",\"legendgroup\":\"weights\",\"line\":{\"color\":\"#636efa\",\"dash\":\"solid\"},\"mode\":\"lines\",\"name\":\"weights\",\"orientation\":\"v\",\"showlegend\":true,\"type\":\"scatter\",\"x\":[\"2012-06-30T00:00:00\",\"2012-07-31T00:00:00\",\"2012-08-31T00:00:00\",\"2012-09-30T00:00:00\",\"2012-10-31T00:00:00\",\"2012-11-30T00:00:00\",\"2012-12-31T00:00:00\",\"2013-01-31T00:00:00\",\"2013-02-28T00:00:00\",\"2013-03-31T00:00:00\",\"2013-04-30T00:00:00\",\"2013-05-31T00:00:00\",\"2013-06-30T00:00:00\",\"2013-07-31T00:00:00\",\"2013-08-31T00:00:00\",\"2013-09-30T00:00:00\",\"2013-10-31T00:00:00\",\"2013-11-30T00:00:00\",\"2013-12-31T00:00:00\",\"2014-01-31T00:00:00\",\"2014-02-28T00:00:00\",\"2014-03-31T00:00:00\",\"2014-04-30T00:00:00\",\"2014-05-31T00:00:00\",\"2014-06-30T00:00:00\",\"2014-07-31T00:00:00\",\"2014-08-31T00:00:00\",\"2014-09-30T00:00:00\",\"2014-10-31T00:00:00\",\"2014-11-30T00:00:00\",\"2014-12-31T00:00:00\",\"2015-01-31T00:00:00\",\"2015-02-28T00:00:00\",\"2015-03-31T00:00:00\",\"2015-04-30T00:00:00\",\"2015-05-31T00:00:00\",\"2015-06-30T00:00:00\",\"2015-07-31T00:00:00\",\"2015-08-31T00:00:00\",\"2015-09-30T00:00:00\",\"2015-10-31T00:00:00\",\"2015-11-30T00:00:00\",\"2015-12-31T00:00:00\",\"2016-01-31T00:00:00\",\"2016-02-29T00:00:00\",\"2016-03-31T00:00:00\",\"2016-04-30T00:00:00\",\"2016-05-31T00:00:00\",\"2016-06-30T00:00:00\",\"2016-07-31T00:00:00\",\"2016-08-31T00:00:00\",\"2016-09-30T00:00:00\",\"2016-10-31T00:00:00\",\"2016-11-30T00:00:00\",\"2016-12-31T00:00:00\",\"2017-01-31T00:00:00\",\"2017-02-28T00:00:00\",\"2017-03-31T00:00:00\",\"2017-04-30T00:00:00\",\"2017-05-31T00:00:00\",\"2017-06-30T00:00:00\",\"2017-07-31T00:00:00\",\"2017-08-31T00:00:00\",\"2017-09-30T00:00:00\",\"2017-10-31T00:00:00\",\"2017-11-30T00:00:00\",\"2017-12-31T00:00:00\",\"2018-01-31T00:00:00\",\"2018-02-28T00:00:00\",\"2018-03-31T00:00:00\",\"2018-04-30T00:00:00\",\"2018-05-31T00:00:00\",\"2018-06-30T00:00:00\",\"2018-07-31T00:00:00\",\"2018-08-31T00:00:00\",\"2018-09-30T00:00:00\",\"2018-10-31T00:00:00\",\"2018-11-30T00:00:00\",\"2018-12-31T00:00:00\",\"2019-01-31T00:00:00\",\"2019-02-28T00:00:00\",\"2019-03-31T00:00:00\",\"2019-04-30T00:00:00\",\"2019-05-31T00:00:00\",\"2019-06-30T00:00:00\",\"2019-07-31T00:00:00\",\"2019-08-31T00:00:00\",\"2019-09-30T00:00:00\",\"2019-10-31T00:00:00\",\"2019-11-30T00:00:00\",\"2019-12-31T00:00:00\",\"2020-01-31T00:00:00\",\"2020-02-29T00:00:00\",\"2020-03-31T00:00:00\",\"2020-04-30T00:00:00\",\"2020-05-31T00:00:00\",\"2020-06-30T00:00:00\",\"2020-07-31T00:00:00\",\"2020-08-31T00:00:00\",\"2020-09-30T00:00:00\",\"2020-10-31T00:00:00\",\"2020-11-30T00:00:00\",\"2020-12-31T00:00:00\",\"2021-01-31T00:00:00\",\"2021-02-28T00:00:00\",\"2021-03-31T00:00:00\",\"2021-04-30T00:00:00\",\"2021-05-31T00:00:00\",\"2021-06-30T00:00:00\",\"2021-07-31T00:00:00\",\"2021-08-31T00:00:00\"],\"xaxis\":\"x\",\"y\":[93,100,100,92,100,100,91,100,100,89,100,100,91,100,100,88,100,100,91,100,100,91,100,100,86,100,100,89,100,100,87,100,100,87,100,100,85,100,100,89,100,100,93,100,100,88,100,100,93,100,100,88,100,100,87,100,100,85,100,100,84,100,100,85,100,100,85,100,100,82,100,100,83,100,100,81,100,100,85,100,100,79,100,100,80,100,100,84,100,100,80,100,100,88,100,100,82,100,100,83,100,100,100,100,100,100,100,100,100,100,100],\"yaxis\":\"y\"}],                        {\"legend\":{\"title\":{\"text\":\"variable\"},\"tracegroupgap\":0},\"margin\":{\"t\":60},\"template\":{\"data\":{\"bar\":[{\"error_x\":{\"color\":\"#2a3f5f\"},\"error_y\":{\"color\":\"#2a3f5f\"},\"marker\":{\"line\":{\"color\":\"#E5ECF6\",\"width\":0.5},\"pattern\":{\"fillmode\":\"overlay\",\"size\":10,\"solidity\":0.2}},\"type\":\"bar\"}],\"barpolar\":[{\"marker\":{\"line\":{\"color\":\"#E5ECF6\",\"width\":0.5},\"pattern\":{\"fillmode\":\"overlay\",\"size\":10,\"solidity\":0.2}},\"type\":\"barpolar\"}],\"carpet\":[{\"aaxis\":{\"endlinecolor\":\"#2a3f5f\",\"gridcolor\":\"white\",\"linecolor\":\"white\",\"minorgridcolor\":\"white\",\"startlinecolor\":\"#2a3f5f\"},\"baxis\":{\"endlinecolor\":\"#2a3f5f\",\"gridcolor\":\"white\",\"linecolor\":\"white\",\"minorgridcolor\":\"white\",\"startlinecolor\":\"#2a3f5f\"},\"type\":\"carpet\"}],\"choropleth\":[{\"colorbar\":{\"outlinewidth\":0,\"ticks\":\"\"},\"type\":\"choropleth\"}],\"contour\":[{\"colorbar\":{\"outlinewidth\":0,\"ticks\":\"\"},\"colorscale\":[[0.0,\"#0d0887\"],[0.1111111111111111,\"#46039f\"],[0.2222222222222222,\"#7201a8\"],[0.3333333333333333,\"#9c179e\"],[0.4444444444444444,\"#bd3786\"],[0.5555555555555556,\"#d8576b\"],[0.6666666666666666,\"#ed7953\"],[0.7777777777777778,\"#fb9f3a\"],[0.8888888888888888,\"#fdca26\"],[1.0,\"#f0f921\"]],\"type\":\"contour\"}],\"contourcarpet\":[{\"colorbar\":{\"outlinewidth\":0,\"ticks\":\"\"},\"type\":\"contourcarpet\"}],\"heatmap\":[{\"colorbar\":{\"outlinewidth\":0,\"ticks\":\"\"},\"colorscale\":[[0.0,\"#0d0887\"],[0.1111111111111111,\"#46039f\"],[0.2222222222222222,\"#7201a8\"],[0.3333333333333333,\"#9c179e\"],[0.4444444444444444,\"#bd3786\"],[0.5555555555555556,\"#d8576b\"],[0.6666666666666666,\"#ed7953\"],[0.7777777777777778,\"#fb9f3a\"],[0.8888888888888888,\"#fdca26\"],[1.0,\"#f0f921\"]],\"type\":\"heatmap\"}],\"heatmapgl\":[{\"colorbar\":{\"outlinewidth\":0,\"ticks\":\"\"},\"colorscale\":[[0.0,\"#0d0887\"],[0.1111111111111111,\"#46039f\"],[0.2222222222222222,\"#7201a8\"],[0.3333333333333333,\"#9c179e\"],[0.4444444444444444,\"#bd3786\"],[0.5555555555555556,\"#d8576b\"],[0.6666666666666666,\"#ed7953\"],[0.7777777777777778,\"#fb9f3a\"],[0.8888888888888888,\"#fdca26\"],[1.0,\"#f0f921\"]],\"type\":\"heatmapgl\"}],\"histogram\":[{\"marker\":{\"pattern\":{\"fillmode\":\"overlay\",\"size\":10,\"solidity\":0.2}},\"type\":\"histogram\"}],\"histogram2d\":[{\"colorbar\":{\"outlinewidth\":0,\"ticks\":\"\"},\"colorscale\":[[0.0,\"#0d0887\"],[0.1111111111111111,\"#46039f\"],[0.2222222222222222,\"#7201a8\"],[0.3333333333333333,\"#9c179e\"],[0.4444444444444444,\"#bd3786\"],[0.5555555555555556,\"#d8576b\"],[0.6666666666666666,\"#ed7953\"],[0.7777777777777778,\"#fb9f3a\"],[0.8888888888888888,\"#fdca26\"],[1.0,\"#f0f921\"]],\"type\":\"histogram2d\"}],\"histogram2dcontour\":[{\"colorbar\":{\"outlinewidth\":0,\"ticks\":\"\"},\"colorscale\":[[0.0,\"#0d0887\"],[0.1111111111111111,\"#46039f\"],[0.2222222222222222,\"#7201a8\"],[0.3333333333333333,\"#9c179e\"],[0.4444444444444444,\"#bd3786\"],[0.5555555555555556,\"#d8576b\"],[0.6666666666666666,\"#ed7953\"],[0.7777777777777778,\"#fb9f3a\"],[0.8888888888888888,\"#fdca26\"],[1.0,\"#f0f921\"]],\"type\":\"histogram2dcontour\"}],\"mesh3d\":[{\"colorbar\":{\"outlinewidth\":0,\"ticks\":\"\"},\"type\":\"mesh3d\"}],\"parcoords\":[{\"line\":{\"colorbar\":{\"outlinewidth\":0,\"ticks\":\"\"}},\"type\":\"parcoords\"}],\"pie\":[{\"automargin\":true,\"type\":\"pie\"}],\"scatter\":[{\"marker\":{\"colorbar\":{\"outlinewidth\":0,\"ticks\":\"\"}},\"type\":\"scatter\"}],\"scatter3d\":[{\"line\":{\"colorbar\":{\"outlinewidth\":0,\"ticks\":\"\"}},\"marker\":{\"colorbar\":{\"outlinewidth\":0,\"ticks\":\"\"}},\"type\":\"scatter3d\"}],\"scattercarpet\":[{\"marker\":{\"colorbar\":{\"outlinewidth\":0,\"ticks\":\"\"}},\"type\":\"scattercarpet\"}],\"scattergeo\":[{\"marker\":{\"colorbar\":{\"outlinewidth\":0,\"ticks\":\"\"}},\"type\":\"scattergeo\"}],\"scattergl\":[{\"marker\":{\"colorbar\":{\"outlinewidth\":0,\"ticks\":\"\"}},\"type\":\"scattergl\"}],\"scattermapbox\":[{\"marker\":{\"colorbar\":{\"outlinewidth\":0,\"ticks\":\"\"}},\"type\":\"scattermapbox\"}],\"scatterpolar\":[{\"marker\":{\"colorbar\":{\"outlinewidth\":0,\"ticks\":\"\"}},\"type\":\"scatterpolar\"}],\"scatterpolargl\":[{\"marker\":{\"colorbar\":{\"outlinewidth\":0,\"ticks\":\"\"}},\"type\":\"scatterpolargl\"}],\"scatterternary\":[{\"marker\":{\"colorbar\":{\"outlinewidth\":0,\"ticks\":\"\"}},\"type\":\"scatterternary\"}],\"surface\":[{\"colorbar\":{\"outlinewidth\":0,\"ticks\":\"\"},\"colorscale\":[[0.0,\"#0d0887\"],[0.1111111111111111,\"#46039f\"],[0.2222222222222222,\"#7201a8\"],[0.3333333333333333,\"#9c179e\"],[0.4444444444444444,\"#bd3786\"],[0.5555555555555556,\"#d8576b\"],[0.6666666666666666,\"#ed7953\"],[0.7777777777777778,\"#fb9f3a\"],[0.8888888888888888,\"#fdca26\"],[1.0,\"#f0f921\"]],\"type\":\"surface\"}],\"table\":[{\"cells\":{\"fill\":{\"color\":\"#EBF0F8\"},\"line\":{\"color\":\"white\"}},\"header\":{\"fill\":{\"color\":\"#C8D4E3\"},\"line\":{\"color\":\"white\"}},\"type\":\"table\"}]},\"layout\":{\"annotationdefaults\":{\"arrowcolor\":\"#2a3f5f\",\"arrowhead\":0,\"arrowwidth\":1},\"autotypenumbers\":\"strict\",\"coloraxis\":{\"colorbar\":{\"outlinewidth\":0,\"ticks\":\"\"}},\"colorscale\":{\"diverging\":[[0,\"#8e0152\"],[0.1,\"#c51b7d\"],[0.2,\"#de77ae\"],[0.3,\"#f1b6da\"],[0.4,\"#fde0ef\"],[0.5,\"#f7f7f7\"],[0.6,\"#e6f5d0\"],[0.7,\"#b8e186\"],[0.8,\"#7fbc41\"],[0.9,\"#4d9221\"],[1,\"#276419\"]],\"sequential\":[[0.0,\"#0d0887\"],[0.1111111111111111,\"#46039f\"],[0.2222222222222222,\"#7201a8\"],[0.3333333333333333,\"#9c179e\"],[0.4444444444444444,\"#bd3786\"],[0.5555555555555556,\"#d8576b\"],[0.6666666666666666,\"#ed7953\"],[0.7777777777777778,\"#fb9f3a\"],[0.8888888888888888,\"#fdca26\"],[1.0,\"#f0f921\"]],\"sequentialminus\":[[0.0,\"#0d0887\"],[0.1111111111111111,\"#46039f\"],[0.2222222222222222,\"#7201a8\"],[0.3333333333333333,\"#9c179e\"],[0.4444444444444444,\"#bd3786\"],[0.5555555555555556,\"#d8576b\"],[0.6666666666666666,\"#ed7953\"],[0.7777777777777778,\"#fb9f3a\"],[0.8888888888888888,\"#fdca26\"],[1.0,\"#f0f921\"]]},\"colorway\":[\"#636efa\",\"#EF553B\",\"#00cc96\",\"#ab63fa\",\"#FFA15A\",\"#19d3f3\",\"#FF6692\",\"#B6E880\",\"#FF97FF\",\"#FECB52\"],\"font\":{\"color\":\"#2a3f5f\"},\"geo\":{\"bgcolor\":\"white\",\"lakecolor\":\"white\",\"landcolor\":\"#E5ECF6\",\"showlakes\":true,\"showland\":true,\"subunitcolor\":\"white\"},\"hoverlabel\":{\"align\":\"left\"},\"hovermode\":\"closest\",\"mapbox\":{\"style\":\"light\"},\"paper_bgcolor\":\"white\",\"plot_bgcolor\":\"#E5ECF6\",\"polar\":{\"angularaxis\":{\"gridcolor\":\"white\",\"linecolor\":\"white\",\"ticks\":\"\"},\"bgcolor\":\"#E5ECF6\",\"radialaxis\":{\"gridcolor\":\"white\",\"linecolor\":\"white\",\"ticks\":\"\"}},\"scene\":{\"xaxis\":{\"backgroundcolor\":\"#E5ECF6\",\"gridcolor\":\"white\",\"gridwidth\":2,\"linecolor\":\"white\",\"showbackground\":true,\"ticks\":\"\",\"zerolinecolor\":\"white\"},\"yaxis\":{\"backgroundcolor\":\"#E5ECF6\",\"gridcolor\":\"white\",\"gridwidth\":2,\"linecolor\":\"white\",\"showbackground\":true,\"ticks\":\"\",\"zerolinecolor\":\"white\"},\"zaxis\":{\"backgroundcolor\":\"#E5ECF6\",\"gridcolor\":\"white\",\"gridwidth\":2,\"linecolor\":\"white\",\"showbackground\":true,\"ticks\":\"\",\"zerolinecolor\":\"white\"}},\"shapedefaults\":{\"line\":{\"color\":\"#2a3f5f\"}},\"ternary\":{\"aaxis\":{\"gridcolor\":\"white\",\"linecolor\":\"white\",\"ticks\":\"\"},\"baxis\":{\"gridcolor\":\"white\",\"linecolor\":\"white\",\"ticks\":\"\"},\"bgcolor\":\"#E5ECF6\",\"caxis\":{\"gridcolor\":\"white\",\"linecolor\":\"white\",\"ticks\":\"\"}},\"title\":{\"x\":0.05},\"xaxis\":{\"automargin\":true,\"gridcolor\":\"white\",\"linecolor\":\"white\",\"ticks\":\"\",\"title\":{\"standoff\":15},\"zerolinecolor\":\"white\",\"zerolinewidth\":2},\"yaxis\":{\"automargin\":true,\"gridcolor\":\"white\",\"linecolor\":\"white\",\"ticks\":\"\",\"title\":{\"standoff\":15},\"zerolinecolor\":\"white\",\"zerolinewidth\":2}}},\"xaxis\":{\"anchor\":\"y\",\"domain\":[0.0,1.0],\"title\":{\"text\":\"date\"}},\"yaxis\":{\"anchor\":\"x\",\"domain\":[0.0,1.0],\"title\":{\"text\":\"value\"}}},                        {\"responsive\": true}                    ).then(function(){\n",
       "                            \n",
       "var gd = document.getElementById('09577c94-5f73-4bec-bc1a-65171f66d542');\n",
       "var x = new MutationObserver(function (mutations, observer) {{\n",
       "        var display = window.getComputedStyle(gd).display;\n",
       "        if (!display || display === 'none') {{\n",
       "            console.log([gd, 'removed!']);\n",
       "            Plotly.purge(gd);\n",
       "            observer.disconnect();\n",
       "        }}\n",
       "}});\n",
       "\n",
       "// Listen for the removal of the full notebook cells\n",
       "var notebookContainer = gd.closest('#notebook-container');\n",
       "if (notebookContainer) {{\n",
       "    x.observe(notebookContainer, {childList: true});\n",
       "}}\n",
       "\n",
       "// Listen for the clearing of the current output cell\n",
       "var outputEl = gd.closest('.output');\n",
       "if (outputEl) {{\n",
       "    x.observe(outputEl, {childList: true});\n",
       "}}\n",
       "\n",
       "                        })                };                });            </script>        </div>"
      ]
     },
     "metadata": {},
     "output_type": "display_data"
    }
   ],
   "source": [
    "#Number of stocks inv\n",
    "px.line(df_portfolio_weights_after_rebalancing[df_portfolio_weights_after_rebalancing>0].dropna().groupby(level=0).count()).show()"
   ]
  },
  {
   "cell_type": "markdown",
   "id": "fe39ce18",
   "metadata": {},
   "source": [
    "# SHAP"
   ]
  },
  {
   "cell_type": "code",
   "execution_count": 151,
   "id": "93a320c1",
   "metadata": {},
   "outputs": [
    {
     "name": "stderr",
     "output_type": "stream",
     "text": [
      "C:\\Users\\Marcus\\anaconda3\\envs\\quant\\lib\\site-packages\\shap\\explainers\\_tree.py:349: UserWarning:\n",
      "\n",
      "LightGBM binary classifier with TreeExplainer shap values output has changed to a list of ndarray\n",
      "\n"
     ]
    }
   ],
   "source": [
    "explainer = shap.TreeExplainer(clf)\n",
    "shap_values = explainer.shap_values(X)"
   ]
  },
  {
   "cell_type": "code",
   "execution_count": 152,
   "id": "d64be263",
   "metadata": {},
   "outputs": [
    {
     "data": {
      "image/png": "[encoded data removed]",
      "text/plain": [
       "<Figure size 576x684 with 1 Axes>"
      ]
     },
     "metadata": {
      "needs_background": "light"
     },
     "output_type": "display_data"
    }
   ],
   "source": [
    "shap.summary_plot(shap_values, X)"
   ]
  },
  {
   "cell_type": "code",
   "execution_count": null,
   "id": "98199d90",
   "metadata": {},
   "outputs": [],
   "source": []
  },
  {
   "cell_type": "code",
   "execution_count": null,
   "id": "bc000fc7",
   "metadata": {},
   "outputs": [],
   "source": []
  }
 ],
 "metadata": {
  "kernelspec": {
   "display_name": "Python 3",
   "language": "python",
   "name": "python3"
  },
  "language_info": {
   "codemirror_mode": {
    "name": "ipython",
    "version": 3
   },
   "file_extension": ".py",
   "mimetype": "text/x-python",
   "name": "python",
   "nbconvert_exporter": "python",
   "pygments_lexer": "ipython3",
   "version": "3.7.10"
  }
 },
 "nbformat": 4,
 "nbformat_minor": 5
}
